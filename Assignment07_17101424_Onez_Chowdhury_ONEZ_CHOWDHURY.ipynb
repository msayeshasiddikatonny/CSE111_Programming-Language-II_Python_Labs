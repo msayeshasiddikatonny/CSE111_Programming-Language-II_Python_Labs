{
  "nbformat": 4,
  "nbformat_minor": 0,
  "metadata": {
    "kernelspec": {
      "display_name": "Python 3",
      "language": "python",
      "name": "python3"
    },
    "language_info": {
      "codemirror_mode": {
        "name": "ipython",
        "version": 3
      },
      "file_extension": ".py",
      "mimetype": "text/x-python",
      "name": "python",
      "nbconvert_exporter": "python",
      "pygments_lexer": "ipython3",
      "version": "3.8.3"
    },
    "colab": {
      "name": "Assignment07_17101424_Onez_Chowdhury - ONEZ CHOWDHURY.ipynb",
      "provenance": [],
      "include_colab_link": true
    }
  },
  "cells": [
    {
      "cell_type": "markdown",
      "metadata": {
        "id": "view-in-github",
        "colab_type": "text"
      },
      "source": [
        "<a href=\"https://colab.research.google.com/github/msayeshasiddikatonny/CSE111_Python/blob/main/Assignment07_17101424_Onez_Chowdhury_ONEZ_CHOWDHURY.ipynb\" target=\"_parent\"><img src=\"https://colab.research.google.com/assets/colab-badge.svg\" alt=\"Open In Colab\"/></a>"
      ]
    },
    {
      "cell_type": "code",
      "metadata": {
        "id": "ckKZAovNffD7",
        "outputId": "935a2ced-7576-4b8d-c5dc-652d5de095fc"
      },
      "source": [
        "#Task_01\n",
        "\n",
        "class Student:\n",
        "    def __init__(self, name='Just a student', dept='nothing'):\n",
        "        self.__name = name\n",
        "        self.__department = dept\n",
        "\n",
        "    def set_department(self, dept):\n",
        "        self.__department = dept\n",
        "\n",
        "    def get_name(self):\n",
        "        return self.__name\n",
        "\n",
        "    def set_name(self, name):\n",
        "        self.__name = name\n",
        "\n",
        "    def __str__(self):\n",
        "        return 'Name: ' + self.__name + ' Department: ' + self.__department\n",
        "\n",
        "\n",
        "class BBA_Student(Student):\n",
        "    def __init__(self, name='default', dept='BBA'):\n",
        "        self.set_name(name)\n",
        "        self.set_department(dept)\n",
        "\n",
        "\n",
        "print(BBA_Student())\n",
        "print(BBA_Student('Humpty Dumpty'))\n",
        "print(BBA_Student('Little Bo Peep'))\n"
      ],
      "execution_count": null,
      "outputs": [
        {
          "output_type": "stream",
          "text": [
            "Name: default Department: BBA\n",
            "Name: Humpty Dumpty Department: BBA\n",
            "Name: Little Bo Peep Department: BBA\n"
          ],
          "name": "stdout"
        }
      ]
    },
    {
      "cell_type": "code",
      "metadata": {
        "id": "A0md3jurffEc",
        "outputId": "e99c4849-2574-4d12-a679-cabc25982405"
      },
      "source": [
        "#Task_02\n",
        "\n",
        "class Vehicle:\n",
        "    def __init__(self):\n",
        "        self.x = 0\n",
        "        self.y = 0\n",
        "\n",
        "    def moveUp(self):\n",
        "        self.y += 1\n",
        "\n",
        "    def moveDown(self):\n",
        "        self.y -= 1\n",
        "\n",
        "    def moveRight(self):\n",
        "        self.x += 1\n",
        "\n",
        "    def moveLeft(self):\n",
        "        self.x -= 1\n",
        "\n",
        "    def __str__(self):\n",
        "        return '('+str(self.x)+' , '+str(self.y)+')'\n",
        "\n",
        "\n",
        "class Vehicle2010(Vehicle):\n",
        "    def __init__(self):\n",
        "        super().__init__()\n",
        "        self.x = 0\n",
        "        self.y = 0\n",
        "\n",
        "    def moveUpperRight(self): #subtask 1\n",
        "        Vehicle.moveUp(self)\n",
        "        Vehicle.moveRight(self)\n",
        "\n",
        "    def moveUpperLeft(self):\n",
        "        Vehicle.moveUp(self)\n",
        "        Vehicle.moveLeft(self)\n",
        "\n",
        "    def moveLowerRight(self):\n",
        "        Vehicle.moveDown(self)\n",
        "        Vehicle.moveRight(self)\n",
        "\n",
        "    def moveLowerLeft(self):\n",
        "        Vehicle.moveDown(self)\n",
        "        Vehicle.moveLeft(self)\n",
        "\n",
        "    def equals(self, other): # subtask 2\n",
        "        if self.x == other.x and self.y == other.y:\n",
        "            return 'True'\n",
        "        else:\n",
        "            return 'False'\n",
        "\n",
        "\n",
        "print('Part 1')\n",
        "print('------')\n",
        "\n",
        "car = Vehicle()\n",
        "\n",
        "print(car)\n",
        "car.moveUp()\n",
        "print(car)\n",
        "car.moveLeft()\n",
        "print(car)\n",
        "car.moveDown()\n",
        "print(car)\n",
        "car.moveRight()\n",
        "print(car)\n",
        "\n",
        "print('------')\n",
        "print('Part 2')\n",
        "print('------')\n",
        "\n",
        "car1 = Vehicle2010()\n",
        "\n",
        "print(car1)\n",
        "car1.moveLowerLeft()\n",
        "print(car1)\n",
        "\n",
        "car2 = Vehicle2010()\n",
        "\n",
        "car2.moveLeft()\n",
        "print(car1.equals(car2))\n",
        "car2.moveDown()\n",
        "print(car1.equals(car2))\n",
        "print('------')\n"
      ],
      "execution_count": null,
      "outputs": [
        {
          "output_type": "stream",
          "text": [
            "Part 1\n",
            "------\n",
            "(0 , 0)\n",
            "(0 , 1)\n",
            "(-1 , 1)\n",
            "(-1 , 0)\n",
            "(0 , 0)\n",
            "------\n",
            "Part 2\n",
            "------\n",
            "(0 , 0)\n",
            "(-1 , -1)\n",
            "False\n",
            "True\n",
            "------\n"
          ],
          "name": "stdout"
        }
      ]
    },
    {
      "cell_type": "code",
      "metadata": {
        "id": "UXNPDwdNffEj",
        "outputId": "38bc9fd9-df5d-4822-e010-7e772b8c1edf"
      },
      "source": [
        "#Task_03\n",
        "\n",
        "class Tournament:\n",
        "    def __init__(self, name='Default'):\n",
        "        self.__name = name\n",
        "\n",
        "    def set_name(self, name):\n",
        "        self.__name = name\n",
        "\n",
        "    def get_name(self):\n",
        "        return self.__name\n",
        "\n",
        "\n",
        "class Cricket_Tournament(Tournament):\n",
        "    def __init__(self, name='Default', team_num=0, typ='No Type'):\n",
        "        super().__init__(name)\n",
        "        self.team_num = team_num\n",
        "        self.typ = typ\n",
        "        Tournament.set_name(self, name)\n",
        "\n",
        "    def detail(self):\n",
        "        return \"Cricket Tournament Name: \" + Tournament.get_name(self) + \"Number of Teams:\" + \\\n",
        "               str(self.team_num) + \"Type:\" + self.typ\n",
        "\n",
        "\n",
        "class Tennis_Tournament(Tournament):\n",
        "    def __init__(self, name='Default', team_num=0):\n",
        "        super().__init__(name)\n",
        "        self.team_num = team_num\n",
        "        Tournament.set_name(self, name)\n",
        "\n",
        "    def detail(self):\n",
        "        return \"Tennis Tournament Name: \" + Tournament.get_name(self) + \" Number of Teams: \" + str(self.team_num)\n",
        "\n",
        "\n",
        "ct1 = Cricket_Tournament()\n",
        "print(ct1.detail())\n",
        "print(\"-----------------------\")\n",
        "ct2 = Cricket_Tournament(\"IPL\", 10, \"t20\")\n",
        "print(ct2.detail())\n",
        "print(\"-----------------------\")\n",
        "tt = Tennis_Tournament(\"Roland Garros\", 128)\n",
        "print(tt.detail())\n"
      ],
      "execution_count": null,
      "outputs": [
        {
          "output_type": "stream",
          "text": [
            "Cricket Tournament Name: DefaultNumber of Teams:0Type:No Type\n",
            "-----------------------\n",
            "Cricket Tournament Name: IPLNumber of Teams:10Type:t20\n",
            "-----------------------\n",
            "Tennis Tournament Name: Roland Garros Number of Teams: 128\n"
          ],
          "name": "stdout"
        }
      ]
    },
    {
      "cell_type": "code",
      "metadata": {
        "id": "eZ-Py2V-ffEl",
        "outputId": "0cc9dad8-1b93-444a-bfe0-498d884f1395"
      },
      "source": [
        "#Task_04\n",
        "\n",
        "class Product:\n",
        "    def __init__(self, id, title, price):\n",
        "        self.__id = id\n",
        "        self.__title = title\n",
        "        self.__price = price\n",
        "\n",
        "    def get_id_title_price(self):\n",
        "        return \"ID: \" + str(self.__id) + \" Title: \" + self.__title + \" Price: \" + str(self.__price)\n",
        "\n",
        "\n",
        "class Book(Product):\n",
        "    def __init__(self, id, title, price, isbn, publisher):\n",
        "        self.isbn = isbn\n",
        "        self.publisher = publisher\n",
        "        super().__init__(id, title, price)\n",
        "\n",
        "    def printDetail(self):\n",
        "        return Product.get_id_title_price(self) + \" ISBN: \" + self.isbn + \" Publisher: \" + self.publisher\n",
        "\n",
        "\n",
        "class CD(Product):\n",
        "    def __init__(self, id, title, price, band, duration, genre):\n",
        "        self.band = band\n",
        "        self.duration = duration\n",
        "        self.genre = genre\n",
        "        super().__init__(id, title, price)\n",
        "\n",
        "    def printDetail(self):\n",
        "        return Product.get_id_title_price(self) + \" Band: \" + self.band + \" Duration: \" + \\\n",
        "               str(self.duration) + \"minutes \" + \"Genre: \" + self.genre\n",
        "\n",
        "\n",
        "book = Book(1, \"The Alchemist\", 500, \"97806\", \"HarperCollins\")\n",
        "print(book.printDetail())\n",
        "print(\"-----------------------\")\n",
        "cd = CD(2, \"Shotto\", 300, \"Warfaze\", 50, \"Hard Rock\")\n",
        "print(cd.printDetail())\n"
      ],
      "execution_count": null,
      "outputs": [
        {
          "output_type": "stream",
          "text": [
            "ID: 1 Title: The Alchemist Price: 500 ISBN: 97806 Publisher: HarperCollins\n",
            "-----------------------\n",
            "ID: 2 Title: Shotto Price: 300 Band: Warfaze Duration: 50minutes Genre: Hard Rock\n"
          ],
          "name": "stdout"
        }
      ]
    },
    {
      "cell_type": "code",
      "metadata": {
        "id": "RA6JqevXffEn",
        "outputId": "12d02dcb-ba39-462e-fb08-033c6713db43"
      },
      "source": [
        "#Task_05\n",
        "\n",
        "class Animal:\n",
        "    def __init__(self,sound):\n",
        "        self.__sound = sound\n",
        "    def makeSound(self):\n",
        "        return self.__sound\n",
        "    \n",
        "class Printer:\n",
        "    def printSound(self, a):\n",
        "        print(a.makeSound())\n",
        "        \n",
        "\n",
        "class Cat(Animal):\n",
        "    pass\n",
        "\n",
        "class Dog(Animal):\n",
        "    pass\n",
        "\n",
        "d1 = Dog('bark')\n",
        "c1 = Cat('meow')\n",
        "a1 = Animal('Animal does not make sound')\n",
        "pr = Printer()\n",
        "pr.printSound(a1)\n",
        "pr.printSound(c1)\n",
        "pr.printSound(d1)"
      ],
      "execution_count": null,
      "outputs": [
        {
          "output_type": "stream",
          "text": [
            "Animal does not make sound\n",
            "meow\n",
            "bark\n"
          ],
          "name": "stdout"
        }
      ]
    },
    {
      "cell_type": "code",
      "metadata": {
        "id": "yQrkY0TkffEp",
        "outputId": "2daec988-6cad-4f8b-fe5e-a449128da458"
      },
      "source": [
        "#Task_06\n",
        "\n",
        "class Shape:\n",
        "    def __init__(self, name='Default', height=0, base=0):\n",
        "        self.area = 0\n",
        "        self.name = name\n",
        "        self.height = height\n",
        "        self.base = base\n",
        "    def get_height_base(self):\n",
        "        return \"Height: \"+str(self.height)+\",Base: \"+str(self.base)\n",
        "    \n",
        "    \n",
        "class triangle(Shape):\n",
        "    def __init__(self,name=\"deafult\",height=0,base=0):\n",
        "        super().__init__(name,height,base)\n",
        "    def calcArea(self):\n",
        "        self.area=0.5*(self.height*self.base)\n",
        "    def printDetail(self):\n",
        "        output=self.get_height_base()\n",
        "        return(\"Shape Name:\"+self.name+output+\"\\nArea:\"+str(self.area))\n",
        "    \n",
        "    \n",
        "class trapezoid(Shape):\n",
        "    def __init__(self,name,height,base,side):\n",
        "        super().__init__(name,height,base)\n",
        "        self.side=side\n",
        "    def calcArea(self):\n",
        "        self.area=0.5*self.height*(self.base+self.side)\n",
        "    def printDetail(self):\n",
        "        output=self.get_height_base()\n",
        "        return(\"Shape Name:\"+self.name+output+\"\\nSide_A:\"+str(self.side)+\"Area:\"+str(self.area))\n",
        "    \n",
        "tri_default = triangle()\n",
        "tri_default.calcArea()\n",
        "print(tri_default.printDetail())\n",
        "print('--------------------------')\n",
        "tri = triangle('Triangle', 10, 5)\n",
        "tri.calcArea()\n",
        "print(tri.printDetail())\n",
        "print('---------------------------')\n",
        "trap = trapezoid('Trapezoid', 10, 6, 4)\n",
        "trap.calcArea()\n",
        "print(trap.printDetail())"
      ],
      "execution_count": null,
      "outputs": [
        {
          "output_type": "stream",
          "text": [
            "Shape Name:deafultHeight: 0,Base: 0\n",
            "Area:0.0\n",
            "--------------------------\n",
            "Shape Name:TriangleHeight: 10,Base: 5\n",
            "Area:25.0\n",
            "---------------------------\n",
            "Shape Name:TrapezoidHeight: 10,Base: 6\n",
            "Side_A:4Area:50.0\n"
          ],
          "name": "stdout"
        }
      ]
    },
    {
      "cell_type": "code",
      "metadata": {
        "id": "y4Sto5S5ffEr",
        "outputId": "d01f1f17-5118-4f94-a703-677e09b3d96b"
      },
      "source": [
        "#Task_07\n",
        "\n",
        "class Football:\n",
        "    def __init__(self, team_name, name, role):\n",
        "        self.__team = team_name\n",
        "        self.__name = name\n",
        "        self.role = role\n",
        "        self.earning_per_match = 0\n",
        "\n",
        "    def get_name_team(self):\n",
        "        return 'Name: ' + self.__name + ', Team Name: ' + self.__team\n",
        "\n",
        "\n",
        "class Player(Football):\n",
        "    def __init__(self, team_name, name, role, t_goal, t_played):\n",
        "        self.t_goal = t_goal\n",
        "        self.t_played = t_played\n",
        "        super().__init__(team_name, name, role)\n",
        "        self.ratio = 0.0\n",
        "\n",
        "    def calculate_ratio(self):\n",
        "        self.ratio = (self.t_goal * 1000) + (self.t_played * 10)\n",
        "\n",
        "    def print_details(self):\n",
        "        print(Player.get_name_team(self))\n",
        "        print(\"Team Role:\", self.role)\n",
        "        print(\"Total Goal:\", str(self.t_goal), \",Total Played:\", self.t_played)\n",
        "        print(\"Goal Ratio:\", (self.t_goal / self.t_played))\n",
        "        print(\"Match Earning: \", (self.t_goal * 1000) + (self.t_played * 10), \"K\")\n",
        "\n",
        "\n",
        "class Manager(Football):\n",
        "    def __init__(self, team_name, name, role, t_win):\n",
        "        self.t_win = t_win\n",
        "        super().__init__(team_name, name, role)\n",
        "        self.earning = 0\n",
        "\n",
        "    def print_details(self):\n",
        "        print(Player.get_name_team(self))\n",
        "        print(\"Team Role:\", self.role)\n",
        "        print(\"Total Win: \", self.t_win)\n",
        "        print(\"Match Earning:\", (self.t_win * 1000), \"K\")\n",
        "\n",
        "\n",
        "player_one = Player('Juventus', 'Ronaldo', 'Striker', 25, 32)\n",
        "player_one.calculate_ratio()\n",
        "player_one.print_details()\n",
        "print('------------------------------------------')\n",
        "manager_one = Manager('Real Madrid', 'Zidane', 'Manager', 25)\n",
        "manager_one.print_details()\n"
      ],
      "execution_count": null,
      "outputs": [
        {
          "output_type": "stream",
          "text": [
            "Name: Ronaldo, Team Name: Juventus\n",
            "Team Role: Striker\n",
            "Total Goal: 25 ,Total Played: 32\n",
            "Goal Ratio: 0.78125\n",
            "Match Earning:  25320 K\n",
            "------------------------------------------\n",
            "Name: Zidane, Team Name: Real Madrid\n",
            "Team Role: Manager\n",
            "Total Win:  25\n",
            "Match Earning: 25000 K\n"
          ],
          "name": "stdout"
        }
      ]
    }
  ]
}