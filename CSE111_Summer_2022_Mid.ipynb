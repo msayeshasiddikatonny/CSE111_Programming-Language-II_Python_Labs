{
  "nbformat": 4,
  "nbformat_minor": 0,
  "metadata": {
    "colab": {
      "provenance": [],
      "authorship_tag": "ABX9TyPzKhVG4uuT7A5JwcLS2Ct0",
      "include_colab_link": true
    },
    "kernelspec": {
      "name": "python3",
      "display_name": "Python 3"
    },
    "language_info": {
      "name": "python"
    }
  },
  "cells": [
    {
      "cell_type": "markdown",
      "metadata": {
        "id": "view-in-github",
        "colab_type": "text"
      },
      "source": [
        "<a href=\"https://colab.research.google.com/github/msayeshasiddikatonny/CSE111_Programming-Language-II_Python_Labs/blob/main/CSE111_Summer_2022_Mid.ipynb\" target=\"_parent\"><img src=\"https://colab.research.google.com/assets/colab-badge.svg\" alt=\"Open In Colab\"/></a>"
      ]
    },
    {
      "cell_type": "markdown",
      "source": [
        "**Question 1: CO2, CO4 [4 Points]**\\\n",
        "Design the Exam class with necessary properties so that the given output is produced:\\\n",
        "Output:\\\n",
        "Exam Type: Midterm\\\n",
        "Number of questions: 2\\\n",
        "Marks per questions: 10\\\n",
        "Total Marks: 20\\\n",
        "============================\\\n",
        "Exam Type: Final\\\n",
        "Number of questions: 3\\\n",
        "Marks per questions: 10\\\n",
        "Total Marks: 30\n"
      ],
      "metadata": {
        "id": "3HxUkwIzYFF6"
      }
    },
    {
      "cell_type": "code",
      "source": [
        "class Exam:\n",
        "  def __init__(self,nam,num,marks):\n",
        "    self.name=nam\n",
        "    self.number=num\n",
        "    self.marks=marks \n",
        "  def detail(self):\n",
        "    return \"Exam Type: \"+ self.name+\"\\nNumber of questions: \" +str(self.number)+\"\\nMarks per questions: \"+str(self.marks)+\"\\nTotal Marks: \" +str(self.marks*self.number)\n",
        "      \n",
        "\n",
        "\n",
        "e1 = Exam('Midterm', 2, 10)\n",
        "print(e1.detail())\n",
        "print(\"===========================\")\n",
        "e2 = Exam('Final', 3, 10)\n",
        "print(e2.detail())"
      ],
      "metadata": {
        "colab": {
          "base_uri": "https://localhost:8080/"
        },
        "id": "Svu53e3WYSGR",
        "outputId": "f83236c7-7a49-437a-f30c-4d2d1576b2bb"
      },
      "execution_count": null,
      "outputs": [
        {
          "output_type": "stream",
          "name": "stdout",
          "text": [
            "Exam Type: Midterm\n",
            "Number of questions: 2\n",
            "Marks per questions: 10\n",
            "Total Marks: 20\n",
            "===========================\n",
            "Exam Type: Final\n",
            "Number of questions: 3\n",
            "Marks per questions: 10\n",
            "Total Marks: 30\n"
          ]
        }
      ]
    },
    {
      "cell_type": "markdown",
      "source": [
        "**Question 2: CO4 [6 Points]**"
      ],
      "metadata": {
        "id": "cjPCNZgTXNZe"
      }
    },
    {
      "cell_type": "code",
      "source": [
        "class MidA:\n",
        "  def __init__(self):\n",
        "    self.x = 3\n",
        "    self.y = 7\n",
        "    self.sum = 0\n",
        "  def methodA(self, x):\n",
        "    self.y = x + self.sum + self.x\n",
        "    self.sum = x + self.y\n",
        "    z = MidA()\n",
        "    z.sum = self.sum + self.y\n",
        "    self.methodB(z)\n",
        "    print(self.x, self.y, self.sum)\n",
        "  def methodB(self, a):\n",
        "    y = 3\n",
        "    a.x = self.x + self.sum;\n",
        "    self.sum = a.x + a.y + y\n",
        "    print(a.x, a.y, a.sum)\n",
        "\n",
        "\n",
        "\n",
        "a = MidA()\n",
        "a.methodA(5)"
      ],
      "metadata": {
        "colab": {
          "base_uri": "https://localhost:8080/"
        },
        "id": "15wMWDqGCGmD",
        "outputId": "fbaac3ab-bb23-4efa-b362-e6a5cd7155d7"
      },
      "execution_count": 1,
      "outputs": [
        {
          "output_type": "stream",
          "name": "stdout",
          "text": [
            "16 7 21\n",
            "3 8 26\n"
          ]
        }
      ]
    },
    {
      "cell_type": "markdown",
      "source": [
        "**Question 3: CO2, CO4 [10 Points]**\n",
        "\n",
        "Suppose you are making a program for a Television remote control named “RickMote”. The TV\n",
        "channel provider has provided only 6 channels where the corresponding channel numbers are\n",
        "0,2,3,6,7,9. This is a vital information as you might need to store the list of channel numbers in\n",
        "an instance variable. Now your task is to design the “RickMote” class in such a way that the\n",
        "expected output is produced for the given code below: [Hint:\\\n",
        "• The channel numbers are not circular. So, channel number 0 is the first channel while 9\n",
        "is the last. You cannot go below channel number 0 and beyond channel number 9.\\\n",
        "• If power is turned off, there is no point in changing channel and volume.\\\n",
        "• Increasing channel number means going to the next channel in the channel list and\n",
        "decreasing it means going to the previous channel in the channel list.]\n",
        "\n",
        "\\\n",
        "\\\n",
        "Output:\\\n",
        "1.############################\\\n",
        "ID Cable Box Status:\\\n",
        "Cable Box is: ON\\\n",
        "Channel:0\\\n",
        "Volume:3\\\n",
        "2.############################\\\n",
        "ID Cable Box Status:\\\n",
        "Cable Box is: ON\\\n",
        "Channel:2\\\n",
        "Volume:4\\\n",
        "3.############################\\\n",
        "ID Cable Box Status:\\\n",
        "Cable Box is: OFF\\\n",
        "4.############################\\\n",
        "ID Cable Box Status:\\\n",
        "Cable Box is: ON\\\n",
        "Channel:3\\\n",
        "Volume:8\\\n",
        "5.############################\\\n",
        "ID Cable Box Status:\\\n",
        "Cable Box is: ON\\\n",
        "Channel:3\\\n",
        "Volume:6\\\n",
        "6.############################\\\n",
        "Power is turned off. Cannot change channel.\\\n",
        "Power is turned off. Cannot change volume.\\\n",
        "ID Cable Box Status:\\\n",
        "Cable Box is: OFF\\\n",
        "7.############################\\\n",
        "TV channel does not exist.\\\n",
        "ID Cable Box Status:\\\n",
        "Cable Box is: ON\\\n",
        "Channel:3\\\n",
        "Volume:6"
      ],
      "metadata": {
        "id": "wux4SsxMIHtv"
      }
    },
    {
      "cell_type": "code",
      "source": [
        "class RickMote:\n",
        "  l=[0,2,3,6,7,9]\n",
        "  def __init__(self):\n",
        "    self.p=''\n",
        "    self.c=  0\n",
        "    self.cnum=RickMote.l[0]\n",
        "    self.v=3\n",
        "\n",
        "\n",
        "  def power(self):\n",
        "    if self.p=='' or self.p==\"OFF\":\n",
        "      self.p=\"ON\"\n",
        "    else:\n",
        "      self.p=\"OFF\"\n",
        "  def showInfo (self):\n",
        "    print('ID Cable Box Status:')\n",
        "    print('Cable Box is:',self.p)\n",
        "    if self.p==\"ON\":\n",
        "      print('Channel:'+str(self.cnum))\n",
        "      print('Volume:'+str(self.v))\n",
        "\n",
        "\n",
        "\n",
        "  def changeChannel(self,num=None):\n",
        "    if self.p==\"OFF\":\n",
        "      print('Power is turned off. Cannot change channel.')\n",
        "    elif num==None and self.c< len(RickMote.l):\n",
        "      self.c=   self.c+1\n",
        "      self.cnum=RickMote.l[self.c]\n",
        "    elif num in RickMote.l:\n",
        "      self.cnum=num\n",
        "    else: \n",
        "      print('TV channel does not exist.')\n",
        "\n",
        "  def changeVolumeLevel(self,vol=None):\n",
        "    if self.p==\"OFF\":\n",
        "      print('Power is turned off. Cannot change volume.')\n",
        "    elif vol==None:\n",
        "      self.v=self.v+1\n",
        "    else:\n",
        "      self.v=self.v+ vol\n",
        "\n",
        "\n",
        "\n",
        " \n",
        "\n",
        "#Write your code here\n",
        "oTV = RickMote()\n",
        "oTV.power()\n",
        "print(\"1.############################\")\n",
        "oTV.showInfo()\n",
        "print(\"2.############################\")\n",
        "oTV.changeChannel()\n",
        "oTV.changeVolumeLevel()\n",
        "oTV.showInfo()\n",
        "print(\"3.############################\")\n",
        "oTV.power()\n",
        "oTV.showInfo()\n",
        "print(\"4.############################\")\n",
        "oTV.power()\n",
        "oTV.changeVolumeLevel(4)\n",
        "oTV.changeChannel(3)\n",
        "oTV.showInfo()\n",
        "print(\"5.############################\")\n",
        "oTV.changeVolumeLevel(-2)\n",
        "oTV.showInfo()\n",
        "print(\"6.############################\")\n",
        "oTV.power()\n",
        "oTV.changeChannel(9)\n",
        "oTV.changeVolumeLevel(-1)\n",
        "oTV.showInfo()\n",
        "print(\"7.############################\")\n",
        "oTV.power()\n",
        "oTV.changeChannel(11)\n",
        "oTV.showInfo()"
      ],
      "metadata": {
        "colab": {
          "base_uri": "https://localhost:8080/"
        },
        "id": "yi69UBtlIFIl",
        "outputId": "a607344b-3ef4-46a9-faa4-be699d6dfd23"
      },
      "execution_count": 3,
      "outputs": [
        {
          "output_type": "stream",
          "name": "stdout",
          "text": [
            "1.############################\n",
            "ID Cable Box Status:\n",
            "Cable Box is: ON\n",
            "Channel:0\n",
            "Volume:3\n",
            "2.############################\n",
            "ID Cable Box Status:\n",
            "Cable Box is: ON\n",
            "Channel:2\n",
            "Volume:4\n",
            "3.############################\n",
            "ID Cable Box Status:\n",
            "Cable Box is: OFF\n",
            "4.############################\n",
            "ID Cable Box Status:\n",
            "Cable Box is: ON\n",
            "Channel:3\n",
            "Volume:8\n",
            "5.############################\n",
            "ID Cable Box Status:\n",
            "Cable Box is: ON\n",
            "Channel:3\n",
            "Volume:6\n",
            "6.############################\n",
            "Power is turned off. Cannot change channel.\n",
            "Power is turned off. Cannot change volume.\n",
            "ID Cable Box Status:\n",
            "Cable Box is: OFF\n",
            "7.############################\n",
            "TV channel does not exist.\n",
            "ID Cable Box Status:\n",
            "Cable Box is: ON\n",
            "Channel:3\n",
            "Volume:6\n"
          ]
        }
      ]
    }
  ]
}