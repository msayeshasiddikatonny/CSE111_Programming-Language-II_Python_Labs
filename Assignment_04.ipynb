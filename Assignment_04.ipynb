{
  "nbformat": 4,
  "nbformat_minor": 5,
  "metadata": {
    "kernelspec": {
      "display_name": "Python 3",
      "language": "python",
      "name": "python3"
    },
    "language_info": {
      "codemirror_mode": {
        "name": "ipython",
        "version": 3
      },
      "file_extension": ".py",
      "mimetype": "text/x-python",
      "name": "python",
      "nbconvert_exporter": "python",
      "pygments_lexer": "ipython3",
      "version": "3.8.5"
    },
    "colab": {
      "name": "Assignment 04_20141015_Farhan - FARHAN AHMED.ipynb",
      "provenance": [],
      "include_colab_link": true
    }
  },
  "cells": [
    {
      "cell_type": "markdown",
      "metadata": {
        "id": "view-in-github",
        "colab_type": "text"
      },
      "source": [
        "<a href=\"https://colab.research.google.com/github/msayeshasiddikatonny/CSE111_Python/blob/main/Assignment_04_20141015_Farhan_FARHAN_AHMED.ipynb\" target=\"_parent\"><img src=\"https://colab.research.google.com/assets/colab-badge.svg\" alt=\"Open In Colab\"/></a>"
      ]
    },
    {
      "cell_type": "code",
      "metadata": {
        "id": "integrated-round",
        "outputId": "9e15efbf-ab7a-4c18-dcf1-890cf7985629"
      },
      "source": [
        "class Calculator:\n",
        "\n",
        "    def __init__(self, first_value, operator, second_value):\n",
        "        self.first_value = first_value\n",
        "        self.operator = operator\n",
        "        self.second_value = second_value\n",
        "\n",
        "\n",
        "    def add(self, first_value, second_value):\n",
        "        print(first_value + second_value)\n",
        "\n",
        "    def subtract(self, first_value, second_value):\n",
        "        print(first_value - second_value)\n",
        "\n",
        "    def multiply(self, first_value, second_value):\n",
        "        print(first_value * second_value)\n",
        "\n",
        "    def divide(self, first_value, second_value):\n",
        "        print(float(round(first_value / second_value, 2)))\n",
        "\n",
        "    def calculate(self):\n",
        "        if self.operator == \"+\":\n",
        "            self.add(self.first_value, self.second_value)\n",
        "        elif self.operator == \"-\":\n",
        "            self.subtract(self.first_value, self.second_value)\n",
        "        elif self.operator == \"*\":\n",
        "            self.multiply(self.first_value, self.second_value)\n",
        "        elif self.operator == \"/\":\n",
        "            self.divide(self.first_value, self.second_value)\n",
        "\n",
        "\n",
        "val1 = int(input(\"Value 1: \"))\n",
        "assigned_operator = input(\"Operator: \")\n",
        "val2 = int(input(\"Value 2: \"))\n",
        "\n",
        "calculator = Calculator(val1, assigned_operator, val2)\n",
        "print(\"Let’s Calculate!\")\n",
        "\n",
        "print(\"Value 1:\", val1)\n",
        "print(\"Operator:\", assigned_operator)\n",
        "print(\"Value 2:\", val2)\n",
        "print(\"Result: \", end=\"\")\n",
        "calculator.calculate()\n"
      ],
      "id": "integrated-round",
      "execution_count": null,
      "outputs": [
        {
          "output_type": "stream",
          "text": [
            "Value 1: 4\n",
            "Operator: +\n",
            "Value 2: 4\n",
            "Let’s Calculate!\n",
            "Value 1: 4\n",
            "Operator: +\n",
            "Value 2: 4\n",
            "Result: 8\n"
          ],
          "name": "stdout"
        }
      ]
    },
    {
      "cell_type": "markdown",
      "metadata": {
        "id": "insured-seating"
      },
      "source": [
        " <b><font color = black style = \"font-family:Times NEw Roman\">Task 2: </font>"
      ],
      "id": "insured-seating"
    },
    {
      "cell_type": "code",
      "metadata": {
        "id": "recovered-surprise",
        "outputId": "909d13f3-872d-4e5a-8a52-7e4a3b497687"
      },
      "source": [
        "class Customer:\n",
        "    def __init__(self, name):\n",
        "        self.name = name\n",
        "\n",
        "    def greet(self, name=None):\n",
        "        if name != None:\n",
        "            print(f\"Hello {name}!\")\n",
        "        else:\n",
        "            print(\"Hello!\")\n",
        "\n",
        "    def purchase(self, *items):\n",
        "        total = len(items)\n",
        "        print(f\"{self.name}, you purchased {total} items(s):\")\n",
        "        if total > 0:\n",
        "            for counter in items:\n",
        "                print(counter)\n",
        "\n",
        "\n",
        "customer_1 = Customer(\"Sam\")\n",
        "customer_1.greet()\n",
        "customer_1.purchase(\"chips\", \"chocolate\", \"orange juice\")\n",
        "print(\"-----------------------------\")\n",
        "customer_2 = Customer(\"David\")\n",
        "customer_2.greet(\"David\")\n",
        "customer_2.purchase(\"orange juice\")\n"
      ],
      "id": "recovered-surprise",
      "execution_count": null,
      "outputs": [
        {
          "output_type": "stream",
          "text": [
            "Hello!\n",
            "Sam, you purchased 3 items(s):\n",
            "chips\n",
            "chocolate\n",
            "orange juice\n",
            "-----------------------------\n",
            "Hello David!\n",
            "David, you purchased 1 items(s):\n",
            "orange juice\n"
          ],
          "name": "stdout"
        }
      ]
    },
    {
      "cell_type": "markdown",
      "metadata": {
        "id": "automotive-building"
      },
      "source": [
        " <b><font color = black style = \"font-family:Times NEw Roman\">Task 3: </font>"
      ],
      "id": "automotive-building"
    },
    {
      "cell_type": "code",
      "metadata": {
        "id": "broadband-element",
        "outputId": "d6660f27-7d9f-4ab4-c344-f987876acb45"
      },
      "source": [
        "class Panda:\n",
        "    \n",
        "    def __init__(self, name, gender, age):\n",
        "        self.name = name\n",
        "        self.gender = gender\n",
        "        self.age = age\n",
        "\n",
        "    def sleep(self, hour=None):\n",
        "        if hour == None:\n",
        "            return f\"{self.name}'s duration is unknown thus should have only bamboo leaves.\"\n",
        "        elif 3 <= hour <= 5:\n",
        "            return f\"{self.name} sleeps {hour} hours daily and should have Mixed Veggies.\"\n",
        "        elif 6 <= hour <= 8:\n",
        "            return f\"{self.name} sleeps {hour} hours daily and should have Eggplant & Tofu.\"\n",
        "        elif 9 <= hour <= 11:\n",
        "            return f\"{self.name} sleeps {hour} hours daily and should have Broccoli Chicken.\"\n",
        "\n",
        "\n",
        "panda1 = Panda(\"Kunfu\", \"Male\", 5)\n",
        "panda2 = Panda(\"Pan Pan\", \"Female\", 3)\n",
        "panda3 = Panda(\"Ming Ming\", \"Female\", 8)\n",
        "print(\"{} is a {} Panda Bear who is {} years old\".format(panda1.name, panda1.gender, panda1.age))\n",
        "print(\"{} is a {} Panda Bear who is {} years old\".format(panda2.name, panda2.gender, panda2.age))\n",
        "print(\"{} is a {} Panda Bear who is {} years old\".format(panda3.name, panda3.gender, panda3.age))\n",
        "print(\"===========================\")\n",
        "print(panda2.sleep(10))\n",
        "print(panda1.sleep(4))\n",
        "print(panda3.sleep())"
      ],
      "id": "broadband-element",
      "execution_count": null,
      "outputs": [
        {
          "output_type": "stream",
          "text": [
            "Kunfu is a Male Panda Bear who is 5 years old\n",
            "Pan Pan is a Female Panda Bear who is 3 years old\n",
            "Ming Ming is a Female Panda Bear who is 8 years old\n",
            "===========================\n",
            "Pan Pan sleeps 10 hours daily and should have Broccoli Chicken.\n",
            "Kunfu sleeps 4 hours daily and should have Mixed Veggies.\n",
            "Ming Ming's duration is unknown thus should have only bamboo leaves.\n"
          ],
          "name": "stdout"
        }
      ]
    },
    {
      "cell_type": "markdown",
      "metadata": {
        "id": "tamil-drink"
      },
      "source": [
        " <b><font color = black style = \"font-family:Times NEw Roman\">Task 4: </font>"
      ],
      "id": "tamil-drink"
    },
    {
      "cell_type": "code",
      "metadata": {
        "id": "smoking-delight",
        "outputId": "b1e666c4-d865-4969-8246-3c7da4cfd9c8"
      },
      "source": [
        "class Cat:\n",
        "    def __init__(self, cat_color=\"White\", cat_activity=\"sitting\"):\n",
        "        self.cat_color = cat_color\n",
        "        self.cat_activity = cat_activity\n",
        "\n",
        "    def printCat(self):\n",
        "        print(f\"{self.cat_color} cat is {self.cat_activity}.\")\n",
        "\n",
        "    def changeColor(self, changedColor):\n",
        "        self.cat_color = changedColor\n",
        "\n",
        "        \n",
        "c1 = Cat()\n",
        "c2 = Cat(\"Black\")\n",
        "c3 = Cat(\"Brown\", \"jumping\")\n",
        "c4 = Cat(\"Red\", \"purring\")\n",
        "c1.printCat()\n",
        "c2.printCat()\n",
        "c3.printCat()\n",
        "c4.printCat()\n",
        "c1.changeColor(\"Blue\")\n",
        "c3.changeColor(\"Purple\")\n",
        "c1.printCat()\n",
        "c3.printCat()\n",
        "\n"
      ],
      "id": "smoking-delight",
      "execution_count": null,
      "outputs": [
        {
          "output_type": "stream",
          "text": [
            "White cat is sitting.\n",
            "Black cat is sitting.\n",
            "Brown cat is jumping.\n",
            "Red cat is purring.\n",
            "Blue cat is sitting.\n",
            "Purple cat is jumping.\n"
          ],
          "name": "stdout"
        }
      ]
    },
    {
      "cell_type": "markdown",
      "metadata": {
        "id": "signal-actress"
      },
      "source": [
        " <b><font color = black style = \"font-family:Times NEw Roman\">Task 5: </font>"
      ],
      "id": "signal-actress"
    },
    {
      "cell_type": "code",
      "metadata": {
        "id": "dominant-ballet",
        "outputId": "6693571f-846e-48ce-ea59-fcaa03c0f512"
      },
      "source": [
        "class Student:\n",
        "    def __init__(self, s_name=\"default student\"):\n",
        "        self.s_name = s_name\n",
        "        self.s_result = 0\n",
        "\n",
        "    def quizcalc(self, *numbers):\n",
        "        total = 3\n",
        "        sum = 0\n",
        "        for count in numbers:\n",
        "            sum += count\n",
        "        self.s_result = sum / total\n",
        "\n",
        "    def printdetail(self):\n",
        "        print(f\"Hello {self.s_name} \\nYour average quiz score is {self.s_result}\")\n",
        "\n",
        "\n",
        "s1 = Student()\n",
        "s1.quizcalc(10)\n",
        "print('--------------------------------')\n",
        "s1.printdetail()\n",
        "s2 = Student('Harry')\n",
        "s2.quizcalc(10, 8)\n",
        "print('--------------------------------')\n",
        "s2.printdetail()\n",
        "s3 = Student('Hermione')\n",
        "s3.quizcalc(10, 9, 10)\n",
        "print('--------------------------------')\n",
        "s3.printdetail()\n"
      ],
      "id": "dominant-ballet",
      "execution_count": null,
      "outputs": [
        {
          "output_type": "stream",
          "text": [
            "--------------------------------\n",
            "Hello default student \n",
            "Your average quiz score is 3.3333333333333335\n",
            "--------------------------------\n",
            "Hello Harry \n",
            "Your average quiz score is 6.0\n",
            "--------------------------------\n",
            "Hello Hermione \n",
            "Your average quiz score is 9.666666666666666\n"
          ],
          "name": "stdout"
        }
      ]
    },
    {
      "cell_type": "markdown",
      "metadata": {
        "id": "ruled-compromise"
      },
      "source": [
        " <b><font color = black style = \"font-family:Times NEw Roman\">Task 6: </font>"
      ],
      "id": "ruled-compromise"
    },
    {
      "cell_type": "code",
      "metadata": {
        "id": "super-communist",
        "outputId": "d01af940-0d80-4557-e79b-c684c566a86b"
      },
      "source": [
        "class Vehicle:\n",
        "    def __init__(self):\n",
        "        self.left = 0\n",
        "        self.right = 0\n",
        "        self.position = (self.left, self.right)\n",
        "\n",
        "    def moveUp(self):\n",
        "        self.right += 1\n",
        "        self.position = (self.left, self.right)\n",
        "\n",
        "    def moveDown(self):\n",
        "        self.right -= 1\n",
        "        self.position = (self.left, self.right)\n",
        "\n",
        "    def moveRight(self):\n",
        "        self.right += 1\n",
        "        self.position = (self.left, self.right)\n",
        "\n",
        "    def moveLeft(self):\n",
        "        self.left -= 1\n",
        "        self.position = (self.left, self.right)\n",
        "\n",
        "    def print_position(self):\n",
        "        print(self.position)\n",
        "\n",
        "\n",
        "car = Vehicle()\n",
        "car.print_position()\n",
        "car.moveUp()\n",
        "car.print_position()\n",
        "car.moveLeft()\n",
        "car.print_position()\n",
        "car.moveDown()\n",
        "car.print_position()\n",
        "car.moveRight()\n"
      ],
      "id": "super-communist",
      "execution_count": null,
      "outputs": [
        {
          "output_type": "stream",
          "text": [
            "(0, 0)\n",
            "(0, 1)\n",
            "(-1, 1)\n",
            "(-1, 0)\n"
          ],
          "name": "stdout"
        }
      ]
    },
    {
      "cell_type": "markdown",
      "metadata": {
        "id": "whole-membership"
      },
      "source": [
        " <b><font color = black style = \"font-family:Times NEw Roman\">Task 7: </font>"
      ],
      "id": "whole-membership"
    },
    {
      "cell_type": "code",
      "metadata": {
        "id": "utility-poultry",
        "outputId": "2c54810c-439c-4a9b-c2c4-6bdbf6479277"
      },
      "source": [
        "class Programmer:\n",
        "\n",
        "    def __init__(self, p_name, coding_language, p_exp):\n",
        "        self.p_name = p_name\n",
        "        self.coding_language = coding_language\n",
        "        self.p_exp = p_exp\n",
        "\n",
        "        print(\"Horray! A new programmer is born\")\n",
        "\n",
        "    def addExp(self, new_exp):\n",
        "        self.p_exp += new_exp\n",
        "        print(f\"Updating experience of {self.p_name}\")\n",
        "\n",
        "    def printDetails(self):\n",
        "        print(f\"Name: {self.p_name}\\nLanguage: {self.coding_language}\\nExperience: {self.p_exp} years.\")\n",
        "\n",
        "\n",
        "\n",
        "p1 = Programmer(\"Ethen Hunt\", \"Java\", 10)\n",
        "p1.printDetails()\n",
        "print('--------------------------')\n",
        "p2 = Programmer(\"James Bond\", \"C++\", 7)\n",
        "p2.printDetails()\n",
        "print('--------------------------')\n",
        "p3 = Programmer(\"Jon Snow\", \"Python\", 4)\n",
        "p3.printDetails()\n",
        "p3.addExp(5)\n",
        "p3.printDetails()\n"
      ],
      "id": "utility-poultry",
      "execution_count": null,
      "outputs": [
        {
          "output_type": "stream",
          "text": [
            "Horray! A new programmer is born\n",
            "Name: Ethen Hunt\n",
            "Language: Java\n",
            "Experience: 10 years.\n",
            "--------------------------\n",
            "Horray! A new programmer is born\n",
            "Name: James Bond\n",
            "Language: C++\n",
            "Experience: 7 years.\n",
            "--------------------------\n",
            "Horray! A new programmer is born\n",
            "Name: Jon Snow\n",
            "Language: Python\n",
            "Experience: 4 years.\n",
            "Updating experience of Jon Snow\n",
            "Name: Jon Snow\n",
            "Language: Python\n",
            "Experience: 9 years.\n"
          ],
          "name": "stdout"
        }
      ]
    },
    {
      "cell_type": "markdown",
      "metadata": {
        "id": "pending-wallpaper"
      },
      "source": [
        " <b><font color = black style = \"font-family:Times NEw Roman\">Task 8: </font>"
      ],
      "id": "pending-wallpaper"
    },
    {
      "cell_type": "code",
      "metadata": {
        "id": "united-burner",
        "outputId": "1ad82a38-a698-484e-af71-d3c14166c708"
      },
      "source": [
        "class Student:\n",
        "    \n",
        "    def __init__(self, s_name=None, s_id=None, s_department=\"CSE\"):\n",
        "        self.s_name = s_name\n",
        "        self.s_id = s_id\n",
        "        self.s_department = s_department\n",
        "        self.suggestion = \"\"\n",
        "        self.hour = 0\n",
        "\n",
        "    def dailyEffort(self, hour):\n",
        "        self.hour = hour\n",
        "        if hour <= 2:\n",
        "            self.suggestion = \"Should give more effort!\"\n",
        "        elif hour <= 4:\n",
        "            self.suggestion = \"Keep up the good work!\"\n",
        "        else:\n",
        "            self.suggestion = \"Excellent! Now motivate others.\"\n",
        "\n",
        "    def printDetails(self):\n",
        "        print(f\"Name: {self.s_name}\\nId: {self.s_id}\\nDepartment: {self.s_department}\\nDaily Effort: {self.hour} hours(s)\\nSuggestion: {self.suggestion}\")\n",
        "\n",
        "\n",
        "harry = Student('Harry Potter', 123)\n",
        "harry.dailyEffort(3)\n",
        "harry.printDetails()\n",
        "print('========================')\n",
        "john = Student(\"John Wick\", 456, \"BBA\")\n",
        "john.dailyEffort(2)\n",
        "john.printDetails()\n",
        "print('========================')\n",
        "naruto = Student(\"Naruto Uzumaki\", 777, \"Ninja\")\n",
        "naruto.dailyEffort(6)\n",
        "naruto.printDetails()\n"
      ],
      "id": "united-burner",
      "execution_count": null,
      "outputs": [
        {
          "output_type": "stream",
          "text": [
            "Name: Harry Potter\n",
            "Id: 123\n",
            "Department: CSE\n",
            "Daily Effort: 3 hours(s)\n",
            "Suggestion: Keep up the good work!\n",
            "========================\n",
            "Name: John Wick\n",
            "Id: 456\n",
            "Department: BBA\n",
            "Daily Effort: 2 hours(s)\n",
            "Suggestion: Should give more effort!\n",
            "========================\n",
            "Name: Naruto Uzumaki\n",
            "Id: 777\n",
            "Department: Ninja\n",
            "Daily Effort: 6 hours(s)\n",
            "Suggestion: Excellent! Now motivate others.\n"
          ],
          "name": "stdout"
        }
      ]
    },
    {
      "cell_type": "markdown",
      "metadata": {
        "id": "corporate-captain"
      },
      "source": [
        " <b><font color = black style = \"font-family:Times NEw Roman\">Task 9: </font>"
      ],
      "id": "corporate-captain"
    },
    {
      "cell_type": "code",
      "metadata": {
        "id": "familiar-drill",
        "outputId": "267c368a-460b-485b-9e79-5c9ab5862340"
      },
      "source": [
        "class Patient:\n",
        "    def __init__(self, p_name, p_age):\n",
        "        self.p_name = p_name\n",
        "        self.p_age = p_age\n",
        "        self.symptoms = []\n",
        "\n",
        "    def add_Symptom(self, *symptoms_list):\n",
        "        \n",
        "        if len(symptoms_list) > 0:\n",
        "            for symptoms in symptoms_list:\n",
        "                self.symptoms.append(symptoms)\n",
        "\n",
        "    def printPatientDetail(self):\n",
        "        \n",
        "        print(f\"Name: {self.p_name}\\nAge: {self.p_age}\\nSymptoms: \", end=\"\")\n",
        "        \n",
        "        if len(self.symptoms) > 0:\n",
        "            for sym in range(len(self.symptoms)):\n",
        "                if sym == len(self.symptoms) - 1:\n",
        "                    print(self.symptoms[sym], end=\"\\n\")\n",
        "                else:\n",
        "                    print(self.symptoms[sym], end=\", \")\n",
        "\n",
        "\n",
        "p1 = Patient(\"Thomas\", 23)\n",
        "p1.add_Symptom(\"Headache\")\n",
        "p2 = Patient(\"Carol\", 20)\n",
        "p2.add_Symptom(\"Vomiting\", \"Coughing\")\n",
        "p3 = Patient(\"Mike\", 25)\n",
        "p3.add_Symptom(\"Fever\", \"Headache\", \"Coughing\")\n",
        "print(\"=========================\")\n",
        "p1.printPatientDetail()\n",
        "print(\"=========================\")\n",
        "p2.printPatientDetail()\n",
        "print(\"=========================\")\n",
        "p3.printPatientDetail()\n",
        "print(\"=========================\")\n"
      ],
      "id": "familiar-drill",
      "execution_count": null,
      "outputs": [
        {
          "output_type": "stream",
          "text": [
            "=========================\n",
            "Name: Thomas\n",
            "Age: 23\n",
            "Symptoms: Headache\n",
            "=========================\n",
            "Name: Carol\n",
            "Age: 20\n",
            "Symptoms: Vomiting, Coughing\n",
            "=========================\n",
            "Name: Mike\n",
            "Age: 25\n",
            "Symptoms: Fever, Headache, Coughing\n",
            "=========================\n"
          ],
          "name": "stdout"
        }
      ]
    },
    {
      "cell_type": "markdown",
      "metadata": {
        "id": "satisfactory-turkey"
      },
      "source": [
        " <b><font color = black style = \"font-family:Times NEw Roman\">Task 10: </font>"
      ],
      "id": "satisfactory-turkey"
    },
    {
      "cell_type": "code",
      "metadata": {
        "id": "peripheral-volunteer",
        "outputId": "9ad7c2a9-49c4-4b48-a57c-1a5cdf983587"
      },
      "source": [
        "class Avengers:\n",
        "    def __init__(self, avengers_name, partner):\n",
        "        self.avengers_name = avengers_name\n",
        "        self.partner = partner\n",
        "        self.powers_list = []\n",
        "\n",
        "    def super_powers(self, *powers):\n",
        "        if len(powers) > 0:\n",
        "            for pow in powers:\n",
        "                self.powers_list.append(pow)\n",
        "\n",
        "    def printAvengersDetail(self):\n",
        "        \n",
        "        print(f\"Name: {self.avengers_name}\\nPartner: {self.partner}\\nSuper powers: \", end=\"\")\n",
        "        \n",
        "        for pow in range(len(self.powers_list)):\n",
        "            if len(self.powers_list) > 0:\n",
        "                if pow == len(self.powers_list) - 1:\n",
        "                    print(self.powers_list[pow], end=\"\\n\")\n",
        "                else:\n",
        "                    print(self.powers_list[pow], end=\", \")\n",
        "\n",
        "\n",
        "a1 = Avengers('Captain America', 'Bucky Barnes')\n",
        "a1.super_powers('Stamina', 'Slowed ageing')\n",
        "a2 = Avengers('Doctor Strange', 'Ancient One')\n",
        "a2.super_powers('Mastery of magic')\n",
        "a3 = Avengers('Iron Man', 'War Machine')\n",
        "a3.super_powers('Genius level intellect', 'Scientist ')\n",
        "print(\"=========================\")\n",
        "a1.printAvengersDetail()\n",
        "print(\"=========================\")\n",
        "a2.printAvengersDetail()\n",
        "print(\"=========================\")\n",
        "a3.printAvengersDetail()\n",
        "print(\"=========================\")\n",
        "\n"
      ],
      "id": "peripheral-volunteer",
      "execution_count": null,
      "outputs": [
        {
          "output_type": "stream",
          "text": [
            "=========================\n",
            "Name: Captain America\n",
            "Partner: Bucky Barnes\n",
            "Super powers: Stamina, Slowed ageing\n",
            "=========================\n",
            "Name: Doctor Strange\n",
            "Partner: Ancient One\n",
            "Super powers: Mastery of magic\n",
            "=========================\n",
            "Name: Iron Man\n",
            "Partner: War Machine\n",
            "Super powers: Genius level intellect, Scientist \n",
            "=========================\n"
          ],
          "name": "stdout"
        }
      ]
    },
    {
      "cell_type": "markdown",
      "metadata": {
        "id": "adjustable-adventure"
      },
      "source": [
        " <b><font color = black style = \"font-family:Times NEw Roman\">Task 11: </font>"
      ],
      "id": "adjustable-adventure"
    },
    {
      "cell_type": "code",
      "metadata": {
        "id": "descending-combining",
        "outputId": "4112ccce-7cbd-4258-f1f2-02439b4df1d8"
      },
      "source": [
        "class Shinobi:\n",
        "    \n",
        "    def __init__(self, shinobi_name, shinobi_rank):\n",
        "        self.shinobi_name = shinobi_name\n",
        "        self.promoted_rank = shinobi_rank\n",
        "        self.salary = 0\n",
        "        self.mission = 0\n",
        "\n",
        "    def changeRank(self, promoted_rank):\n",
        "        self.promoted_rank = promoted_rank\n",
        "\n",
        "    def calSalary(self, mission):\n",
        "        \n",
        "        self.mission = mission\n",
        "        \n",
        "        if self.promoted_rank == \"Genin\":\n",
        "            self.salary = self.mission * 50\n",
        "        elif self.promoted_rank == \"Chunin\":\n",
        "            self.salary = self.mission * 100\n",
        "        else:\n",
        "            self.salary = self.mission * 500\n",
        "\n",
        "    def printInfo(self):\n",
        "        print(f\"Name: {self.shinobi_name}\\nRank: {self.promoted_rank}\\nNumber of mission: {self.mission}\\nSalary: {self.salary}\")\n",
        "\n",
        "\n",
        "naruto = Shinobi(\"Naruto\", \"Genin\")\n",
        "naruto.calSalary(5)\n",
        "naruto.printInfo()\n",
        "print('====================')\n",
        "shikamaru = Shinobi('Shikamaru', \"Genin\")\n",
        "shikamaru.printInfo()\n",
        "shikamaru.changeRank(\"Chunin\")\n",
        "shikamaru.calSalary(10)\n",
        "shikamaru.printInfo()\n",
        "print('====================')\n",
        "neiji = Shinobi(\"Neiji\", \"Jonin\")\n",
        "neiji.calSalary(5)\n",
        "neiji.printInfo()\n"
      ],
      "id": "descending-combining",
      "execution_count": null,
      "outputs": [
        {
          "output_type": "stream",
          "text": [
            "Name: Naruto\n",
            "Rank: Genin\n",
            "Number of mission: 5\n",
            "Salary: 250\n",
            "====================\n",
            "Name: Shikamaru\n",
            "Rank: Genin\n",
            "Number of mission: 0\n",
            "Salary: 0\n",
            "Name: Shikamaru\n",
            "Rank: Chunin\n",
            "Number of mission: 10\n",
            "Salary: 1000\n",
            "====================\n",
            "Name: Neiji\n",
            "Rank: Jonin\n",
            "Number of mission: 5\n",
            "Salary: 2500\n"
          ],
          "name": "stdout"
        }
      ]
    },
    {
      "cell_type": "markdown",
      "metadata": {
        "id": "elder-drinking"
      },
      "source": [
        " <b><font color = black style = \"font-family:Times NEw Roman\">Task 12: </font>"
      ],
      "id": "elder-drinking"
    },
    {
      "cell_type": "code",
      "metadata": {
        "id": "linear-trigger",
        "outputId": "5a7807b2-8ece-42c9-aef7-96c1eac16227"
      },
      "source": [
        "class ParcelKoro:\n",
        "\n",
        "    def __init__(self, product_name=None, product_weight=0):\n",
        "        self.product_name = product_name\n",
        "        self.product_weight = product_weight\n",
        "        self.total = 0\n",
        "        self.location = None\n",
        "\n",
        "    def calculateFee(self, location=None):\n",
        "\n",
        "        delivery_charge = 0\n",
        "\n",
        "        if self.product_weight != 0:\n",
        "            if location == None:\n",
        "                delivery_charge = 50\n",
        "            else:\n",
        "                delivery_charge = 100\n",
        "\n",
        "        self.total = (self.product_weight * 20) + delivery_charge\n",
        "\n",
        "    def printDetails(self):\n",
        "\n",
        "        if self.product_name == None:\n",
        "            print(f\"Customer Name: No name set\\nProduct Weight: {self.product_weight}\\nTotal fee: {self.total}\")\n",
        "        else:\n",
        "            print(f\"Customer Name: {self.product_name}\\nProduct Weight: {self.product_weight}\\nTotal fee: {self.total}\")\n",
        "\n",
        "\n",
        "print(\"**********************\")\n",
        "p1 = ParcelKoro()\n",
        "p1.calculateFee()\n",
        "p1.printDetails()\n",
        "print(\"**********************\")\n",
        "p2 = ParcelKoro('Bob The Builder')\n",
        "p2.calculateFee()\n",
        "p2.printDetails()\n",
        "print(\"----------------------------\")\n",
        "p2.product_weight = 15\n",
        "p2.calculateFee()\n",
        "p2.printDetails()\n",
        "print(\"**********************\")\n",
        "p3 = ParcelKoro('Dora The Explorer', 10)\n",
        "p3.calculateFee('Dhanmondi')\n",
        "p3.printDetails()\n"
      ],
      "id": "linear-trigger",
      "execution_count": null,
      "outputs": [
        {
          "output_type": "stream",
          "text": [
            "**********************\n",
            "Customer Name: No name set\n",
            "Product Weight: 0\n",
            "Total fee: 0\n",
            "**********************\n",
            "Customer Name: Bob The Builder\n",
            "Product Weight: 0\n",
            "Total fee: 0\n",
            "----------------------------\n",
            "Customer Name: Bob The Builder\n",
            "Product Weight: 15\n",
            "Total fee: 350\n",
            "**********************\n",
            "Customer Name: Dora The Explorer\n",
            "Product Weight: 10\n",
            "Total fee: 300\n"
          ],
          "name": "stdout"
        }
      ]
    },
    {
      "cell_type": "markdown",
      "metadata": {
        "id": "valid-article"
      },
      "source": [
        " <b><font color = black style = \"font-family:Times NEw Roman\">Task 13: </font>"
      ],
      "id": "valid-article"
    },
    {
      "cell_type": "code",
      "metadata": {
        "id": "bound-equation",
        "outputId": "7ab8da65-645e-496f-c865-184a6ac7d9f2"
      },
      "source": [
        "class Batsman:\n",
        "\n",
        "    def __init__(self, *info):\n",
        "        self.strikeRate = 0\n",
        "        self.name = None\n",
        "        self.runs = 0\n",
        "        self.balls = 0\n",
        "        if len(info) == 2:\n",
        "            self.runs = info[0]\n",
        "            self.balls = info[1]\n",
        "        elif len(info) == 3:\n",
        "            self.name = info[0]\n",
        "            self.runs = info[1]\n",
        "            self.balls = info[2]\n",
        "\n",
        "    def printCareerStatistics(self):\n",
        "        if self.name != None:\n",
        "            print(f\"Name: {self.name}\\nRuns Scored: {self.runs} , Balls Faced: {self.balls}\")\n",
        "        else:\n",
        "            print(f\"Name: New Batsman\\nRuns Scored: {self.runs} , Balls Faced: {self.balls}\")\n",
        "\n",
        "    def battingStrikeRate(self):\n",
        "        if self.balls != 0:\n",
        "            self.strikeRate = (self.runs / self.balls) * 100\n",
        "        else:\n",
        "            self.strikeRate = 0\n",
        "        return self.strikeRate\n",
        "\n",
        "    def setName(self, new_name):\n",
        "        self.name = new_name\n",
        "\n",
        "\n",
        "b1 = Batsman(6101, 7380)\n",
        "b1.printCareerStatistics()\n",
        "print(\"============================\")\n",
        "b2 = Batsman(\"Liton Das\", 678, 773)\n",
        "b2.printCareerStatistics()\n",
        "print(\"----------------------------\")\n",
        "print(b2.battingStrikeRate())\n",
        "print(\"============================\")\n",
        "b1.setName(\"Shakib Al Hasan\")\n",
        "b1.printCareerStatistics()\n",
        "print(\"----------------------------\")\n",
        "print(b1.battingStrikeRate())\n"
      ],
      "id": "bound-equation",
      "execution_count": null,
      "outputs": [
        {
          "output_type": "stream",
          "text": [
            "Name: New Batsman\n",
            "Runs Scored: 6101 , Balls Faced: 7380\n",
            "============================\n",
            "Name: Liton Das\n",
            "Runs Scored: 678 , Balls Faced: 773\n",
            "----------------------------\n",
            "87.71021992238033\n",
            "============================\n",
            "Name: Shakib Al Hasan\n",
            "Runs Scored: 6101 , Balls Faced: 7380\n",
            "----------------------------\n",
            "82.66937669376694\n"
          ],
          "name": "stdout"
        }
      ]
    },
    {
      "cell_type": "markdown",
      "metadata": {
        "id": "material-hepatitis"
      },
      "source": [
        " <b><font color = black style = \"font-family:Times NEw Roman\">Task 14: </font>"
      ],
      "id": "material-hepatitis"
    },
    {
      "cell_type": "code",
      "metadata": {
        "id": "spanish-madrid",
        "outputId": "8e61d948-de25-4935-e40a-068c4b425256"
      },
      "source": [
        "class EPL_Team:\n",
        "    \n",
        "    def __init__(self, name, song=None):\n",
        "        self.name = name\n",
        "        self.song = song\n",
        "        self.title = 0\n",
        "\n",
        "    def increaseTitle(self):\n",
        "        self.title += 1\n",
        "\n",
        "    def changeSong(self, new_song):\n",
        "        self.song = new_song\n",
        "\n",
        "    def showClubInfo(self):\n",
        "        \n",
        "        if self.song != None:\n",
        "            return f\"Name: {self.name}\\nSong: {self.song}\\nTotal No of title: {self.title}\"\n",
        "        else:\n",
        "            return f\"Name: {self.name}\\nSong: No Slogan\\nTotal No of title: {self.title}\"\n",
        "\n",
        "\n",
        "manu = EPL_Team('Manchester United', 'Glory Glory Man United')\n",
        "chelsea = EPL_Team('Chelsea')\n",
        "print('===================')\n",
        "print(manu.showClubInfo())\n",
        "print('##################')\n",
        "manu.increaseTitle()\n",
        "print(manu.showClubInfo())\n",
        "print('===================')\n",
        "print(chelsea.showClubInfo())\n",
        "chelsea.changeSong('Keep the blue flag flying high')\n",
        "print(chelsea.showClubInfo())\n"
      ],
      "id": "spanish-madrid",
      "execution_count": null,
      "outputs": [
        {
          "output_type": "stream",
          "text": [
            "===================\n",
            "Name: Manchester United\n",
            "Song: Glory Glory Man United\n",
            "Total No of title: 0\n",
            "##################\n",
            "Name: Manchester United\n",
            "Song: Glory Glory Man United\n",
            "Total No of title: 1\n",
            "===================\n",
            "Name: Chelsea\n",
            "Song: No Slogan\n",
            "Total No of title: 0\n",
            "Name: Chelsea\n",
            "Song: Keep the blue flag flying high\n",
            "Total No of title: 0\n"
          ],
          "name": "stdout"
        }
      ]
    },
    {
      "cell_type": "markdown",
      "metadata": {
        "id": "tested-fleece"
      },
      "source": [
        " <b><font color = black style = \"font-family:Times NEw Roman\">Task 15: </font>"
      ],
      "id": "tested-fleece"
    },
    {
      "cell_type": "code",
      "metadata": {
        "id": "addressed-chile",
        "outputId": "dc8dfed5-6e47-4e34-bdb8-2142bf330f21"
      },
      "source": [
        "class Account:\n",
        "\n",
        "    def __init__(self, name=\"\", balance=0):\n",
        "        self.name = name\n",
        "        self.balance = float(balance)\n",
        "\n",
        "    def details(self):\n",
        "\n",
        "        if self.name == \"\":\n",
        "            return f\"Default Account \\n{self.balance}\"\n",
        "        else:\n",
        "            return f\"{self.name} \\n{self.balance}\"\n",
        "\n",
        "    def withdraw(self, withdraw_amount):\n",
        "        self.amount = withdraw_amount\n",
        "\n",
        "        minimum_amount = 3070\n",
        "\n",
        "        remaining_amount = self.balance - withdraw_amount\n",
        "\n",
        "        if remaining_amount <= minimum_amount or self.balance == 0:\n",
        "            print(\"Sorry, Withdraw unsuccessful! The account balance after deducting withdraw amount is equal to or less than minimum.\")\n",
        "\n",
        "        else:\n",
        "            print(f\"Withdraw successful! New balance is: {remaining_amount}\")\n",
        "\n",
        "\n",
        "a1 = Account()\n",
        "print(a1.details())\n",
        "print(\"------------------------\")\n",
        "a1.name = \"Oliver\"\n",
        "a1.balance = 10000.0\n",
        "print(a1.details())\n",
        "print(\"------------------------\")\n",
        "a2 = Account(\"Liam\")\n",
        "print(a2.details())\n",
        "print(\"------------------------\")\n",
        "a3 = Account(\"Noah\", 400)\n",
        "print(a3.details())\n",
        "print(\"------------------------\")\n",
        "a1.withdraw(6930);\n",
        "print(\"------------------------\")\n",
        "a2.withdraw(600);\n",
        "print(\"------------------------\")\n",
        "a1.withdraw(6929)\n"
      ],
      "id": "addressed-chile",
      "execution_count": null,
      "outputs": [
        {
          "output_type": "stream",
          "text": [
            "Default Account \n",
            "0.0\n",
            "------------------------\n",
            "Oliver \n",
            "10000.0\n",
            "------------------------\n",
            "Liam \n",
            "0.0\n",
            "------------------------\n",
            "Noah \n",
            "400.0\n",
            "------------------------\n",
            "Sorry, Withdraw unsuccessful! The account balance after deducting withdraw amount is equal to or less than minimum.\n",
            "------------------------\n",
            "Sorry, Withdraw unsuccessful! The account balance after deducting withdraw amount is equal to or less than minimum.\n",
            "------------------------\n",
            "Withdraw successful! New balance is: 3071.0\n"
          ],
          "name": "stdout"
        }
      ]
    },
    {
      "cell_type": "markdown",
      "metadata": {
        "id": "metropolitan-victorian"
      },
      "source": [
        " <b><font color = black style = \"font-family:Times NEw Roman\">Task 16: </font>"
      ],
      "id": "metropolitan-victorian"
    },
    {
      "cell_type": "code",
      "metadata": {
        "id": "golden-sunrise",
        "outputId": "4ac4a89b-a47d-44e2-a983-018f0a3b861d"
      },
      "source": [
        "class Author:\n",
        "    \n",
        "    def __init__(self, name=\"Default\", *author_info):\n",
        "        \n",
        "        self.name = name\n",
        "        self.book_list = []\n",
        "        \n",
        "        for info in author_info:\n",
        "            self.book_list.append(info)\n",
        "\n",
        "    def addBooks(self, *latest_books):\n",
        "        \n",
        "        for books in latest_books:\n",
        "            self.book_list.append(books)\n",
        "\n",
        "    def changeName(self, changed_name):\n",
        "        self.name = changed_name\n",
        "\n",
        "    def printDetails(self):\n",
        "        \n",
        "        if len(self.book_list) == 0:\n",
        "            print(f\"Author Name: {self.name}\\n--------\")\n",
        "        else:\n",
        "            print(f\"Author Name: {self.name}\\n--------\\nList of Books:\")\n",
        "            \n",
        "            for books in self.book_list:\n",
        "                print(books)\n",
        "\n",
        "\n",
        "auth1 = Author('Humayun Ahmed')\n",
        "auth1.addBooks('Deyal', 'Megher Opor Bari')\n",
        "auth1.printDetails()\n",
        "print(\"===================\")\n",
        "auth2 = Author()\n",
        "print(auth2.name)\n",
        "auth2.changeName('Mario Puzo')\n",
        "auth2.addBooks('The Godfather', 'Omerta', 'The Sicilian')\n",
        "print(\"===================\")\n",
        "auth2.printDetails()\n",
        "print(\"===================\")\n",
        "auth3 = Author('Paolo Coelho', 'The Alchemist', 'The Fifth Mountain')\n",
        "auth3.printDetails()\n"
      ],
      "id": "golden-sunrise",
      "execution_count": null,
      "outputs": [
        {
          "output_type": "stream",
          "text": [
            "Author Name: Humayun Ahmed\n",
            "--------\n",
            "List of Books:\n",
            "Deyal\n",
            "Megher Opor Bari\n",
            "===================\n",
            "Default\n",
            "===================\n",
            "Author Name: Mario Puzo\n",
            "--------\n",
            "List of Books:\n",
            "The Godfather\n",
            "Omerta\n",
            "The Sicilian\n",
            "===================\n",
            "Author Name: Paolo Coelho\n",
            "--------\n",
            "List of Books:\n",
            "The Alchemist\n",
            "The Fifth Mountain\n"
          ],
          "name": "stdout"
        }
      ]
    },
    {
      "cell_type": "code",
      "metadata": {
        "id": "promotional-brave"
      },
      "source": [
        ""
      ],
      "id": "promotional-brave",
      "execution_count": null,
      "outputs": []
    }
  ]
}
