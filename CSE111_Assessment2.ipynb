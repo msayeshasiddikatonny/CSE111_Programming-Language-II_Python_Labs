{
  "nbformat": 4,
  "nbformat_minor": 0,
  "metadata": {
    "colab": {
      "name": " CSE111_Assessment2.ipynb",
      "provenance": [],
      "authorship_tag": "ABX9TyNH8wTgh+FSTDhgOohOOn0f",
      "include_colab_link": true
    },
    "kernelspec": {
      "name": "python3",
      "display_name": "Python 3"
    },
    "language_info": {
      "name": "python"
    }
  },
  "cells": [
    {
      "cell_type": "markdown",
      "metadata": {
        "id": "view-in-github",
        "colab_type": "text"
      },
      "source": [
        "<a href=\"https://colab.research.google.com/github/msayeshasiddikatonny/CSE111_Python/blob/main/CSE111_Assessment2.ipynb\" target=\"_parent\"><img src=\"https://colab.research.google.com/assets/colab-badge.svg\" alt=\"Open In Colab\"/></a>"
      ]
    },
    {
      "cell_type": "code",
      "metadata": {
        "colab": {
          "base_uri": "https://localhost:8080/",
          "height": 137
        },
        "id": "eIbnrN97ODKA",
        "outputId": "1b773995-0ee6-479e-f501-03c133d3940b"
      },
      "source": [
        "class myList:\n",
        " def __init__(self, *nums):\n",
        "   self.list = list(nums)\n",
        " def sum(self):\n",
        "   sum = 0\n",
        "   for item in self.list:\n",
        "     sum += item\n",
        "   print(f'Sum: {sum}')\n",
        " def merge(self, *nums):\n",
        "   for item in nums:\n",
        "     self.list.append(item)\n",
        " def average(self):\n",
        "    sum = 0\n",
        "    length = len(self.list)\n",
        "    for item in self.list:\n",
        "      sum += item\n",
        "    if length == 0:\n",
        "      print(f'Average: 0')\n",
        "    else:\n",
        "      print(f'Average: {sum / length}')\n",
        "\n",
        " \n",
        "\n",
        "\n",
        "\n",
        "l1 =  myList(2,3,4,5,6)\n",
        "l1.sum()\n",
        "l1.merge(4,5,9)\n",
        "l1.sum()\n",
        "l1.average()\n",
        "print(\"-----------------------------\")\n",
        "l2 =  myList()\n",
        "l2.average()\n",
        "l2.merge(1,2,4,8)\n",
        "l2.sum()\n",
        "'''\n",
        "𝐎𝐮𝐭𝐩𝐮𝐭:\n",
        "Sum: 20\n",
        "Sum: 38\n",
        "Average: 4.75\n",
        "-----------------------------\n",
        "Average: 0\n",
        "Sum: 15\n",
        "'''"
      ],
      "execution_count": 4,
      "outputs": [
        {
          "output_type": "stream",
          "text": [
            "Sum: 20\n",
            "Sum: 38\n",
            "Average: 4.75\n",
            "-----------------------------\n",
            "Average: 0\n",
            "Sum: 15\n"
          ],
          "name": "stdout"
        },
        {
          "output_type": "execute_result",
          "data": {
            "application/vnd.google.colaboratory.intrinsic+json": {
              "type": "string"
            },
            "text/plain": [
              "'\\n𝐎𝐮𝐭𝐩𝐮𝐭:\\nSum: 20\\nSum: 38\\nAverage: 4.75\\n-----------------------------\\nAverage: 0\\nSum: 15\\n'"
            ]
          },
          "metadata": {
            "tags": []
          },
          "execution_count": 4
        }
      ]
    },
    {
      "cell_type": "code",
      "metadata": {
        "colab": {
          "base_uri": "https://localhost:8080/",
          "height": 154
        },
        "id": "klpCP8vqXfS_",
        "outputId": "74139b33-2491-4bfb-d132-db827908e4cd"
      },
      "source": [
        "class myOddCounter:\n",
        " def __init__(self,*numbers):\n",
        "   self.numbers = []\n",
        "   for i in numbers:\n",
        "      self.numbers = self.numbers + [i]\n",
        " def oddCount(self):\n",
        "  counter = 0\n",
        "  for i in self.numbers:\n",
        "    if i%2 != 0:\n",
        "      counter = counter + 1\n",
        "  print(\"Currently there are {} odd numbers in the list\".format(counter))\n",
        " def merge(self,*numbers):\n",
        "    for i in numbers:\n",
        "      self.numbers = self.numbers + [i]\n",
        " def oddSum(self):\n",
        "   sum=0\n",
        "   for i in self.numbers:\n",
        "    if i%2 != 0:\n",
        "      sum = sum + i\n",
        "   print(\"Sum of the odd numbers:\",sum)\n",
        "\n",
        "l1 =  myOddCounter(2,3,4,5,6) \n",
        "l1.oddCount()\n",
        "l1.merge(4,5,9)\n",
        "l1.oddCount()\n",
        "l1.oddSum()\n",
        "print(\"-----------------------------\")\n",
        "l2 =  myOddCounter()\n",
        "l2.oddSum()\n",
        "l2.merge(1,2,4,7)\n",
        "l2.oddCount()\n",
        "'''\n",
        "𝐎𝐮𝐭𝐩𝐮𝐭:\n",
        "Currently there are 2 odd numbers in the list\n",
        "Currently there are 4 odd numbers in the list\n",
        "Sum of the odd numbers: 22\n",
        "-----------------------------\n",
        "Sum of the odd numbers: 0\n",
        "Currently there are 2  odd numbers in the list\n",
        "'''\n"
      ],
      "execution_count": 9,
      "outputs": [
        {
          "output_type": "stream",
          "text": [
            "Currently there are 2 odd numbers in the list\n",
            "Currently there are 4 odd numbers in the list\n",
            "Sum of the odd numbers: 22\n",
            "-----------------------------\n",
            "Sum of the odd numbers: 0\n",
            "Currently there are 2 odd numbers in the list\n"
          ],
          "name": "stdout"
        },
        {
          "output_type": "execute_result",
          "data": {
            "application/vnd.google.colaboratory.intrinsic+json": {
              "type": "string"
            },
            "text/plain": [
              "'\\n𝐎𝐮𝐭𝐩𝐮𝐭:\\nCurrently there are 2 odd numbers in the list\\nCurrently there are 4 odd numbers in the list\\nSum of the odd numbers: 22\\n-----------------------------\\nSum of the odd numbers: 0\\nCurrently there are 2  odd numbers in the list\\n'"
            ]
          },
          "metadata": {
            "tags": []
          },
          "execution_count": 9
        }
      ]
    },
    {
      "cell_type": "code",
      "metadata": {
        "colab": {
          "base_uri": "https://localhost:8080/"
        },
        "id": "dhgFKG_OZpSz",
        "outputId": "48b1d87d-c965-4778-c8f3-6fc2429b6d27"
      },
      "source": [
        "class myOddCounter:\n",
        " def __init__(self,*num):\n",
        "  self.num=list(num)\n",
        "  self.count=0\n",
        "  self.sum=0\n",
        " def oddCount(self):\n",
        "  for i in self.num:\n",
        "   if i%2!=0:\n",
        "     self.count=self.count+1\n",
        "  print(\"Currently there are\",(self.count),\"odd numbers in the list\")\n",
        " def merge(self,*new_num):\n",
        "  self.new_num=list(new_num)\n",
        "  self.num.extend(self.new_num)\n",
        " def oddSum(self):\n",
        "  for i in self.num:\n",
        "   if i%2!=0:\n",
        "     self.sum=self.sum+i\n",
        "  print(\"Sum of the odd numbers:\",self.sum)\n",
        "\n",
        "l1 = myOddCounter(2,3,4,5,6)\n",
        "l1.oddCount()\n",
        "l1.merge(4,5,9)\n",
        "l1.oddCount()\n",
        "l1.oddSum()\n",
        "print(\"-----------------------------\")\n",
        "l2 = myOddCounter()\n",
        "l2.oddSum()\n",
        "l2.merge(1,2,4,7)\n",
        "l2.oddCount()"
      ],
      "execution_count": 12,
      "outputs": [
        {
          "output_type": "stream",
          "text": [
            "Currently there are 2 odd numbers in the list\n",
            "Currently there are 6 odd numbers in the list\n",
            "Sum of the odd numbers: 22\n",
            "-----------------------------\n",
            "Sum of the odd numbers: 0\n",
            "Currently there are 2 odd numbers in the list\n"
          ],
          "name": "stdout"
        }
      ]
    },
    {
      "cell_type": "code",
      "metadata": {
        "colab": {
          "base_uri": "https://localhost:8080/",
          "height": 477
        },
        "id": "-d3HzQ9ScYrd",
        "outputId": "195f57ef-4da2-4d7b-e2e3-e0bca27e8c28"
      },
      "source": [
        "class Student:\n",
        "  def __init__(self, name=None, department=None):\n",
        "    self.name = name\n",
        "    self.department = department\n",
        "    self.course = []\n",
        "    if name is None and department is None:\n",
        "     print('Student name and department need to be set')\n",
        "    elif name is not None and department is None:\n",
        "     print(f\"Department for {self.name} needs to be set\")\n",
        "    else:\n",
        "     print(f\"{self.name} is from {self.department} department\")\n",
        "  def enroll(self, *courses):\n",
        "    for i in courses:\n",
        "      self.course.append(i)\n",
        "  def update_name(self, name2):\n",
        "   self.name = name2\n",
        "  def update_department(self, dep2):\n",
        "   self.department = dep2\n",
        "  def printDetail(self):\n",
        "    print(f\"Name:{self.name}\\nDepartment: {self.department}\\n{self.name} is enrolled in {len(self.course)} courses:\")\n",
        "    print(*self.course, sep=\",\")\n",
        "    print(\"====================================\")\n",
        "\n",
        "s1 = Student()\n",
        "print('=========================')\n",
        "s2 = Student('Carol')\n",
        "print('=========================')\n",
        "s3 = Student('Jon', 'EEE')\n",
        "print('=========================')\n",
        "s1.update_name('Bob')\n",
        "s1.update_department('CSE')\n",
        "s2.update_department('BBA')\n",
        "s1.enroll('CSE110', 'MAT110', 'ENG091')\n",
        "s2.enroll('BUS101')\n",
        "s3.enroll('MAT110', 'PHY111')\n",
        "print(\"###########################\")\n",
        "s1.printDetail()\n",
        "print('=========================')\n",
        "s2.printDetail()\n",
        "print(\"=========================\")\n",
        "s3.printDetail()\n",
        "\n",
        "\n",
        " \n",
        "'''\n",
        "𝐎𝐮𝐭𝐩𝐮𝐭:\n",
        "Student name and department need to be set\n",
        "=========================\n",
        "Department for Carol needs to be set\n",
        "=========================\n",
        "Jon is from EEE department\n",
        "=========================\n",
        "###########################\n",
        "Name: Bob\n",
        "Department: CSE\n",
        "Bob enrolled in 3 course(s):\n",
        "CSE110, MAT110, ENG091\n",
        "=========================\n",
        "Name: Carol\n",
        "Department: BBA\n",
        "Carol enrolled in 1 course(s):\n",
        "BUS101\n",
        "=========================\n",
        "Name: Jon\n",
        "Department: EEE\n",
        "Jon enrolled in 2 course(s):\n",
        "MAT110, PHY111\n",
        "\n",
        "'''"
      ],
      "execution_count": 18,
      "outputs": [
        {
          "output_type": "stream",
          "text": [
            "Student name and department need to be set\n",
            "=========================\n",
            "Department for Carol needs to be set\n",
            "=========================\n",
            "Jon is from EEE department\n",
            "=========================\n",
            "###########################\n",
            "Name:Bob\n",
            "Department: CSE\n",
            "Bob is enrolled in 3 courses:\n",
            "CSE110,MAT110,ENG091\n",
            "====================================\n",
            "=========================\n",
            "Name:Carol\n",
            "Department: BBA\n",
            "Carol is enrolled in 1 courses:\n",
            "BUS101\n",
            "====================================\n",
            "=========================\n",
            "Name:Jon\n",
            "Department: EEE\n",
            "Jon is enrolled in 2 courses:\n",
            "MAT110,PHY111\n",
            "====================================\n"
          ],
          "name": "stdout"
        },
        {
          "output_type": "execute_result",
          "data": {
            "application/vnd.google.colaboratory.intrinsic+json": {
              "type": "string"
            },
            "text/plain": [
              "'\\n𝐎𝐮𝐭𝐩𝐮𝐭:\\nStudent name and department need to be set\\n=========================\\nDepartment for Carol needs to be set\\n=========================\\nJon is from EEE department\\n=========================\\n###########################\\nName: Bob\\nDepartment: CSE\\nBob enrolled in 3 course(s):\\nCSE110, MAT110, ENG091\\n=========================\\nName: Carol\\n'"
            ]
          },
          "metadata": {
            "tags": []
          },
          "execution_count": 18
        }
      ]
    },
    {
      "cell_type": "code",
      "metadata": {
        "colab": {
          "base_uri": "https://localhost:8080/"
        },
        "id": "_CGnUwbyfERa",
        "outputId": "68645f34-df59-4223-edd7-4041fb3834ba"
      },
      "source": [
        "class Student:\n",
        "\n",
        "  def __init__(self, name=None, dept = None):\n",
        "    if name == None and dept == None:\n",
        "      print('Student name and department need to be set')\n",
        "      self.name = name\n",
        "      self.dept = dept\n",
        "    elif dept == None:\n",
        "      print(f'Department for {name} needs to be set')\n",
        "      self.name = name\n",
        "      self.dept = dept\n",
        "    else:\n",
        "      print(f'{name} is from {dept} department')\n",
        "      self.name = name\n",
        "      self.dept = dept\n",
        "    self.course_list = []\n",
        "  def update_name(self, name):\n",
        "   self.name = name\n",
        "  def update_department(self, dept):\n",
        "   self.dept = dept\n",
        "  def enroll(self, *course):\n",
        "    for count in course:\n",
        "     self.course_list.append(count)\n",
        "  def printDetail(self):\n",
        "    print(f\"\"\"Name: {self.name}\n",
        "Department: {self.dept}\n",
        "Bob enrolled in {len(self.course_list)} course(s):\"\"\")\n",
        "    for count in range(len(self.course_list)):\n",
        "       if not(count == (len(self.course_list)-1)):\n",
        "          print(self.course_list[count],end=',')\n",
        "       else:\n",
        "          print(self.course_list[count])\n",
        "\n",
        "s1 = Student()\n",
        "print('=========================')\n",
        "s2 = Student('Carol')\n",
        "print('=========================')\n",
        "s3 = Student('Jon', 'EEE')\n",
        "print('=========================')\n",
        "s1.update_name('Bob')\n",
        "s1.update_department('CSE')\n",
        "s2.update_department('BBA')\n",
        "s1.enroll('CSE110', 'MAT110', 'ENG091')\n",
        "s2.enroll('BUS101')\n",
        "s3.enroll('MAT110', 'PHY111')\n",
        "print(\"###########################\")\n",
        "s1.printDetail()\n",
        "print('=========================')\n",
        "s2.printDetail()\n",
        "print(\"=========================\")\n",
        "s3.printDetail()\n",
        "\n"
      ],
      "execution_count": 20,
      "outputs": [
        {
          "output_type": "stream",
          "text": [
            "Student name and department need to be set\n",
            "=========================\n",
            "Department for Carol needs to be set\n",
            "=========================\n",
            "Jon is from EEE department\n",
            "=========================\n",
            "###########################\n",
            "Name: Bob\n",
            "Department: CSE\n",
            "Bob enrolled in 3 course(s):\n",
            "CSE110,MAT110,ENG091\n",
            "=========================\n",
            "Name: Carol\n",
            "Department: BBA\n",
            "Bob enrolled in 1 course(s):\n",
            "BUS101\n",
            "=========================\n",
            "Name: Jon\n",
            "Department: EEE\n",
            "Bob enrolled in 2 course(s):\n",
            "MAT110,PHY111\n"
          ],
          "name": "stdout"
        }
      ]
    },
    {
      "cell_type": "code",
      "metadata": {
        "colab": {
          "base_uri": "https://localhost:8080/",
          "height": 273
        },
        "id": "Ud-RnpzikYgZ",
        "outputId": "6ee787b9-9173-4e58-e7f2-2e78372f9ac7"
      },
      "source": [
        "class Bird:\n",
        "  def __init__(self, name, a=False):\n",
        "    self.name = name\n",
        "    self.a = a\n",
        "  def fly(self):\n",
        "    if self.a !=True:\n",
        "     print(self.name, ' can not fly')\n",
        "    else:\n",
        "     print(self.name, ' can fly')\n",
        "  def setType(self, b):\n",
        "   self.b = b\n",
        "  def printDetail(self):\n",
        "    if self.name!='Ostrich':\n",
        "     print('Name: ', self.name, '\\nType: ', self.b )\n",
        "    else:\n",
        "     print('Name: ', self.name, '\\nType: Flightless Birds' )\n",
        "\n",
        "\n",
        "ostrich = Bird('Ostrich')\n",
        "duck = Bird(\"Duck\", True)\n",
        "owl = Bird('Owl', True)\n",
        "print(\"###########################\")\n",
        "ostrich.fly()\n",
        "duck.fly()\n",
        "owl.fly()\n",
        "duck.setType('Water Birds')\n",
        "owl.setType('Birds of Prey')\n",
        "print(\"=========================\")\n",
        "ostrich.printDetail()\n",
        "print(\"=========================\")\n",
        "duck.printDetail()\n",
        "print(\"=========================\")\n",
        "owl.printDetail()\n",
        "'''\n",
        "𝐎𝐮𝐭𝐩𝐮𝐭:\n",
        "###########################\n",
        "Ostrich can not fly\n",
        "Duck can fly\n",
        "Owl can fly\n",
        "===========================\n",
        "Name: Ostrich\n",
        "Type: Flightless Birds\n",
        "===========================    \t\t\n",
        "Name: Duck\n",
        "Type: Water Birds\n",
        "===========================\n",
        "Name: Owl\n",
        "Type: Birds of Prey\n",
        "'''"
      ],
      "execution_count": 23,
      "outputs": [
        {
          "output_type": "stream",
          "text": [
            "###########################\n",
            "Ostrich  can not fly\n",
            "Duck  can fly\n",
            "Owl  can fly\n",
            "=========================\n",
            "Name:  Ostrich \n",
            "Type: Flightless Birds\n",
            "=========================\n",
            "Name:  Duck \n",
            "Type:  Water Birds\n",
            "=========================\n",
            "Name:  Owl \n",
            "Type:  Birds of Prey\n"
          ],
          "name": "stdout"
        },
        {
          "output_type": "execute_result",
          "data": {
            "application/vnd.google.colaboratory.intrinsic+json": {
              "type": "string"
            },
            "text/plain": [
              "'\\n𝐎𝐮𝐭𝐩𝐮𝐭:\\n###########################\\nOstrich can not fly\\nDuck can fly\\nOwl can fly\\n===========================\\nName: Ostrich\\nType: Flightless Birds\\n===========================    \\t\\t\\nName: Duck\\nType: Water Birds\\n===========================\\nName: Owl\\nType: Birds of Prey\\n'"
            ]
          },
          "metadata": {
            "tags": []
          },
          "execution_count": 23
        }
      ]
    },
    {
      "cell_type": "code",
      "metadata": {
        "colab": {
          "base_uri": "https://localhost:8080/",
          "height": 426
        },
        "id": "ewHc0jMYun1l",
        "outputId": "00bc4913-7fe6-45db-a80d-dceb3ae4cd02"
      },
      "source": [
        "class Student:\n",
        "  def __init__(self, name, id, department):\n",
        "    self.name = name\n",
        "    self.id = id\n",
        "    self.department = department\n",
        "  def details(self):\n",
        "    return (f\"Name: {self.name}\\nID: {self.id}\\nDepartment: {self.department}\")\n",
        "  def advise(self, *courses):\n",
        "    credit_count = float(len(courses) * 3)\n",
        "    print(f\"{self.name}, you have taken {credit_count} credits.\")\n",
        "    print(\"List of courses: \", end=\"\")\n",
        "    if len(courses) == 3:\n",
        "      for cor in range(len(courses)):\n",
        "        if cor == len(courses) - 1:\n",
        "         print(f\"{courses[cor]}\\nStatus: Ok\")\n",
        "        else:\n",
        "         print(courses[cor], end=\",\")\n",
        "    elif len(courses) < 3:\n",
        "     should_take = 3 - len(courses)\n",
        "     for take in range(len(courses)):\n",
        "        if take == len(courses) - 1:\n",
        "         print(f\"{courses[take]}\\nStatus: You have to take at least {should_take} more course.\")\n",
        "        else:\n",
        "         print(courses[take], end=\",\")\n",
        "    elif len(courses) > 4:\n",
        "      should_drop = len(courses) - 4\n",
        "      for drop in range(len(courses)):\n",
        "        if drop == len(courses) - 1:\n",
        "         print(f\"{courses[drop]}\\nStatus: You have to drop at least {should_drop} more course.\")\n",
        "        else:\n",
        "          print(courses[drop], end=\",\")\n",
        "\n",
        "s1 = Student(\"Alice\",\"20103012\",\"CSE\")\n",
        "s2 = Student(\"Bob\", \"18301254\",\"EEE\")\n",
        "s3 = Student(\"Carol\", \"17101238\",\"CSE\")\n",
        "print(\"##########################\")\n",
        "print(s1.details())\n",
        "print( \"##########################\")\n",
        "print(s2.details())\n",
        "print(\"##########################\")\n",
        "s1.advise(\"CSE110\", \"MAT110\", \"PHY111\")\n",
        "print(\"##########################\")\n",
        "s2.advise( \"BUS101\", \"MAT120\")\n",
        "print(\"##########################\")\n",
        "s3.advise(\"MAT110\", \"PHY111\", \"ENG102\", \"CSE111\", \"CSE230\")\n",
        "'''\n",
        "𝐎𝐮𝐭𝐩𝐮𝐭:\n",
        "##########################\n",
        "Name: Alice\n",
        "ID: 20103012\n",
        "Department: CSE\n",
        "##########################\n",
        "Name: Bob\n",
        "ID: 18301254\n",
        "Department: EEE\n",
        "##########################\n",
        "Alice, you have taken 9.0 credits. \n",
        "List of courses: CSE110, MAT110, PHY111\n",
        "Status: Ok\n",
        "##########################\n",
        "Bob, you have taken 6.0 credits. \n",
        "List of courses: BUS101, MAT120\n",
        "Status: You have to take at least 1 more course.\n",
        "##########################\n",
        "Carol, you have taken 15.0 credits. \n",
        "List of courses: MAT110, PHY111, ENG102, CSE111, CSE230\n",
        "Status: You have to drop at least 1 course.\n",
        "\n",
        "'''"
      ],
      "execution_count": 33,
      "outputs": [
        {
          "output_type": "stream",
          "text": [
            "##########################\n",
            "Name: Alice\n",
            "ID: 20103012\n",
            "Department: CSE\n",
            "##########################\n",
            "Name: Bob\n",
            "ID: 18301254\n",
            "Department: EEE\n",
            "##########################\n",
            "Alice, you have taken 9.0 credits.\n",
            "List of courses: CSE110,MAT110,PHY111\n",
            "Status: Ok\n",
            "##########################\n",
            "Bob, you have taken 6.0 credits.\n",
            "List of courses: BUS101,MAT120\n",
            "Status: You have to take at least 1 more course.\n",
            "##########################\n",
            "Carol, you have taken 15.0 credits.\n",
            "List of courses: MAT110,PHY111,ENG102,CSE111,CSE230\n",
            "Status: You have to drop at least 1 more course.\n"
          ],
          "name": "stdout"
        },
        {
          "output_type": "execute_result",
          "data": {
            "application/vnd.google.colaboratory.intrinsic+json": {
              "type": "string"
            },
            "text/plain": [
              "'\\n𝐎𝐮𝐭𝐩𝐮𝐭:\\n##########################\\nName: Alice\\nID: 20103012\\nDepartment: CSE\\n##########################\\nName: Bob\\nID: 18301254\\nDepartment: EEE\\n##########################\\nAlice, you have taken 9.0 credits. \\nList of courses: CSE110, MAT110, PHY111\\nStatus: Ok\\n##########################\\nBob, you have taken 6.0 credits. \\nList of courses: BUS101, MAT120\\nStatus: You have to take at least 1 more course.\\n##########################\\nCarol, you have taken 15.0 credits. \\nList of courses: MAT110, PHY111, ENG102, CSE111, CSE230\\nStatus: You have to drop at least 1 course.\\n\\n'"
            ]
          },
          "metadata": {
            "tags": []
          },
          "execution_count": 33
        }
      ]
    },
    {
      "cell_type": "code",
      "metadata": {
        "colab": {
          "base_uri": "https://localhost:8080/",
          "height": 443
        },
        "id": "n-RTerWUz1EB",
        "outputId": "2f6e06d6-7da7-4a32-c345-d7994c1daa6a"
      },
      "source": [
        "class team():\n",
        "  def __init__(self, name, id):\n",
        "    self.team_name = name\n",
        "    self.id = id\n",
        "    self.member = []\n",
        "  def add_member(self,*args):\n",
        "    for i in args:\n",
        "     self.member.append(i)\n",
        "    if len(self.member) > 0:\n",
        "      print(self.team_name,\" has \"+ str(len(self.member)) + \" members\")\n",
        "      print(\"Name of team members: \",end=\"\")\n",
        "      team_member=\"\"\n",
        "      for i in range (len(self.member)):\n",
        "        if i <len(self.member)-1:\n",
        "         print(self.member[i], end = \",\")\n",
        "        else:\n",
        "         print(self.member[i])\n",
        "    if len(self.member) < 3:\n",
        "     print(\"Status: \"+ str(3-len(self.member))+\" more member should be added\")\n",
        "    elif len(self.member)>3:\n",
        "     print(\"Status: \"+ str(len(self.member)-3)+\" member must be eliminated\")\n",
        "    else:\n",
        "     print(\"Status: ok\")\n",
        "  def details(self):\n",
        "    detail = \"Team name: \"+self.team_name+\"\\n\"+\"Team ID: \"+str(self.id)\n",
        "    return detail\n",
        "\n",
        "\n",
        "t1 = team(\"Team A\",\"0001\")\n",
        "t2 = team(\"Team B\", \"0002\")\n",
        "t3 = team(\"Team C\", \"0003\")\n",
        "print(\"##########################\")\n",
        "print(t1.details())\n",
        "print(\"##########################\")\n",
        "print(t2.details())\n",
        "print(\"##########################\")\n",
        "print(t3.details())\n",
        "print(\"##########################\")\n",
        "t1.add_member(\"Alice\", \"Bob\", \"Carol\")\n",
        "print(\"##########################\")\n",
        "t2.add_member(\"Dominic\", \"Emory\")\n",
        "print(\"#########################\")\n",
        "t3.add_member(\"Frankie\",  \"Harper\", \"Isabella\", \"Josie\")\n",
        "'''\n",
        "𝐎𝐮𝐭𝐩𝐮𝐭:\n",
        "##########################\n",
        "Team name: Team A\n",
        "Team ID: 0001\n",
        "##########################\n",
        "Team name: Team B\n",
        "Team ID: 0002\n",
        "##########################\n",
        "Team name: Team C\n",
        "Team ID: 0003\n",
        "##########################\n",
        "Team A has 3 members\n",
        "Name of team members:  Alice,  Bob,  Carol.\n",
        "Status:  ok\n",
        "##########################\n",
        "Team B has 2 members\n",
        "Name of team members:  Dominic,  Emory.\n",
        "Status:  1  more member should be added\n",
        "##########################\n",
        "Team C has 4 members\n",
        "Name of team members:  Frankie,  Harper,  Isabella,  Josie.\n",
        "Status:  1 member must be eliminated\n",
        "'''"
      ],
      "execution_count": 34,
      "outputs": [
        {
          "output_type": "stream",
          "text": [
            "##########################\n",
            "Team name: Team A\n",
            "Team ID: 0001\n",
            "##########################\n",
            "Team name: Team B\n",
            "Team ID: 0002\n",
            "##########################\n",
            "Team name: Team C\n",
            "Team ID: 0003\n",
            "##########################\n",
            "Team A  has 3 members\n",
            "Name of team members: Alice,Bob,Carol\n",
            "Status: ok\n",
            "##########################\n",
            "Team B  has 2 members\n",
            "Name of team members: Dominic,Emory\n",
            "Status: 1 more member should be added\n",
            "#########################\n",
            "Team C  has 4 members\n",
            "Name of team members: Frankie,Harper,Isabella,Josie\n",
            "Status: 1 member must be eliminated\n"
          ],
          "name": "stdout"
        },
        {
          "output_type": "execute_result",
          "data": {
            "application/vnd.google.colaboratory.intrinsic+json": {
              "type": "string"
            },
            "text/plain": [
              "'\\n𝐎𝐮𝐭𝐩𝐮𝐭:\\n##########################\\nTeam name: Team A\\nTeam ID: 0001\\n##########################\\nTeam name: Team B\\nTeam ID: 0002\\n##########################\\nTeam name: Team C\\nTeam ID: 0003\\n##########################\\nTeam A has 3 members\\nName of team members:  Alice,  Bob,  Carol.\\nStatus:  ok\\n##########################\\nTeam B has 2 members\\nName of team members:  Dominic,  Emory.\\nStatus:  1  more member should be added\\n##########################\\nTeam C has 4 members\\nName of team members:  Frankie,  Harper,  Isabella,  Josie.\\nStatus:  1 member must be eliminated\\n'"
            ]
          },
          "metadata": {
            "tags": []
          },
          "execution_count": 34
        }
      ]
    },
    {
      "cell_type": "code",
      "metadata": {
        "colab": {
          "base_uri": "https://localhost:8080/"
        },
        "id": "DAhp08142ZQ9",
        "outputId": "6b5782b0-2b39-461e-deac-2088d0408f10"
      },
      "source": [
        "class team():\n",
        "  def __init__(self,name,id):\n",
        "    self.name= name\n",
        "    self.id=id\n",
        "  def details(self):\n",
        "    print('Team name: Team A',self.name)\n",
        "    print('Team ID: ',self.id)\n",
        "  def add_member(self,*nam):\n",
        "    self.nam = nam\n",
        "    print('Team A has', len(nam), 'members')\n",
        "    print('Name of team members: ', nam)\n",
        "    if len(self.nam)==3:\n",
        "      print('ok')\n",
        "    elif len(self.nam)==2:\n",
        "      print('1 more member should be added')\n",
        "    elif len(self.nam)==1:\n",
        "      print('2 more member should be added')\n",
        "    elif len(self.nam)>3:\n",
        "      print(len(nam)-3,' member must be eliminated')\n",
        "\n",
        "t1 = team(\"Team A\",\"0001\")\n",
        "t2 = team(\"Team B\", \"0002\")\n",
        "t3 = team(\"Team C\", \"0003\")\n",
        "print(\"##########################\")\n",
        "print(t1.details())\n",
        "print(\"##########################\")\n",
        "print(t2.details())\n",
        "print(\"##########################\")\n",
        "print(t3.details())\n",
        "print(\"##########################\")\n",
        "t1.add_member(\"Alice\", \"Bob\", \"Carol\")\n",
        "print(\"##########################\")\n",
        "t2.add_member(\"Dominic\", \"Emory\")\n",
        "print(\"#########################\")\n",
        "t3.add_member(\"Frankie\",  \"Harper\", \"Isabella\", \"Josie\")"
      ],
      "execution_count": 36,
      "outputs": [
        {
          "output_type": "stream",
          "text": [
            "##########################\n",
            "Team name: Team A Team A\n",
            "Team ID:  0001\n",
            "None\n",
            "##########################\n",
            "Team name: Team A Team B\n",
            "Team ID:  0002\n",
            "None\n",
            "##########################\n",
            "Team name: Team A Team C\n",
            "Team ID:  0003\n",
            "None\n",
            "##########################\n",
            "Team A has 3 members\n",
            "Name of team members:  ('Alice', 'Bob', 'Carol')\n",
            "ok\n",
            "##########################\n",
            "Team A has 2 members\n",
            "Name of team members:  ('Dominic', 'Emory')\n",
            "1 more member should be added\n",
            "#########################\n",
            "Team A has 4 members\n",
            "Name of team members:  ('Frankie', 'Harper', 'Isabella', 'Josie')\n",
            "1  member must be eliminated\n"
          ],
          "name": "stdout"
        }
      ]
    }
  ]
}