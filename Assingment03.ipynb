{
  "nbformat": 4,
  "nbformat_minor": 0,
  "metadata": {
    "colab": {
      "name": "Assingment03_20101218_Yaseen_Nur - Yaseen Nur.ipynb",
      "provenance": [],
      "include_colab_link": true
    },
    "kernelspec": {
      "name": "python3",
      "display_name": "Python 3"
    }
  },
  "cells": [
    {
      "cell_type": "markdown",
      "metadata": {
        "id": "view-in-github",
        "colab_type": "text"
      },
      "source": [
        "<a href=\"https://colab.research.google.com/github/msayeshasiddikatonny/CSE111_Python/blob/main/Assingment03_20101218_Yaseen_Nur_Yaseen_Nur.ipynb\" target=\"_parent\"><img src=\"https://colab.research.google.com/assets/colab-badge.svg\" alt=\"Open In Colab\"/></a>"
      ]
    },
    {
      "cell_type": "code",
      "metadata": {
        "id": "XFXLpzkqm94F",
        "colab": {
          "base_uri": "https://localhost:8080/"
        },
        "outputId": "559ee99c-6bb0-4004-bfe8-2d818f7bd56e"
      },
      "source": [
        "#OOP\n",
        "#1\n",
        "class DataType:\n",
        "    def __init__(self, name, value):\n",
        "        self.name = name\n",
        "        self.value = value\n",
        "\n",
        "\n",
        "data_type1 = DataType(\"Integer\", 1234)\n",
        "print(data_type1.name)\n",
        "print(data_type1.value)\n",
        "print('=====================')\n",
        "data_type2 = DataType(\"String\", \"Hello\")\n",
        "print(data_type2.name)\n",
        "print(data_type2.value)\n",
        "print('=====================')\n",
        "data_type3 = DataType(\"Float\", 4.0)\n",
        "print(data_type3.name)\n",
        "print(data_type3.value)\n",
        "\n",
        "\n"
      ],
      "execution_count": null,
      "outputs": [
        {
          "output_type": "stream",
          "text": [
            "Integer\n",
            "1234\n",
            "=====================\n",
            "String\n",
            "Hello\n",
            "=====================\n",
            "Float\n",
            "4.0\n"
          ],
          "name": "stdout"
        }
      ]
    },
    {
      "cell_type": "code",
      "metadata": {
        "id": "QfVSXvMAm-87",
        "colab": {
          "base_uri": "https://localhost:8080/"
        },
        "outputId": "74b30caa-9163-4270-e699-f8e27b64f8bc"
      },
      "source": [
        "#2\n",
        "class Flower:\n",
        "    def __init__(self):\n",
        "        pass\n",
        "\n",
        "\n",
        "flower1 = Flower()\n",
        "flower1.name = \"Rose\"\n",
        "flower1.color = \"Red\"\n",
        "flower1.num_of_petal = 6\n",
        "print(\"Name of this flower:\", flower1.name)\n",
        "print(\"Color of this flower:\", flower1.color)\n",
        "print(\"Number of petal:\", flower1.num_of_petal)\n",
        "print(\"=====================\")\n",
        "flower2 = Flower()\n",
        "flower2.name = \"Orchid\"\n",
        "flower2.color = \"Purple\"\n",
        "flower2.num_of_petal = 4\n",
        "print(\"Name of this flower:\", flower2.name)\n",
        "print(\"Color of this flower:\", flower2.color)\n",
        "print(\"Number of petal:\", flower2.num_of_petal)\n",
        "# Write the code for subtask 2 and 3 here\n",
        "print(\"Flower1 address:\", flower1)\n",
        "print(\"Flower2 address:\", flower2)\n",
        "print(\"They are different\")\n"
      ],
      "execution_count": null,
      "outputs": [
        {
          "output_type": "stream",
          "text": [
            "Name of this flower: Rose\n",
            "Color of this flower: Red\n",
            "Number of petal: 6\n",
            "=====================\n",
            "Name of this flower: Orchid\n",
            "Color of this flower: Purple\n",
            "Number of petal: 4\n",
            "Flower1 address: <__main__.Flower object at 0x7fd8bf1c1a50>\n",
            "Flower2 address: <__main__.Flower object at 0x7fd8bf1c1a90>\n",
            "They are different\n"
          ],
          "name": "stdout"
        }
      ]
    },
    {
      "cell_type": "code",
      "metadata": {
        "id": "wLRLctsfm_Cq",
        "colab": {
          "base_uri": "https://localhost:8080/"
        },
        "outputId": "e4da2ec8-69f8-458c-c72f-3d90230d63eb"
      },
      "source": [
        "#3\n",
        "class Wadiya():\n",
        "    def __init__(self):\n",
        "        self.name = 'Aladeen'\n",
        "        self.designation = 'President Prime Minister Admiral General'\n",
        "        self.num_of_wife = 100\n",
        "        self.dictator = True\n",
        "\n",
        "\n",
        "wadiya = Wadiya()\n",
        "print(\"Part 1: \")\n",
        "print(\"Name of President: \", wadiya.name)\n",
        "print(\"Designation: \", wadiya.designation)\n",
        "print(\"Number of Wife: \", wadiya.num_of_wife)\n",
        "print(\"Is he/she a dictator: \", wadiya.dictator)\n",
        "\n",
        "print(\"Part 2: \")\n",
        "\n",
        "wadiya.name = 'Donald Trump'\n",
        "wadiya.designation = 'President'\n",
        "wadiya.num_of_wife = 0\n",
        "wadiya.dictator = 'No'\n",
        "print(\"Name of President: \", wadiya.name)\n",
        "print(\"Designation: \", wadiya.designation)\n",
        "print(\"Number of Wife: \", wadiya.num_of_wife)\n",
        "print(\"Is he/she a dictator: \", wadiya.dictator)\n",
        "\n",
        "print(\"Previous Information lost\")"
      ],
      "execution_count": null,
      "outputs": [
        {
          "output_type": "stream",
          "text": [
            "Part 1: \n",
            "Name of President:  Aladeen\n",
            "Designation:  President Prime Minister Admiral General\n",
            "Number of Wife:  100\n",
            "Is he/she a dictator:  True\n",
            "Part 2: \n",
            "Name of President:  Donald Trump\n",
            "Designation:  President\n",
            "Number of Wife:  0\n",
            "Is he/she a dictator:  No\n",
            "Previous Information lost\n"
          ],
          "name": "stdout"
        }
      ]
    },
    {
      "cell_type": "code",
      "metadata": {
        "id": "DzW-piaQm_Ik",
        "colab": {
          "base_uri": "https://localhost:8080/"
        },
        "outputId": "6ae2a6e3-e8d0-4879-b99a-026237195b45"
      },
      "source": [
        "#4\n",
        "class Joker:\n",
        "    def __init__(self, name, power, som):\n",
        "        self.name = name\n",
        "        self.power = power\n",
        "        self.is_he_psycho = som\n",
        "\n",
        "\n",
        "j1 = Joker('Heath Ledger', 'Mind Game', False)\n",
        "print(j1.name)\n",
        "print(j1.power)\n",
        "print(j1.is_he_psycho)\n",
        "print(\"=====================\")\n",
        "j2 = Joker('Joaquin Phoenix', 'Laughing out Loud', True)\n",
        "print(j2.name)\n",
        "print(j2.power)\n",
        "print(j2.is_he_psycho)\n",
        "print(\"=====================\")\n",
        "if j1 == j2:\n",
        "    print('same')\n",
        "else:\n",
        "    print('different')\n",
        "j2.name = 'Heath Ledger'\n",
        "if j1.name == j2.name:\n",
        "    print('same')\n",
        "else:\n",
        "    print('different')\n",
        "# Write your code for 2,3 here\n",
        "print(\"The first if\\\\else block prints the answer as different because the values of object j1 and j2 were distinct.\")\n",
        "print(\"The second if\\\\else block prints the answer as same because the value of j1.name and j2.name were made same with an update.\")\n"
      ],
      "execution_count": null,
      "outputs": [
        {
          "output_type": "stream",
          "text": [
            "Heath Ledger\n",
            "Mind Game\n",
            "False\n",
            "=====================\n",
            "Joaquin Phoenix\n",
            "Laughing out Loud\n",
            "True\n",
            "=====================\n",
            "different\n",
            "same\n",
            "The first if\\else block prints the answer as different because the values of object j1 and j2 were distinct.\n",
            "The second if\\else block prints the answer as same because the value of j1.name and j2.name were made same with an update.\n"
          ],
          "name": "stdout"
        }
      ]
    },
    {
      "cell_type": "code",
      "metadata": {
        "id": "eOoBpizNm_Nj",
        "colab": {
          "base_uri": "https://localhost:8080/"
        },
        "outputId": "272c52c4-7709-416c-aef6-209944ce1b72"
      },
      "source": [
        "#5\n",
        "class Pokemon:\n",
        "    def __init__(self, pokemon1, pokemon2, power1, power2, damage):\n",
        "        self.pokemon1_name = pokemon1\n",
        "        self.pokemon2_name = pokemon2\n",
        "        self.pokemon1_power = power1\n",
        "        self.pokemon2_power = power2\n",
        "        self.damage_rate = damage\n",
        "\n",
        "\n",
        "team_pika = Pokemon('pikachu', 'charmander', 90, 60, 10)\n",
        "print('=======Team 1=======')\n",
        "print('Pokemon 1:', team_pika.pokemon1_name,\n",
        "      team_pika.pokemon1_power)\n",
        "print('Pokemon 2:', team_pika.pokemon2_name,\n",
        "      team_pika.pokemon2_power)\n",
        "pika_combined_power = (team_pika.pokemon1_power +\n",
        "                       team_pika.pokemon2_power) * team_pika.damage_rate\n",
        "print('Combined Power:', pika_combined_power)\n",
        "\n",
        "#Write your code for subtask 2,3,4 here\n",
        "\n",
        "team_bulb = Pokemon(\"bulbasaur\", \"squirtle\", 80, 70, 9)\n",
        "print('=======Team 2=======')\n",
        "print('Pokemon 1:', team_bulb.pokemon1_name,\n",
        "      team_bulb.pokemon1_power)\n",
        "print('Pokemon 2:', team_bulb.pokemon2_name,\n",
        "      team_bulb.pokemon2_power)\n",
        "bulb_combined_power = (team_bulb.pokemon1_power +\n",
        "                       team_bulb.pokemon2_power) * team_bulb.damage_rate\n",
        "print('Combined Power:', bulb_combined_power)\n"
      ],
      "execution_count": null,
      "outputs": [
        {
          "output_type": "stream",
          "text": [
            "=======Team 1=======\n",
            "Pokemon 1: pikachu 90\n",
            "Pokemon 2: charmander 60\n",
            "Combined Power: 1500\n",
            "=======Team 2=======\n",
            "Pokemon 1: bulbasaur 80\n",
            "Pokemon 2: squirtle 70\n",
            "Combined Power: 1350\n"
          ],
          "name": "stdout"
        }
      ]
    },
    {
      "cell_type": "code",
      "metadata": {
        "id": "39G-63o6m_S8",
        "colab": {
          "base_uri": "https://localhost:8080/"
        },
        "outputId": "2faf1747-c7a0-41e5-8b5d-176f4df604a3"
      },
      "source": [
        "#6\n",
        "class Player:\n",
        "    def __init__(self):\n",
        "        self.name = \"Input Name\"\n",
        "        self.jersy_number = \"Input Jersey no\"\n",
        "        self.position = \"Input position\"\n",
        "\n",
        "\n",
        "player1 = Player()\n",
        "player1.name = \"Ronaldo\"\n",
        "player1.jersy_number = 9\n",
        "player1.position = \"Striker\"\n",
        "print(\"Name of the Player:\", player1.name)\n",
        "print(\"Jersey Number of player:\", player1.jersy_number)\n",
        "print(\"Position of player:\", player1.position)\n",
        "print(\"===========================\")\n",
        "player2 = Player()\n",
        "player2.name = \"Neuer\"\n",
        "player2.jersy_number = 1\n",
        "player2.position = \"Goal Keeper\"\n",
        "print(\"Name of the player:\", player2.name)\n",
        "print(\"Jersey Number of player:\", player2.jersy_number)\n",
        "print(\"Position of player:\", player2.position)\n"
      ],
      "execution_count": null,
      "outputs": [
        {
          "output_type": "stream",
          "text": [
            "Name of the Player: Ronaldo\n",
            "Jersey Number of player: 9\n",
            "Position of player: Striker\n",
            "===========================\n",
            "Name of the player: Neuer\n",
            "Jersey Number of player: 1\n",
            "Position of player: Goal Keeper\n"
          ],
          "name": "stdout"
        }
      ]
    },
    {
      "cell_type": "code",
      "metadata": {
        "id": "5gAUlulZm_Xt",
        "colab": {
          "base_uri": "https://localhost:8080/"
        },
        "outputId": "2731f9e2-cf9d-41a0-f958-440f77d4cdab"
      },
      "source": [
        "#7\n",
        "class Country:\n",
        "    def __init__(self):\n",
        "        self.name = \"Bangladesh\"\n",
        "        self.continent = \"Asia\"\n",
        "        self.capital = \"Dhaka\"\n",
        "        self.fifa_ranking = 187\n",
        "\n",
        "\n",
        "country = Country()\n",
        "print('Name:', country.name)\n",
        "print('Continent:', country.continent)\n",
        "print('Capital:', country.capital)\n",
        "print('Fifa Ranking:', country.fifa_ranking)\n",
        "print('===================')\n",
        "country.name = \"Belgium\"\n",
        "country.continent = \"Europe\"\n",
        "country.capital = \"Brussels\"\n",
        "country.fifa_ranking = 1\n",
        "print('Name:', country.name)\n",
        "print('Continent:', country.continent)\n",
        "print('Capital:', country.capital)\n",
        "print('Fifa Ranking:', country.fifa_ranking)\n",
        "\n",
        "\n"
      ],
      "execution_count": null,
      "outputs": [
        {
          "output_type": "stream",
          "text": [
            "Name: Bangladesh\n",
            "Continent: Asia\n",
            "Capital: Dhaka\n",
            "Fifa Ranking: 187\n",
            "===================\n",
            "Name: Belgium\n",
            "Continent: Europe\n",
            "Capital: Brussels\n",
            "Fifa Ranking: 1\n"
          ],
          "name": "stdout"
        }
      ]
    },
    {
      "cell_type": "code",
      "metadata": {
        "id": "wrbIEGqZm_cS",
        "colab": {
          "base_uri": "https://localhost:8080/"
        },
        "outputId": "43294a6e-f2e7-4ae5-c9b9-359c2d60af56"
      },
      "source": [
        "#8\n",
        "class DemonSlayer:\n",
        "    def __init__(self, name, style, no, kills):\n",
        "        self.name = name\n",
        "        self.style = style\n",
        "        self.number_of_technique = no\n",
        "        self.kill = kills\n",
        "\n",
        "\n",
        "tanjiro = DemonSlayer(\"Tanjiro\", \"Water Breathing\", 10, 10)\n",
        "print('Name:', tanjiro.name)\n",
        "print('Fighting Style:', tanjiro.style)\n",
        "print(f'Knows {tanjiro.number_of_technique} technique(s) and has killed {tanjiro.kill} demon(s)')\n",
        "print('===================')\n",
        "zenitsu = DemonSlayer(\"Zenitsu\", \"Thunder Breathing\", 1, 4)\n",
        "print('Name:', zenitsu.name)\n",
        "print('Fighting Style:', zenitsu.style)\n",
        "print(f'Knows {zenitsu.number_of_technique} technique(s) and has killed {zenitsu.kill} demon(s)')\n",
        "print('===================')\n",
        "inosuke = DemonSlayer(\"Inosuke\", \"Beast Breathing\", 5, 7)\n",
        "print('Name:', inosuke.name)\n",
        "print('Fighting Style:', inosuke.style)\n",
        "print(f'Knows {inosuke.number_of_technique} technique(s) and has killed {inosuke.kill} demon(s)')\n",
        "print('===================')\n",
        "print(\n",
        "    f'{tanjiro.name}, {zenitsu.name}, {inosuke.name} knows total {tanjiro.number_of_technique + zenitsu.number_of_technique + inosuke.number_of_technique} techniques')\n",
        "print(f'They have killed total {tanjiro.kill + zenitsu.kill + inosuke.kill} demons')\n"
      ],
      "execution_count": null,
      "outputs": [
        {
          "output_type": "stream",
          "text": [
            "Name: Tanjiro\n",
            "Fighting Style: Water Breathing\n",
            "Knows 10 technique(s) and has killed 10 demon(s)\n",
            "===================\n",
            "Name: Zenitsu\n",
            "Fighting Style: Thunder Breathing\n",
            "Knows 1 technique(s) and has killed 4 demon(s)\n",
            "===================\n",
            "Name: Inosuke\n",
            "Fighting Style: Beast Breathing\n",
            "Knows 5 technique(s) and has killed 7 demon(s)\n",
            "===================\n",
            "Tanjiro, Zenitsu, Inosuke knows total 16 techniques\n",
            "They have killed total 21 demons\n"
          ],
          "name": "stdout"
        }
      ]
    },
    {
      "cell_type": "code",
      "metadata": {
        "id": "JMnh4cFFm_m6"
      },
      "source": [
        ""
      ],
      "execution_count": null,
      "outputs": []
    },
    {
      "cell_type": "code",
      "metadata": {
        "id": "oUl5TiTXm_wD"
      },
      "source": [
        ""
      ],
      "execution_count": null,
      "outputs": []
    }
  ]
}
