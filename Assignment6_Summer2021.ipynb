{
  "nbformat": 4,
  "nbformat_minor": 0,
  "metadata": {
    "colab": {
      "name": "Assignment6_Summer2021.ipynb",
      "provenance": [],
      "authorship_tag": "ABX9TyPZekjuxEdPqvf8IJFAmVpg",
      "include_colab_link": true
    },
    "kernelspec": {
      "name": "python3",
      "display_name": "Python 3"
    },
    "language_info": {
      "name": "python"
    }
  },
  "cells": [
    {
      "cell_type": "markdown",
      "metadata": {
        "id": "view-in-github",
        "colab_type": "text"
      },
      "source": [
        "<a href=\"https://colab.research.google.com/github/msayeshasiddikatonny/CSE111_Python/blob/main/Assignment6_Summer2021.ipynb\" target=\"_parent\"><img src=\"https://colab.research.google.com/assets/colab-badge.svg\" alt=\"Open In Colab\"/></a>"
      ]
    },
    {
      "cell_type": "code",
      "metadata": {
        "colab": {
          "base_uri": "https://localhost:8080/"
        },
        "id": "STTXothhpFPC",
        "outputId": "b3703c47-c4fa-4d74-d3b0-216a7a473857"
      },
      "source": [
        "#task 1\n",
        "class Student:\n",
        "    ID = 0\n",
        "    \n",
        "    def __init__(self,name,department,age,cgpa):\n",
        "        self.name = name\n",
        "        self.department = department\n",
        "        self.age = age\n",
        "        self.cgpa = cgpa\n",
        "        Student.ID += 1\n",
        "        \n",
        "    def get_details(self):\n",
        "        print(\"ID\",Student.ID)\n",
        "        print(\"Name\",self.name)\n",
        "        print(\"Department\",self.department)\n",
        "        print(\"Age\",self.age)\n",
        "        print(\"CGPA\",self.cgpa)\n",
        "        \n",
        "    @classmethod\n",
        "    def from_String(cls,details):\n",
        "        name,department,age,cgpa = details.split(\"-\")\n",
        "        obj = cls(name,department,age,cgpa)\n",
        "        return obj\n",
        "\n",
        "\n",
        "s1 = Student(\"Samin\", \"CSE\", 21, 3.91)\n",
        "s1.get_details()\n",
        "print(\"-----------------------\")\n",
        "s2 = Student(\"Fahim\", \"ECE\", 21, 3.85)\n",
        "s2.get_details()\n",
        "print(\"-----------------------\")\n",
        "s3 = Student(\"Tahura\", \"EEE\", 22, 3.01)\n",
        "s3.get_details()\n",
        "print(\"-----------------------\")\n",
        "s4 = Student.from_String(\"Sumaiya-BBA-23-3.96\")\n",
        "s4.get_details()\n",
        "\n",
        "#subtask 5\n",
        "print('Class variable is a type of variable which is defined inside a class but outside any method.On the other hand,instance variable is a variable which depends on the object we are generating values.')\n",
        "\n",
        "#subtask 6\n",
        "print('Instance method can on be called by the objects but class method can be called by both class name and objects.')\n"
      ],
      "execution_count": 1,
      "outputs": [
        {
          "output_type": "stream",
          "text": [
            "ID 1\n",
            "Name Samin\n",
            "Department CSE\n",
            "Age 21\n",
            "CGPA 3.91\n",
            "-----------------------\n",
            "ID 2\n",
            "Name Fahim\n",
            "Department ECE\n",
            "Age 21\n",
            "CGPA 3.85\n",
            "-----------------------\n",
            "ID 3\n",
            "Name Tahura\n",
            "Department EEE\n",
            "Age 22\n",
            "CGPA 3.01\n",
            "-----------------------\n",
            "ID 4\n",
            "Name Sumaiya\n",
            "Department BBA\n",
            "Age 23\n",
            "CGPA 3.96\n",
            "Class variable is a type of variable which is defined inside a class but outside any method.On the other hand,instance variable is a variable which depends on the object we are generating values.\n",
            "Instance method can on be called by the objects but class method can be called by both class name and objects.\n"
          ],
          "name": "stdout"
        }
      ]
    },
    {
      "cell_type": "code",
      "metadata": {
        "colab": {
          "base_uri": "https://localhost:8080/"
        },
        "id": "0EOWalXmpILs",
        "outputId": "56492c13-bc8b-4c27-b97d-738c346ade8c"
      },
      "source": [
        "#task 2\n",
        "#Task2\n",
        "\n",
        "class Assassin:\n",
        "    num = 0\n",
        "    \n",
        "    def __init__(self,name,success_rate):\n",
        "        self.name = name\n",
        "        self.success_rate = success_rate\n",
        "        Assassin.num += 1\n",
        "        \n",
        "    def printDetails(self):\n",
        "        print(\"Name: {}\".format(self.name))\n",
        "        print(\"Success rate: {}%\".format(self.success_rate))\n",
        "        print(\"Total number of Assassin: {}\".format(Assassin.num))\n",
        "    \n",
        "    @classmethod\n",
        "    def failureRate(cls, name, success_rate):\n",
        "        rate = 100-success_rate\n",
        "        assassin = cls(name, success_rate)\n",
        "        return assassin\n",
        "    \n",
        "    @classmethod\n",
        "    def failurePercentage(cls, name, rate):\n",
        "        rate = 100-rate\n",
        "        assassin = cls(name, rate)\n",
        "        return assassin\n",
        "\n",
        "john_wick = Assassin('John Wick', 100)\n",
        "john_wick.printDetails()\n",
        "print('================================')\n",
        "nagisa = Assassin.failureRate(\"Nagisa\", 20)\n",
        "nagisa.printDetails()\n",
        "print('================================')\n",
        "akabane = Assassin.failurePercentage('Akabane', 10)\n",
        "akabane.printDetails()\n"
      ],
      "execution_count": 2,
      "outputs": [
        {
          "output_type": "stream",
          "text": [
            "Name: John Wick\n",
            "Success rate: 100%\n",
            "Total number of Assassin: 1\n",
            "================================\n",
            "Name: Nagisa\n",
            "Success rate: 20%\n",
            "Total number of Assassin: 2\n",
            "================================\n",
            "Name: Akabane\n",
            "Success rate: 90%\n",
            "Total number of Assassin: 3\n"
          ],
          "name": "stdout"
        }
      ]
    },
    {
      "cell_type": "code",
      "metadata": {
        "colab": {
          "base_uri": "https://localhost:8080/"
        },
        "id": "Td9Yw3IhpIh6",
        "outputId": "8319bdc5-41e8-4199-e426-34e3323278c0"
      },
      "source": [
        "#task 3\n",
        "\n",
        "class Passenger:\n",
        "    count = 0\n",
        "    \n",
        "    def __init__(self,name):\n",
        "        self.name = name\n",
        "        Passenger.count += 1\n",
        "        \n",
        "    def set_bag_weight(self,weight):\n",
        "        self.weight = weight\n",
        "        \n",
        "    def printDetail(self):\n",
        "        if 21 <= self.weight <= 50:\n",
        "            bus_fare = 450 + 50\n",
        "            print(\"Name:\",self.name)\n",
        "            print(\"Bus Fare:\",bus_fare,\"Taka\")\n",
        "        \n",
        "        elif self.weight > 50:\n",
        "            bus_fare = 450 + 100\n",
        "            print(\"Name:\",self.name)\n",
        "            print(\"Bus Fare:\",bus_fare,\"Taka\")\n",
        "            \n",
        "        elif self.weight <= 20:\n",
        "            bus_fare = 450\n",
        "            print(\"Name:\",self.name)\n",
        "            print(\"Bus Fare:\",bus_fare,\"Taka\")\n",
        "        \n",
        "            \n",
        "print(\"Total Passenger:\", Passenger.count)\n",
        "p1 = Passenger(\"Jack\")\n",
        "p1.set_bag_weight(90)\n",
        "p2 = Passenger(\"Carol\")\n",
        "p2.set_bag_weight(10)\n",
        "p3 = Passenger(\"Mike\")\n",
        "p3.set_bag_weight(25)\n",
        "print(\"=========================\")\n",
        "p1.printDetail()\n",
        "print(\"=========================\")\n",
        "p2.printDetail()\n",
        "print(\"=========================\")\n",
        "p3.printDetail()\n",
        "print(\"=========================\")\n",
        "print(\"Total Passenger:\", Passenger.count)\n"
      ],
      "execution_count": 3,
      "outputs": [
        {
          "output_type": "stream",
          "text": [
            "Total Passenger: 0\n",
            "=========================\n",
            "Name: Jack\n",
            "Bus Fare: 550 Taka\n",
            "=========================\n",
            "Name: Carol\n",
            "Bus Fare: 450 Taka\n",
            "=========================\n",
            "Name: Mike\n",
            "Bus Fare: 500 Taka\n",
            "=========================\n",
            "Total Passenger: 3\n"
          ],
          "name": "stdout"
        }
      ]
    },
    {
      "cell_type": "code",
      "metadata": {
        "colab": {
          "base_uri": "https://localhost:8080/"
        },
        "id": "eB_F2gMFpJFb",
        "outputId": "f8a99f23-89a2-43e5-cdbf-b9de02d01ca9"
      },
      "source": [
        "#task 4\n",
        "class Travel:\n",
        "    count = 0\n",
        "    \n",
        "    def __init__(self,source,destination,time=1):\n",
        "        self.source = source\n",
        "        self.destination = destination\n",
        "        self.time = time\n",
        "        Travel.count += 1\n",
        "        \n",
        "    def set_time(self,time):\n",
        "        self.time = time\n",
        "        \n",
        "    def set_source(self,source):\n",
        "        self.source = source\n",
        "        \n",
        "    def set_destination(self,destination):\n",
        "        self.destination = destination\n",
        "        \n",
        "    def display_travel_info(self):\n",
        "        return f\"Source: {self.source}\\nDestination: {self.destination}\\nFlight Time:{self.time}:00\"\n",
        "        \n",
        "    \n",
        "        \n",
        "print(\"No. of Traveller =\", Travel.count)\n",
        "print(\"=======================\")\n",
        "t1 = Travel(\"Dhaka\",\"India\")\n",
        "print(t1.display_travel_info())\n",
        "print(\"=======================\")\n",
        "t2 = Travel(\"Kuala Lampur\",\"Dhaka\")\n",
        "t2.set_time(23)\n",
        "print(t2.display_travel_info())\n",
        "print(\"=======================\")\n",
        "t3 = Travel(\"Dhaka\",\"New_Zealand\")\n",
        "t3.set_time(15)\n",
        "t3.set_destination(\"Germany\")\n",
        "print(t3.display_travel_info())\n",
        "print(\"=======================\")\n",
        "t4 = Travel(\"Dhaka\",\"India\")\n",
        "t4.set_time(9)\n",
        "t4.set_source(\"Malaysia\")\n",
        "t4.set_destination(\"Canada\")\n",
        "print(t4.display_travel_info())\n",
        "print(\"=======================\")\n",
        "print(\"No. of Traveller =\", Travel.count)\n",
        "\n"
      ],
      "execution_count": 4,
      "outputs": [
        {
          "output_type": "stream",
          "text": [
            "No. of Traveller = 0\n",
            "=======================\n",
            "Source: Dhaka\n",
            "Destination: India\n",
            "Flight Time:1:00\n",
            "=======================\n",
            "Source: Kuala Lampur\n",
            "Destination: Dhaka\n",
            "Flight Time:23:00\n",
            "=======================\n",
            "Source: Dhaka\n",
            "Destination: Germany\n",
            "Flight Time:15:00\n",
            "=======================\n",
            "Source: Malaysia\n",
            "Destination: Canada\n",
            "Flight Time:9:00\n",
            "=======================\n",
            "No. of Traveller = 4\n"
          ],
          "name": "stdout"
        }
      ]
    },
    {
      "cell_type": "code",
      "metadata": {
        "colab": {
          "base_uri": "https://localhost:8080/"
        },
        "id": "5eDAEcwlpKFs",
        "outputId": "dbdbe849-233f-43fe-b71a-243235527935"
      },
      "source": [
        "#task 5\n",
        "from datetime import date\n",
        "class Employee:\n",
        "    def __init__(self, name, workingPeriod):\n",
        "        self.name = name\n",
        "        self.workingPeriod = workingPeriod\n",
        "        \n",
        "    @classmethod\n",
        "    def employeeByJoiningYear(cls, name, year):\n",
        "        return cls(name, date.today().year-year)\n",
        "    \n",
        "    @staticmethod\n",
        "    def experienceCheck(workingPeriod,gender):\n",
        "        if gender == \"male\":\n",
        "            if workingPeriod < 3:\n",
        "                string1 = \"He is not experienced\"\n",
        "                return string1\n",
        "            else:\n",
        "                string2 = \"He is experienced\"\n",
        "                return string2\n",
        "        else:\n",
        "            if workingPeriod < 3:\n",
        "                string1 = \"She is not experienced\"\n",
        "                return string1\n",
        "            else:\n",
        "                string2 = \"She is experienced\"\n",
        "                return string2\n",
        "            \n",
        "            \n",
        "employee1 = Employee('Dororo', 3)\n",
        "employee2 = Employee.employeeByJoiningYear('Harry', 2016)\n",
        "print(employee1.workingPeriod)\n",
        "print(employee2.workingPeriod)\n",
        "print(employee1.name)\n",
        "print(employee2.name)\n",
        "print(Employee.experienceCheck(2, \"male\"))\n",
        "print(Employee.experienceCheck(3, \"female\"))\n"
      ],
      "execution_count": 5,
      "outputs": [
        {
          "output_type": "stream",
          "text": [
            "3\n",
            "5\n",
            "Dororo\n",
            "Harry\n",
            "He is not experienced\n",
            "She is experienced\n"
          ],
          "name": "stdout"
        }
      ]
    },
    {
      "cell_type": "code",
      "metadata": {
        "colab": {
          "base_uri": "https://localhost:8080/"
        },
        "id": "-QHWx9xSpKc2",
        "outputId": "829bdced-75fe-4f05-d832-c1e244f5d9c7"
      },
      "source": [
        "#task 6\n",
        "\n",
        "class Laptop:\n",
        "    laptopCount = 0\n",
        "    def __init__(self,name,count):\n",
        "        self.name = name\n",
        "        self.count = count\n",
        "        Laptop.laptopCount += self.count\n",
        "        \n",
        "    @staticmethod\n",
        "    def advantage():\n",
        "        print(\"Laptops are portable\")\n",
        "    \n",
        "    @classmethod\n",
        "    def resetCount(cls):\n",
        "        Laptop.laptopCount = 0\n",
        "        return Laptop.laptopCount\n",
        "\n",
        "\n",
        "lenovo = Laptop(\"Lenovo\", 5);\n",
        "dell = Laptop(\"Dell\", 7);\n",
        "print(lenovo.name, lenovo.count)\n",
        "print(dell.name, dell.count)\n",
        "print(\"Total number of Laptops\", Laptop.laptopCount)\n",
        "Laptop.advantage()\n",
        "Laptop.resetCount()\n",
        "print(\"Total number of Laptops\", Laptop.laptopCount)"
      ],
      "execution_count": 6,
      "outputs": [
        {
          "output_type": "stream",
          "text": [
            "Lenovo 5\n",
            "Dell 7\n",
            "Total number of Laptops 12\n",
            "Laptops are portable\n",
            "Total number of Laptops 0\n"
          ],
          "name": "stdout"
        }
      ]
    },
    {
      "cell_type": "code",
      "metadata": {
        "colab": {
          "base_uri": "https://localhost:8080/"
        },
        "id": "RpAK74wUpLTa",
        "outputId": "ca680efe-9c5d-446e-857c-a3630e2a92dd"
      },
      "source": [
        "#task 7\n",
        "\n",
        "class Cat:\n",
        "    Number_of_cats = 0\n",
        "    def __init__(self, color, action):\n",
        "        self.color = color\n",
        "        self.action = action\n",
        "        Cat.Number_of_cats = Cat.Number_of_cats + 1\n",
        "    @classmethod\n",
        "    def no_parameter(cls):\n",
        "        cls.color = \"White\"\n",
        "        cls.action = \"sitting\"\n",
        "        return Cat(cls.color, cls.action)\n",
        "    @classmethod\n",
        "    def first_parameter(cls, color):\n",
        "        cls.color = color\n",
        "        cls.action = \"sitting\"\n",
        "        return Cat(cls.color, cls.action)\n",
        "    @classmethod\n",
        "    def second_parameter(cls, action):\n",
        "        cls.color = \"Grey\"\n",
        "        cls.action = action\n",
        "        return Cat(cls.color, cls.action)\n",
        "    def printCat(self):\n",
        "        print(self.color, \"cat is\" ,self.action)\n",
        "    def changeColor(self, color):\n",
        "        self.color = color\n",
        "\n",
        "print(\"Total number of cats:\", Cat.Number_of_cats)\n",
        "c1 = Cat.no_parameter()\n",
        "c2 = Cat.first_parameter(\"Black\")\n",
        "c3 = Cat(\"Brown\", \"jumping\")\n",
        "c4 = Cat(\"Red\", \"purring\")\n",
        "c5 = Cat.second_parameter(\"playing\")\n",
        "print(\"=======================\")\n",
        "c1.printCat()\n",
        "c2.printCat()\n",
        "c3.printCat()\n",
        "c4.printCat()\n",
        "c5.printCat()\n",
        "c1.changeColor(\"Blue\")\n",
        "c3.changeColor(\"Purple\")\n",
        "c1.printCat()\n",
        "c3.printCat()\n",
        "print(\"=======================\")\n",
        "print(\"Total number of cats:\", Cat.Number_of_cats)"
      ],
      "execution_count": 7,
      "outputs": [
        {
          "output_type": "stream",
          "text": [
            "Total number of cats: 0\n",
            "=======================\n",
            "White cat is sitting\n",
            "Black cat is sitting\n",
            "Brown cat is jumping\n",
            "Red cat is purring\n",
            "Grey cat is playing\n",
            "Blue cat is sitting\n",
            "Purple cat is jumping\n",
            "=======================\n",
            "Total number of cats: 5\n"
          ],
          "name": "stdout"
        }
      ]
    },
    {
      "cell_type": "code",
      "metadata": {
        "colab": {
          "base_uri": "https://localhost:8080/"
        },
        "id": "h8axl5QtpLQZ",
        "outputId": "edd91fb2-c658-4ef9-b3fb-be2411d17444"
      },
      "source": [
        "#task 8\n",
        "\n",
        "import math\n",
        "class Cylinder:\n",
        "    radius = 5\n",
        "    height = 18\n",
        "    \n",
        "    def __init__(self, radius, height):\n",
        "        print(\"Default radius=\", Cylinder.radius, \"and height=\",Cylinder.height)\n",
        "        Cylinder.radius = radius\n",
        "        Cylinder.height = height\n",
        "        print(\"Updated radius=\", Cylinder.radius, \"and height=\",Cylinder.height)\n",
        "        \n",
        "    @staticmethod\n",
        "    def area(radius, height):\n",
        "        result = (2 * math.pi * (radius ** 2)) + (2 * math.pi * radius * height)\n",
        "        print(\"Area:\",result) \n",
        "        \n",
        "    @staticmethod\n",
        "    def volume(radius, height):\n",
        "        result = math.pi * (radius ** 2) * height\n",
        "        print(\"Volume:\",result) \n",
        "        \n",
        "    @classmethod\n",
        "    def swap(cls, num1, num2):\n",
        "        return Cylinder(num2, num1)\n",
        "    \n",
        "    @classmethod\n",
        "    def changeFormat(cls, string):\n",
        "        cls.new_radius , cls.new_height = string.split(\"-\")\n",
        "        cls.new_radius = float(cls.new_radius)\n",
        "        cls.new_height = float(cls.new_height)\n",
        "        return Cylinder(cls.new_radius , cls.new_height)\n",
        "\n",
        "c1 = Cylinder(0,0)\n",
        "Cylinder.area(c1.radius,c1.height)\n",
        "Cylinder.volume(c1.radius,c1.height)\n",
        "print(\"===============================\")\n",
        "c2 = Cylinder.swap(8,3)\n",
        "c2.area(c2.radius,c2.height)\n",
        "c2.volume(c2.radius,c2.height)\n",
        "print(\"===============================\")\n",
        "c3 = Cylinder.changeFormat(\"7-13\")\n",
        "c3.area(c3.radius,c3.height)\n",
        "c3.volume(c3.radius,c3.height)\n",
        "print(\"===============================\")\n",
        "Cylinder(0.3,5.56).area(Cylinder.radius,Cylinder.height)\n",
        "print(\"===============================\")\n",
        "Cylinder(3,5).volume(Cylinder.radius,Cylinder.height)\n"
      ],
      "execution_count": 8,
      "outputs": [
        {
          "output_type": "stream",
          "text": [
            "Default radius= 5 and height= 18\n",
            "Updated radius= 0 and height= 0\n",
            "Area: 0.0\n",
            "Volume: 0.0\n",
            "===============================\n",
            "Default radius= 0 and height= 0\n",
            "Updated radius= 3 and height= 8\n",
            "Area: 207.34511513692635\n",
            "Volume: 226.1946710584651\n",
            "===============================\n",
            "Default radius= 3 and height= 8\n",
            "Updated radius= 7.0 and height= 13.0\n",
            "Area: 879.645943005142\n",
            "Volume: 2001.1945203366981\n",
            "===============================\n",
            "Default radius= 7.0 and height= 13.0\n",
            "Updated radius= 0.3 and height= 5.56\n",
            "Area: 11.045839770021713\n",
            "===============================\n",
            "Default radius= 0.3 and height= 5.56\n",
            "Updated radius= 3 and height= 5\n",
            "Volume: 141.3716694115407\n"
          ],
          "name": "stdout"
        }
      ]
    },
    {
      "cell_type": "code",
      "metadata": {
        "colab": {
          "base_uri": "https://localhost:8080/"
        },
        "id": "J9spmfnvpLNP",
        "outputId": "8c2d42e3-7e6e-4da7-9203-37875c0ed7a8"
      },
      "source": [
        "# task 9\n",
        "\n",
        "\n",
        "class Student:\n",
        "    total_count = 0\n",
        "    bracu_count = 0\n",
        "    other_count = 0\n",
        "\n",
        "    def __init__(self, name, dept, institution='BRAC University'):\n",
        "        self.name = name\n",
        "        self.dept = dept\n",
        "        self.institution = institution\n",
        "        Student.total_count += 1\n",
        "        if self.institution == 'BRAC University':\n",
        "            Student.bracu_count += 1\n",
        "        else:\n",
        "            Student.other_count += 1\n",
        "\n",
        "    def individualDetail(self):\n",
        "        print('Name:', self.name,\n",
        "              '\\nDepartment:', self.dept,\n",
        "              '\\nInstitution:', self.institution)\n",
        "\n",
        "    @classmethod\n",
        "    def createStudent(cls, name, dept, institution='BRAC University'):\n",
        "        return cls(name, dept, institution)\n",
        "\n",
        "    @classmethod\n",
        "    def printDetails(cls):\n",
        "        print('Total Student(s):', Student.total_count,\n",
        "              '\\nBRAC University Student(s):', Student.bracu_count,\n",
        "              '\\nOther Institution Student(s):', Student.other_count)\n",
        "\n",
        "Student.printDetails()\n",
        "print('#########################')\n",
        "mikasa = Student('Mikasa Ackerman', \"CSE\")\n",
        "mikasa.individualDetail()\n",
        "print('------------------------------------------')\n",
        "Student.printDetails()\n",
        "print('========================')\n",
        "harry = Student.createStudent('Harry Potter', \"Defence Against Dark Arts\", \"Hogwarts School\")\n",
        "harry.individualDetail()\n",
        "print('-------------------------------------------')\n",
        "Student.printDetails()\n",
        "print('=========================')\n",
        "levi = Student.createStudent(\"Levi Ackerman\", \"CSE\")\n",
        "levi.individualDetail()\n",
        "print('--------------------------------------------')\n",
        "Student.printDetails()\n"
      ],
      "execution_count": 9,
      "outputs": [
        {
          "output_type": "stream",
          "text": [
            "Total Student(s): 0 \n",
            "BRAC University Student(s): 0 \n",
            "Other Institution Student(s): 0\n",
            "#########################\n",
            "Name: Mikasa Ackerman \n",
            "Department: CSE \n",
            "Institution: BRAC University\n",
            "------------------------------------------\n",
            "Total Student(s): 1 \n",
            "BRAC University Student(s): 1 \n",
            "Other Institution Student(s): 0\n",
            "========================\n",
            "Name: Harry Potter \n",
            "Department: Defence Against Dark Arts \n",
            "Institution: Hogwarts School\n",
            "-------------------------------------------\n",
            "Total Student(s): 2 \n",
            "BRAC University Student(s): 1 \n",
            "Other Institution Student(s): 1\n",
            "=========================\n",
            "Name: Levi Ackerman \n",
            "Department: CSE \n",
            "Institution: BRAC University\n",
            "--------------------------------------------\n",
            "Total Student(s): 3 \n",
            "BRAC University Student(s): 2 \n",
            "Other Institution Student(s): 1\n"
          ],
          "name": "stdout"
        }
      ]
    },
    {
      "cell_type": "code",
      "metadata": {
        "colab": {
          "base_uri": "https://localhost:8080/"
        },
        "id": "ewPspQiypLJ6",
        "outputId": "bcc080bd-7f52-49d3-b245-021186fcf180"
      },
      "source": [
        "#task 10\n",
        "\n",
        "class SultansDine:\n",
        "    total_branch = 0\n",
        "    total_sell = 0\n",
        "    list1 = []\n",
        "    \n",
        "    def __init__(self, name):\n",
        "        self.name = name\n",
        "        self.branch_sell = 0\n",
        "        SultansDine.total_branch += 1\n",
        "        SultansDine.list1.append(self)\n",
        "        \n",
        "    def sellQuantity(self, quantity):\n",
        "        self.quantity = quantity\n",
        "        \n",
        "        if self.quantity < 10:\n",
        "            self.branch_sell = self.quantity * 300\n",
        "        elif self.quantity < 20:\n",
        "            self.branch_sell = self.quantity * 350\n",
        "        else:\n",
        "            self.branch_sell = self.quantity * 400\n",
        "        \n",
        "        SultansDine.total_sell += self.branch_sell\n",
        "            \n",
        "    def branchInformation(self):\n",
        "        print('Branch Name:', self.name)\n",
        "        print('Branch Sell:', self.branch_sell, 'Taka')\n",
        "        \n",
        "    @classmethod\n",
        "    def details(cls):\n",
        "        print('Total Number of branch(s):', SultansDine.total_branch)\n",
        "        print('Total Sell:', SultansDine.total_sell, 'Taka')\n",
        "        for obj in SultansDine.list1:\n",
        "            print('Branch Name:', obj.name, end = ', ')\n",
        "            print('Branch Sell:', obj.branch_sell)\n",
        "            percentage = (obj.branch_sell / SultansDine.total_sell) * 100\n",
        "            print(\"Branch consists of total sell's: {}%\".format(\"%.2f\" % percentage))\n",
        "        \n",
        "\n",
        "        \n",
        "SultansDine.details()\n",
        "print('########################')\n",
        "dhanmodi = SultansDine('Dhanmondi')\n",
        "dhanmodi.sellQuantity(25)\n",
        "dhanmodi.branchInformation()\n",
        "print('-----------------------------------------')\n",
        "SultansDine.details()\n",
        "print('========================')\n",
        "baily_road = SultansDine('Baily Road')\n",
        "baily_road.sellQuantity(15)\n",
        "baily_road.branchInformation()\n",
        "print('-----------------------------------------')\n",
        "SultansDine.details()\n",
        "print('========================')\n",
        "gulshan = SultansDine('Gulshan')\n",
        "gulshan.sellQuantity(9)\n",
        "gulshan.branchInformation()\n",
        "print('-----------------------------------------')\n",
        "SultansDine.details()\n"
      ],
      "execution_count": 10,
      "outputs": [
        {
          "output_type": "stream",
          "text": [
            "Total Number of branch(s): 0\n",
            "Total Sell: 0 Taka\n",
            "########################\n",
            "Branch Name: Dhanmondi\n",
            "Branch Sell: 10000 Taka\n",
            "-----------------------------------------\n",
            "Total Number of branch(s): 1\n",
            "Total Sell: 10000 Taka\n",
            "Branch Name: Dhanmondi, Branch Sell: 10000\n",
            "Branch consists of total sell's: 100.00%\n",
            "========================\n",
            "Branch Name: Baily Road\n",
            "Branch Sell: 5250 Taka\n",
            "-----------------------------------------\n",
            "Total Number of branch(s): 2\n",
            "Total Sell: 15250 Taka\n",
            "Branch Name: Dhanmondi, Branch Sell: 10000\n",
            "Branch consists of total sell's: 65.57%\n",
            "Branch Name: Baily Road, Branch Sell: 5250\n",
            "Branch consists of total sell's: 34.43%\n",
            "========================\n",
            "Branch Name: Gulshan\n",
            "Branch Sell: 2700 Taka\n",
            "-----------------------------------------\n",
            "Total Number of branch(s): 3\n",
            "Total Sell: 17950 Taka\n",
            "Branch Name: Dhanmondi, Branch Sell: 10000\n",
            "Branch consists of total sell's: 55.71%\n",
            "Branch Name: Baily Road, Branch Sell: 5250\n",
            "Branch consists of total sell's: 29.25%\n",
            "Branch Name: Gulshan, Branch Sell: 2700\n",
            "Branch consists of total sell's: 15.04%\n"
          ],
          "name": "stdout"
        }
      ]
    },
    {
      "cell_type": "code",
      "metadata": {
        "id": "yYB0kdU8pLG3"
      },
      "source": [
        ""
      ],
      "execution_count": null,
      "outputs": []
    },
    {
      "cell_type": "code",
      "metadata": {
        "id": "N6ko6uHapK9p"
      },
      "source": [
        ""
      ],
      "execution_count": null,
      "outputs": []
    },
    {
      "cell_type": "code",
      "metadata": {
        "id": "ERerkCZ1pKw2"
      },
      "source": [
        ""
      ],
      "execution_count": null,
      "outputs": []
    }
  ]
}