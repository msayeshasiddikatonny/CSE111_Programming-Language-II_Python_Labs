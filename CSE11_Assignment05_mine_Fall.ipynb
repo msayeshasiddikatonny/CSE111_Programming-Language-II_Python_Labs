{
  "nbformat": 4,
  "nbformat_minor": 0,
  "metadata": {
    "colab": {
      "name": "CSE11_Assignment05_mine_Fall.ipynb",
      "provenance": [],
      "authorship_tag": "ABX9TyPRT5oGyYeL18TI82pEcLw/",
      "include_colab_link": true
    },
    "kernelspec": {
      "name": "python3",
      "display_name": "Python 3"
    },
    "language_info": {
      "name": "python"
    }
  },
  "cells": [
    {
      "cell_type": "markdown",
      "metadata": {
        "id": "view-in-github",
        "colab_type": "text"
      },
      "source": [
        "<a href=\"https://colab.research.google.com/github/msayeshasiddikatonny/CSE111_Python/blob/main/CSE11_Assignment05_mine_Fall.ipynb\" target=\"_parent\"><img src=\"https://colab.research.google.com/assets/colab-badge.svg\" alt=\"Open In Colab\"/></a>"
      ]
    },
    {
      "cell_type": "markdown",
      "source": [
        "Task 1\n",
        "\n",
        "Write a class called Marks with a required constructor. Then perform the addition using operator overloading"
      ],
      "metadata": {
        "id": "RGCsjh5RLiIX"
      }
    },
    {
      "cell_type": "code",
      "execution_count": 4,
      "metadata": {
        "colab": {
          "base_uri": "https://localhost:8080/"
        },
        "id": "D-HWnbK6-vvk",
        "outputId": "acee7a15-b659-4030-8b62-c3027d783b7a"
      },
      "outputs": [
        {
          "output_type": "stream",
          "name": "stdout",
          "text": [
            "Quiz 1 (out of 10): 10\n",
            "Quiz 2 (out of 10): 10\n",
            "Lab (out of 30): 30\n",
            "Mid (out of 20): 20\n",
            "Final (out of 30): 30\n",
            "Total marks: 100\n"
          ]
        }
      ],
      "source": [
        "#Task 1\n",
        "class Marks:\n",
        "    def __init__(self, mark):\n",
        "        self.mark = mark\n",
        "\n",
        "    def __add__(self, mark_f):\n",
        "        return Marks(self.mark + mark_f.mark)\n",
        "\n",
        "\n",
        "Q1 = Marks(int(input(\"Quiz 1 (out of 10): \")))\n",
        "Q2 = Marks(int(input(\"Quiz 2 (out of 10): \")))\n",
        "Lab = Marks(int(input(\"Lab (out of 30): \")))\n",
        "Mid = Marks(int(input(\"Mid (out of 20): \")))\n",
        "Final = Marks(int(input(\"Final (out of 30): \")))\n",
        "total = Q1 + Q2 + Lab + Mid + Final\n",
        "print(\"Total marks: {}\".format(total.mark))"
      ]
    },
    {
      "cell_type": "code",
      "source": [
        "#Question 1\n",
        "\n",
        "class Marks:\n",
        "\n",
        "    def __init__(self, mark):\n",
        "        self.mark = mark\n",
        "\n",
        "    def  __add__(self, newMark):\n",
        "        total = self.mark + newMark.mark\n",
        "        objectt = Marks(total)\n",
        "        return objectt\n",
        "\n",
        "#===================================given code==================================#        \n",
        "        \n",
        "Q1 = Marks(int(input(\"Quiz 1 (out of 10): \")))\n",
        "Q2 = Marks(int(input(\"Quiz 2 (out of 10): \")))\n",
        "Lab = Marks(int(input(\"Lab (out of 30): \")))\n",
        "Mid = Marks(int(input(\"Mid (out of 20): \")))  \n",
        "Final = Marks(int(input(\"Final (out of 30): \")))\n",
        "total = Q1 + Q2 + Lab + Mid + Final\n",
        "print(\"Total marks: {}\".format(total.mark))12"
      ],
      "metadata": {
        "colab": {
          "base_uri": "https://localhost:8080/"
        },
        "id": "f7TbifKICeeB",
        "outputId": "a04b4efb-c803-4738-eec5-8cbefefacd17"
      },
      "execution_count": 11,
      "outputs": [
        {
          "output_type": "stream",
          "name": "stdout",
          "text": [
            "Quiz 1 (out of 10): 10\n",
            "Quiz 2 (out of 10): 0\n",
            "Lab (out of 30): 30\n",
            "Mid (out of 20): 20\n",
            "Final (out of 30): 30\n",
            "Total marks: 90\n"
          ]
        }
      ]
    },
    {
      "cell_type": "markdown",
      "source": [
        "Task 2\n",
        "\n",
        "Design the program to get the output as shown.\n",
        "Subtasks:\n",
        "1. You will need to create 2 classes: Teacher and Course\n",
        "2. Make all the variables in the Teacher class private.\n",
        "3. Make all the variables in the Course class public.\n",
        "4. Write the required codes in the Teacher and Course classes.\n"
      ],
      "metadata": {
        "id": "x467BS4cLqRl"
      }
    },
    {
      "cell_type": "code",
      "source": [
        "#Task 2\n",
        "class Teacher:\n",
        "    def __init__(self, f_name, f_department):\n",
        "        self.f_name = f_name\n",
        "        self.f_dept = f_department\n",
        "        self.course = []\n",
        "\n",
        "    def addCourse(self, course):\n",
        "        self.course.append(course.all_course)\n",
        "\n",
        "    def printDetail(self):\n",
        "        print(\"==========================================\")\n",
        "        print(\"Name:\", self.f_name)\n",
        "        print(\"Department:\", self.f_dept)\n",
        "        print(\"List of courses\")\n",
        "        print(\"==========================================\")\n",
        "        for f in self.course:\n",
        "            print(f)\n",
        "        print(\"==========================================\")\n",
        "\n",
        "\n",
        "class Course:\n",
        "    def __init__(self, all_course):\n",
        "        self.all_course = all_course\n",
        "\n",
        "\n",
        "t1 = Teacher(\"Saad Abdullah\", \"CSE\")\n",
        "t2 = Teacher(\"Mumit Khan\", \"CSE\")\n",
        "t3 = Teacher(\"Sadia Kazi\", \"CSE\")\n",
        "c1 = Course(\"CSE 110 Programming Language I\")\n",
        "c2 = Course(\"CSE 111 Programming Language-II\")\n",
        "c3 = Course(\"CSE 220 Data Structures\")\n",
        "c4 = Course(\"CSE 221 Algorithms\")\n",
        "c5 = Course(\"CCSE 230 Discrete Mathematics\")\n",
        "c6 = Course(\"CSE 310 Object Oriented Programming\")\n",
        "c7 = Course(\"CSE 320 Data Communications\")\n",
        "c8 = Course(\"CSE 340 Computer Architecture\")\n",
        "t1.addCourse(c1)\n",
        "t1.addCourse(c2)\n",
        "t2.addCourse(c3)\n",
        "t2.addCourse(c4)\n",
        "t2.addCourse(c5)\n",
        "t3.addCourse(c6)\n",
        "t3.addCourse(c7)\n",
        "t3.addCourse(c8)\n",
        "t1.printDetail()\n",
        "t2.printDetail()\n",
        "t3.printDetail()"
      ],
      "metadata": {
        "colab": {
          "base_uri": "https://localhost:8080/"
        },
        "id": "wUbrEeLx-1er",
        "outputId": "57422d5a-0dd9-4f76-fcfd-f92ac8dd6358"
      },
      "execution_count": 5,
      "outputs": [
        {
          "output_type": "stream",
          "name": "stdout",
          "text": [
            "==========================================\n",
            "Name: Saad Abdullah\n",
            "Department: CSE\n",
            "List of courses\n",
            "==========================================\n",
            "CSE 110 Programming Language I\n",
            "CSE 111 Programming Language-II\n",
            "==========================================\n",
            "==========================================\n",
            "Name: Mumit Khan\n",
            "Department: CSE\n",
            "List of courses\n",
            "==========================================\n",
            "CSE 220 Data Structures\n",
            "CSE 221 Algorithms\n",
            "CCSE 230 Discrete Mathematics\n",
            "==========================================\n",
            "==========================================\n",
            "Name: Sadia Kazi\n",
            "Department: CSE\n",
            "List of courses\n",
            "==========================================\n",
            "CSE 310 Object Oriented Programming\n",
            "CSE 320 Data Communications\n",
            "CSE 340 Computer Architecture\n",
            "==========================================\n"
          ]
        }
      ]
    },
    {
      "cell_type": "code",
      "source": [
        "\n",
        "#Question 2\n",
        "\n",
        "class Teacher: \n",
        "\n",
        "    def __init__(self, name, depart): \n",
        "        self.__name = name \n",
        "        self.__depart = depart \n",
        "        self.__lstCourse = [] \n",
        "    \n",
        "    def printDetail(self): \n",
        "        print(\"===========================================\")\n",
        "        print(f\"Name: {self.__name}\\nDepartment: {self.__depart}\\nList of courses\")    \n",
        "        print(\"===========================================\")\n",
        "        for x in self.__lstCourse:\n",
        "            print(x)\n",
        "        print(\"===========================================\")\n",
        "\n",
        "    def addCourse(self, var): \n",
        "        self.__lstCourse.append(var.course)          \n",
        "\n",
        "\n",
        "class Course:\n",
        "    \n",
        "    def __init__(self, courseName):\n",
        "        self.course = courseName\n",
        "\n",
        "#===================================given code==================================#\n",
        "\n",
        "t1 = Teacher(\"Saad Abdullah\", \"CSE\")\n",
        "t2 = Teacher(\"Mumit Khan\", \"CSE\")\n",
        "t3 = Teacher(\"Sadia Kazi\", \"CSE\")\n",
        "c1 = Course(\"CSE 110 Programming Language I\")\n",
        "c2 = Course(\"CSE 111 Programming Language-II\")\n",
        "c3 = Course(\"CSE 220 Data Structures\")\n",
        "c4 = Course(\"CSE 221 Algorithms\")\n",
        "c5 = Course(\"CCSE 230 Discrete Mathematics\")\n",
        "c6 = Course(\"CSE 310 Object Oriented Programming\")\n",
        "c7 = Course(\"CSE 320 Data Communications\")\n",
        "c8 = Course(\"CSE 340 Computer Architecture\")\n",
        "t1.addCourse(c1)\n",
        "t1.addCourse(c2)\n",
        "t2.addCourse(c3)\n",
        "t2.addCourse(c4)\n",
        "t2.addCourse(c5)\n",
        "t3.addCourse(c6)\n",
        "t3.addCourse(c7)\n",
        "t3.addCourse(c8)\n",
        "t1.printDetail()\n",
        "t2.printDetail()\n",
        "t3.printDetail()"
      ],
      "metadata": {
        "colab": {
          "base_uri": "https://localhost:8080/"
        },
        "id": "2TQxCcwACtQr",
        "outputId": "72517b5b-483c-42bb-d365-fc21cf496bde"
      },
      "execution_count": 13,
      "outputs": [
        {
          "output_type": "stream",
          "name": "stdout",
          "text": [
            "===========================================\n",
            "Name: Saad Abdullah\n",
            "Department: CSE\n",
            "List of courses\n",
            "===========================================\n",
            "CSE 110 Programming Language I\n",
            "CSE 111 Programming Language-II\n",
            "===========================================\n",
            "===========================================\n",
            "Name: Mumit Khan\n",
            "Department: CSE\n",
            "List of courses\n",
            "===========================================\n",
            "CSE 220 Data Structures\n",
            "CSE 221 Algorithms\n",
            "CCSE 230 Discrete Mathematics\n",
            "===========================================\n",
            "===========================================\n",
            "Name: Sadia Kazi\n",
            "Department: CSE\n",
            "List of courses\n",
            "===========================================\n",
            "CSE 310 Object Oriented Programming\n",
            "CSE 320 Data Communications\n",
            "CSE 340 Computer Architecture\n",
            "===========================================\n"
          ]
        }
      ]
    },
    {
      "cell_type": "markdown",
      "source": [
        "Task 3\n",
        "\n",
        "Design the program to get the output as shown.\n",
        "\n",
        "Subtasks:\n",
        "1. You will need to create 2 classes: Team and Player\n",
        "2. Make all the variables in the Team class private.\n",
        "3. Make all the variables in the Player class public.\n",
        "4. Write the required codes in the Team and Player classes\n",
        "\n",
        "Hints:\n",
        "\n",
        " Create a list in team class to store the player’s name in that list\n",
        "\n",
        " Use constructor overloading technique for Team class"
      ],
      "metadata": {
        "id": "c8FDyBpFLwPn"
      }
    },
    {
      "cell_type": "code",
      "source": [
        "#Task 3\n",
        "class Team:\n",
        "    def __init__(self, name=''):\n",
        "        self.name1 = name\n",
        "        self.player = []\n",
        "\n",
        "    def setName(self, name):\n",
        "        self.name1 = name\n",
        "\n",
        "    def addPlayer(self, player):\n",
        "        self.player.append(player)\n",
        "\n",
        "    def printDetail(self):\n",
        "        print('======================')\n",
        "        print('Team:', self.name1)\n",
        "        print('List of players : ')\n",
        "        print(self.player)\n",
        "        print('======================')\n",
        "\n",
        "class Player:\n",
        "    def __init__(self, name):\n",
        "        self.name = name\n",
        "\n",
        "    def __repr__(self):\n",
        "        return self.name\n",
        "\n",
        "\n",
        "b = Team()\n",
        "b.setName('Bangladesh')\n",
        "mashrafi = Player(\"Mashrafi\")\n",
        "b.addPlayer(mashrafi)\n",
        "tamim = Player(\"Tamim\")\n",
        "b.addPlayer(tamim)\n",
        "b.printDetail()\n",
        "a = Team(\"Australia\")\n",
        "ponting = Player(\"Ponting\")\n",
        "a.addPlayer(ponting)\n",
        "lee = Player(\"Lee\")\n",
        "a.addPlayer(lee)\n",
        "a.printDetail()"
      ],
      "metadata": {
        "colab": {
          "base_uri": "https://localhost:8080/"
        },
        "id": "nOUBXaIW-2WR",
        "outputId": "468aa066-d2df-4d4c-de12-6e20018502d5"
      },
      "execution_count": 6,
      "outputs": [
        {
          "output_type": "stream",
          "name": "stdout",
          "text": [
            "======================\n",
            "Team: Bangladesh\n",
            "List of players : \n",
            "[Mashrafi, Tamim]\n",
            "======================\n",
            "======================\n",
            "Team: Australia\n",
            "List of players : \n",
            "[Ponting, Lee]\n",
            "======================\n"
          ]
        }
      ]
    },
    {
      "cell_type": "code",
      "source": [
        "#Question 3\n",
        "class Team:\n",
        "\n",
        "    def __init__(self, nameCountry = \"\"):\n",
        "        self.__nameCountry = nameCountry\n",
        "        self.__playerlst = []\n",
        "\n",
        "    def setName(self, nameCountry):\n",
        "        self.__nameCountry = nameCountry\n",
        "\n",
        "    def addPlayer(self, player):\n",
        "        self.__playerlst.append(player.nameCountry)\n",
        "\n",
        "    def printDetail(self):\n",
        "        print(\"====================\")\n",
        "        print(\"Team:\", self.__nameCountry)\n",
        "        print(\"List of players : \")\n",
        "        print(self.__playerlst)\n",
        "        print(\"====================\")\n",
        "\n",
        "\n",
        "class Player:\n",
        "\n",
        "    def __init__(self, nameCountry):\n",
        "        self.nameCountry = nameCountry\n",
        "\n",
        "#===================================given code==================================#\n",
        "\n",
        "b=Team()\n",
        "b.setName('Bangladesh')\n",
        "mashrafi=Player('Mashrafi')\n",
        "b.addPlayer(mashrafi)\n",
        "tamim=Player('Tamim')\n",
        "b.addPlayer(tamim)\n",
        "b.printDetail()\n",
        "a=Team('Australia')\n",
        "ponting=Player('Pointing')\n",
        "a.addPlayer(ponting)\n",
        "lee=Player('Lee')\n",
        "a.addPlayer(lee)\n",
        "a.printDetail()"
      ],
      "metadata": {
        "colab": {
          "base_uri": "https://localhost:8080/"
        },
        "id": "DBqTxOU4C0BN",
        "outputId": "ca121beb-9aa0-41a6-8255-bfd0fa353dc7"
      },
      "execution_count": 12,
      "outputs": [
        {
          "output_type": "stream",
          "name": "stdout",
          "text": [
            "====================\n",
            "Team: Bangladesh\n",
            "List of players : \n",
            "['Mashrafi', 'Tamim']\n",
            "====================\n",
            "====================\n",
            "Team: Australia\n",
            "List of players : \n",
            "['Pointing', 'Lee']\n",
            "====================\n"
          ]
        }
      ]
    },
    {
      "cell_type": "markdown",
      "source": [
        "Task 4\n",
        "\n",
        "Look at the code and the sample inputs and outputs below to design the program\n",
        "accordingly.\n",
        "1. Write a class called Color that only adds the 3 primary colors (red, blue and\n",
        "yellow).\n",
        "2. Write a required constructor for the class.\n",
        "3. You have to use operator overloading to get the desired outputs as shown.\n",
        "\n",
        "Hint:\n",
        "\n",
        "There will be only one constructor and only one method tackling the addition operation.\n",
        "\n",
        "No other methods are required.\n",
        "\n",
        "Note: Order of the color given as input should not matter.\n",
        "\n",
        "For example, in sample input1, if the first input was yellow and then red, the output would still be orange."
      ],
      "metadata": {
        "id": "xAp95TMcL2lR"
      }
    },
    {
      "cell_type": "code",
      "source": [
        "#Task 4\n",
        "class Color:\n",
        "    def __init__(self, clr):\n",
        "        self.clr = clr\n",
        "\n",
        "    def __add__(self, other):\n",
        "        new_color = self.clr + other.clr\n",
        "        if self.clr == 'red' and other.clr == 'yellow':\n",
        "            new_clr = Color('Orange')\n",
        "\n",
        "        elif self.clr == 'red' and other.clr == 'blue':\n",
        "            new_clr = Color('Violet')\n",
        "\n",
        "\n",
        "        elif self.clr == 'yellow' and other.clr == 'blue':\n",
        "            new_clr = Color('Green')\n",
        "        return new_clr\n",
        "\n",
        "\n",
        "C1 = Color(input(\"First Color: \").lower())\n",
        "C2 = Color(input(\"Second Color: \").lower())\n",
        "C3 = C1 + C2\n",
        "print(\"Color formed:\", C3.clr)"
      ],
      "metadata": {
        "colab": {
          "base_uri": "https://localhost:8080/"
        },
        "id": "Vf7Ajh_Y-28z",
        "outputId": "46136851-906f-4f8f-96ea-97160d2e5adc"
      },
      "execution_count": 7,
      "outputs": [
        {
          "output_type": "stream",
          "name": "stdout",
          "text": [
            "First Color: yellow\n",
            "Second Color: blue\n",
            "Color formed: Green\n"
          ]
        }
      ]
    },
    {
      "cell_type": "markdown",
      "source": [
        "Task 5\n",
        "\n",
        "Write a class called Circle with the required constructor and methods to get the\n",
        "following output.\n",
        "\n",
        "Subtasks:\n",
        "1. Create a class called Circle.\n",
        "2. Create the required constructor. Use Encapsulation to protect the variables. \n",
        "\n",
        "[Hint: Assign the variables in private]\n",
        "3. Create getRadius() and setRadius() method to access variables.\n",
        "4. Create a method called area to calculate the area of circles.\n",
        "5. Handle the operator overloading by using a special method to calculate the radius\n",
        "and area of circle 3."
      ],
      "metadata": {
        "id": "GJuM7P_AL8OC"
      }
    },
    {
      "cell_type": "code",
      "source": [
        "#Task 5\n",
        "import math\n",
        "\n",
        "class Circle:\n",
        "    rad = 0\n",
        "\n",
        "    def __init__(self, rad):\n",
        "        self.rad = rad\n",
        "\n",
        "    def getRadius(self):\n",
        "        return self.rad\n",
        "\n",
        "    def area(self):\n",
        "        return math.pi * self.rad * self.rad\n",
        "\n",
        "    def __add__(self, circle):\n",
        "        return Circle(self.rad + circle.getRadius())\n",
        "\n",
        "\n",
        "c1 = Circle(4)\n",
        "print(\"First circle radius:\", c1.getRadius())\n",
        "print(\"First circle area:\", c1.area())\n",
        "c2 = Circle(5)\n",
        "print(\"Second circle radius:\", c2.getRadius())\n",
        "print(\"Second circle area:\", c2.area())\n",
        "c3 = c1 + c2\n",
        "print(\"Third circle radius:\", c3.getRadius())\n",
        "print(\"Third circle area:\", c3.area())"
      ],
      "metadata": {
        "colab": {
          "base_uri": "https://localhost:8080/"
        },
        "id": "fLEgA-Tf_Eq0",
        "outputId": "e8d23a7a-d762-42ab-d161-69f5e613951b"
      },
      "execution_count": 8,
      "outputs": [
        {
          "output_type": "stream",
          "name": "stdout",
          "text": [
            "First circle radius: 4\n",
            "First circle area: 50.26548245743669\n",
            "Second circle radius: 5\n",
            "Second circle area: 78.53981633974483\n",
            "Third circle radius: 9\n",
            "Third circle area: 254.46900494077323\n"
          ]
        }
      ]
    },
    {
      "cell_type": "markdown",
      "source": [
        "Task 6\n",
        "\n",
        "Write a class called Triangle with the required constructor and methods to get the\n",
        "following output.\n",
        "Subtasks:\n",
        "1. Create a class called Triangle.\n",
        "2. Create the required constructor. Use Encapsulation to protect the variables. [Hint:\n",
        "Assign the variables in private]\n",
        "3. Create getBase(), getHeight(), setBase and setHeight() method to access\n",
        "variables.\n",
        "4. Create a method called area to calculate the area of triangles.\n",
        "5. Handle the operator overloading by using a special method to calculate the radius\n",
        "and area of triangle 3."
      ],
      "metadata": {
        "id": "8k52RxTRMCWW"
      }
    },
    {
      "cell_type": "code",
      "source": [
        "#Task 6\n",
        "class Triangle:\n",
        "    def __init__(self, f_base, f_height):\n",
        "        self.f_base = f_base\n",
        "        self.f_height = f_height\n",
        "        self.setBase(f_base)\n",
        "        self.setHeight(f_height)\n",
        "\n",
        "    def getBase(self):\n",
        "        return self.f_base\n",
        "\n",
        "    def getHeight(self):\n",
        "        return self.f_height\n",
        "\n",
        "    def setBase(self, f_base):\n",
        "        pass\n",
        "\n",
        "    def setHeight(self, f_height):\n",
        "        pass\n",
        "\n",
        "    def area(self):\n",
        "        return 0.5 * self.f_base * self.f_height\n",
        "\n",
        "    def __sub__(self, n):\n",
        "        return Triangle(self.f_base - n.f_base,\n",
        "                        self.f_height - n.f_height)\n",
        "\n",
        "\n",
        "t1 = Triangle(10, 5)\n",
        "print(\"First Triangle Base:\", t1.getBase())\n",
        "print(\"First Triangle Height:\", t1.getHeight())\n",
        "print(\"First Triangle area:\", t1.area())\n",
        "t2 = Triangle(5, 3)\n",
        "print(\"Second Triangle Base:\", t2.getBase())\n",
        "print(\"Second Triangle Height:\", t2.getHeight())\n",
        "print(\"Second Triangle area:\", t2.area())\n",
        "t3 = t1 - t2\n",
        "print(\"Third Triangle Base:\", t3.getBase())\n",
        "print(\"Third Triangle Height:\", t3.getHeight())\n",
        "print(\"Third Triangle area:\", t3.area())"
      ],
      "metadata": {
        "colab": {
          "base_uri": "https://localhost:8080/"
        },
        "id": "6HkEt4Yd_HR4",
        "outputId": "016d6449-9767-45d4-db2b-5aaa0a7f2992"
      },
      "execution_count": 9,
      "outputs": [
        {
          "output_type": "stream",
          "name": "stdout",
          "text": [
            "First Triangle Base: 10\n",
            "First Triangle Height: 5\n",
            "First Triangle area: 25.0\n",
            "Second Triangle Base: 5\n",
            "Second Triangle Height: 3\n",
            "Second Triangle area: 7.5\n",
            "Third Triangle Base: 5\n",
            "Third Triangle Height: 2\n",
            "Third Triangle area: 5.0\n"
          ]
        }
      ]
    },
    {
      "cell_type": "markdown",
      "source": [
        "Task 7\n",
        "\n",
        "Observe the given code carefully.\n",
        "\n",
        "Try to understand from the given code and the\n",
        "outputs what to write in your class Dolls.\n",
        "\n",
        "Subtasks:\n",
        "1. Create a Doll class.\n",
        "2. Create the required constructor.\n",
        "3. Write a method to print the name and the price of the object\n",
        "4. Use operator overloading for the addition operators.\n",
        "5. Write a method to handle operator overloading for the “>” logical operator that compares the price of the objects.\n",
        "\n",
        "Hints:\n",
        "\n",
        "● Notice that the price of each object is being checked with the price of obj in the given code.\n",
        "\n",
        "● Notice the word Doll in the first 4 outputs and the last output. You have to print exactly as represented here."
      ],
      "metadata": {
        "id": "61gTu8_yMHuZ"
      }
    },
    {
      "cell_type": "code",
      "source": [
        "#Task 7\n",
        "class Dolls:\n",
        "  def __init__(self,name,price):\n",
        "    self.name = name\n",
        "    self.price = price\n",
        "    self.totalSet = \" \"\n",
        "    self.totalPrice = \" \"\n",
        "  \n",
        "  def __gt__(self,other):\n",
        "    if  self.price > other.price:\n",
        "      return True\n",
        "    else:\n",
        "      return False\n",
        "\n",
        "  def __add__(self,other):\n",
        "    self.price = self.price + other.price\n",
        "    self.name = \"{} {}\".format(self.name,other.name)\n",
        "    return Dolls(self.name,self.price)\n",
        "\n",
        "  def detail(self):\n",
        "    x = self.name.split(\" \")\n",
        "    if len(x)>2:\n",
        "      return('''Dolls: {} \\nTotal price: {}'''.format(self.name,self.price))\n",
        "    else:\n",
        "      return('''Doll: {} \\nTotal price: {}'''.format(self.name,self.price))\n",
        "\n",
        "\n",
        "# Write your code here\n",
        "obj_1 = Dolls(\"Tweety\", 2500)\n",
        "print(obj_1.detail())\n",
        "if obj_1 > obj_1:\n",
        "  print(\"Congratulations! You get the Tweety as a gift!\")\n",
        "else:\n",
        "  print(\"Thank you!\")\n",
        "print(\"=========================\")\n",
        "\n",
        "obj_2 = Dolls(\"Daffy Duck\", 1800)\n",
        "print(obj_2.detail())\n",
        "if obj_2 > obj_1:\n",
        "  print(\"Congratulations! You get the Tweety as a gift!\")\n",
        "else:\n",
        "  print(\"Thank you!\")\n",
        "print(\"=========================\")\n",
        "\n",
        "obj_3 = Dolls(\"Bugs Bunny\", 3000)\n",
        "print(obj_3.detail())\n",
        "if obj_3 > obj_1:\n",
        "  print(\"Congratulations! You get the Tweety as a gift!\")\n",
        "else:\n",
        "  print(\"Thank you!\")\n",
        "print(\"=========================\")\n",
        "\n",
        "obj_4 = Dolls(\"Porky Pig\", 1500)\n",
        "print(obj_4.detail())\n",
        "if obj_4 > obj_1:\n",
        "  print(\"Congratulations! You get the Tweety as a gift!\")\n",
        "else:\n",
        "  print(\"Thank you!\")\n",
        "print(\"=========================\")\n",
        "\n",
        "obj_5 = obj_2 + obj_3\n",
        "print(obj_5.detail())\n",
        "if obj_5 > obj_1:\n",
        "  print(\"Congratulations! You get the Tweety as a gift!\")\n",
        "else:\n",
        "  print(\"Thank you!\")"
      ],
      "metadata": {
        "colab": {
          "base_uri": "https://localhost:8080/"
        },
        "id": "YLhs-8i8_G0O",
        "outputId": "5536786d-39b9-4870-c959-2a45c98f0a87"
      },
      "execution_count": 10,
      "outputs": [
        {
          "output_type": "stream",
          "name": "stdout",
          "text": [
            "Doll: Tweety \n",
            "Total price: 2500\n",
            "Thank you!\n",
            "=========================\n",
            "Doll: Daffy Duck \n",
            "Total price: 1800\n",
            "Thank you!\n",
            "=========================\n",
            "Doll: Bugs Bunny \n",
            "Total price: 3000\n",
            "Congratulations! You get the Tweety as a gift!\n",
            "=========================\n",
            "Doll: Porky Pig \n",
            "Total price: 1500\n",
            "Thank you!\n",
            "=========================\n",
            "Dolls: Daffy Duck Bugs Bunny \n",
            "Total price: 4800\n",
            "Congratulations! You get the Tweety as a gift!\n"
          ]
        }
      ]
    },
    {
      "cell_type": "markdown",
      "source": [
        "Task 8\n",
        "\n",
        "Design a class called Coordinates with an appropriate constructor. Then perform the subtraction, multiplication and equality check operations in the given code using operator overloading."
      ],
      "metadata": {
        "id": "0dDW6LFfMMOg"
      }
    },
    {
      "cell_type": "code",
      "source": [
        "#Task  8\n",
        "class Coordinates:\n",
        "  def __init__ (self,x,y):\n",
        "    self.__x = x\n",
        "    self.__y = y\n",
        "\n",
        "  def __sub__(self,other):\n",
        "    x = self.__x - other.__x\n",
        "    y = self.__y - other.__y\n",
        "    return Coordinates(x,y)\n",
        "\n",
        "  def __mul__(self,other):\n",
        "    x = self.__x * other.__x\n",
        "    y = self.__y * other.__y\n",
        "    return Coordinates(x,y)\n",
        "\n",
        "  def detail(self):\n",
        "    return (self.__x,self.__y)\n",
        "\n",
        "\n",
        "  def __eq__(self,other):\n",
        "    if (self.__x == other.__x) and (self.__y == other.__y):\n",
        "      return(\"The calculated coordinates are same.\")\n",
        "    else:\n",
        "      return(\"The calculated coordinates are NOT same.\")\n",
        "\n",
        "\n",
        " \n",
        "p1 = Coordinates(int(input()),int(input()))\n",
        "p2 = Coordinates(int(input()),int(input()))\n",
        "p4 = p1 - p2\n",
        "  \n",
        "print(p4.detail())\n",
        "p5 = p1 * p2\n",
        "print(p5.detail())\n",
        "point_check = (p4 == p5)\n",
        "print(point_check)"
      ],
      "metadata": {
        "colab": {
          "base_uri": "https://localhost:8080/"
        },
        "id": "7CopOdfZ_F1O",
        "outputId": "6ac4a612-6949-4512-ae31-fb3412f325a5"
      },
      "execution_count": 3,
      "outputs": [
        {
          "output_type": "stream",
          "name": "stdout",
          "text": [
            "1\n",
            "2\n",
            "3\n",
            "4\n",
            "(-2, -2)\n",
            "(3, 8)\n",
            "The calculated coordinates are NOT same.\n"
          ]
        }
      ]
    },
    {
      "cell_type": "code",
      "source": [
        "#Task 1"
      ],
      "metadata": {
        "id": "YsV44Wqx_FXW"
      },
      "execution_count": null,
      "outputs": []
    }
  ]
}