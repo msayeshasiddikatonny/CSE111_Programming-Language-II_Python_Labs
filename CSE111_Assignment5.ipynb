{
  "nbformat": 4,
  "nbformat_minor": 0,
  "metadata": {
    "colab": {
      "name": "CSE111_Assignment5.ipynb",
      "provenance": [],
      "authorship_tag": "ABX9TyMnTSzDg/Tg7vIy+KZKZKA5",
      "include_colab_link": true
    },
    "kernelspec": {
      "name": "python3",
      "display_name": "Python 3"
    },
    "language_info": {
      "name": "python"
    }
  },
  "cells": [
    {
      "cell_type": "markdown",
      "metadata": {
        "id": "view-in-github",
        "colab_type": "text"
      },
      "source": [
        "<a href=\"https://colab.research.google.com/github/msayeshasiddikatonny/CSE111_Python/blob/main/CSE111_Assignment5.ipynb\" target=\"_parent\"><img src=\"https://colab.research.google.com/assets/colab-badge.svg\" alt=\"Open In Colab\"/></a>"
      ]
    },
    {
      "cell_type": "code",
      "metadata": {
        "colab": {
          "base_uri": "https://localhost:8080/"
        },
        "id": "qpFp5O_EQIh2",
        "outputId": "548645ec-a0fe-4d08-fb96-cd55ae27c678"
      },
      "source": [
        "#Task-1\n",
        "class Marks:\n",
        "    def __init__(self, marks):\n",
        "        self.mark= marks\n",
        "\n",
        "    def __add__(self, other):\n",
        "        summation = self.mark+ other.mark\n",
        "        total= Marks(summation)\n",
        "        return total\n",
        "\n",
        "Q1 = Marks(int(input(\"Quiz 1 (out of 10): \")))\n",
        "Q2 = Marks(int(input(\"Quiz 2 (out of 10): \")))\n",
        "Lab = Marks(int(input(\"Lab (out of 30): \")))\n",
        "Mid = Marks(int(input(\"Mid (out of 20): \")))\n",
        "Final = Marks(int(input(\"Final (out of 30): \")))\n",
        "total = Q1 + Q2 + Lab + Mid + Final\n",
        "print(\"Total marks: {}\".format(total.mark))"
      ],
      "execution_count": 8,
      "outputs": [
        {
          "output_type": "stream",
          "text": [
            "Quiz 1 (out of 10): 10\n",
            "Quiz 2 (out of 10): 10\n",
            "Lab (out of 30): 29\n",
            "Mid (out of 20): 20\n",
            "Final (out of 30): 30\n",
            "Total marks: 99\n"
          ],
          "name": "stdout"
        }
      ]
    },
    {
      "cell_type": "code",
      "metadata": {
        "colab": {
          "base_uri": "https://localhost:8080/"
        },
        "id": "U3nXfXLXQMjt",
        "outputId": "883ccfd9-7774-4867-d15b-a7348979f950"
      },
      "source": [
        "#Task-2 \n",
        "class Teacher:\n",
        "    def __init__(self, name, department):\n",
        "        self.__teacher_name= name\n",
        "        self.__department= department\n",
        "        self.__course_list = []\n",
        "    def addCourse(self, courses):\n",
        "        self.__course_list.append(courses.course)\n",
        "    def printDetail(self):\n",
        "        print(\"====================================\")\n",
        "        print(\"Name:\", self.__teacher_name)\n",
        "        print(\"Department:\", self.__department)\n",
        "        print(\"List of courses\")\n",
        "        print(\"====================================\")\n",
        "        for item in self.__course_list:\n",
        "            print(item)\n",
        "        print(\"====================================\")\n",
        "class Course:\n",
        "    def __init__(self, course_name):\n",
        "        self.course= course_name\n",
        "\n",
        "t1 = Teacher(\"Saad Abdullah\", \"CSE\")\n",
        "t2 = Teacher(\"Mumit Khan\", \"CSE\")\n",
        "t3 = Teacher(\"Sadia Kazi\", \"CSE\")\n",
        "c1 = Course(\"CSE 110 Programming Language I\")\n",
        "c2 = Course(\"CSE 111 Programming Language-II\")\n",
        "c3 = Course(\"CSE 220 Data Structures\")\n",
        "c4 = Course(\"CSE 221 Algorithms\")\n",
        "c5 = Course(\"CCSE 230 Discrete Mathematics\")\n",
        "c6 = Course(\"CSE 310 Object Oriented Programming\")\n",
        "c7 = Course(\"CSE 320 Data Communications\")\n",
        "c8 = Course(\"CSE 340 Computer Architecture\")\n",
        "t1.addCourse(c1)\n",
        "t1.addCourse(c2)\n",
        "t2.addCourse(c3)\n",
        "t2.addCourse(c4)\n",
        "t2.addCourse(c5)\n",
        "t3.addCourse(c6)\n",
        "t3.addCourse(c7)\n",
        "t3.addCourse(c8)\n",
        "t1.printDetail()\n",
        "t2.printDetail()\n",
        "t3.printDetail()"
      ],
      "execution_count": 7,
      "outputs": [
        {
          "output_type": "stream",
          "text": [
            "====================================\n",
            "Name: Saad Abdullah\n",
            "Department: CSE\n",
            "List of courses\n",
            "====================================\n",
            "CSE 110 Programming Language I\n",
            "CSE 111 Programming Language-II\n",
            "====================================\n",
            "====================================\n",
            "Name: Mumit Khan\n",
            "Department: CSE\n",
            "List of courses\n",
            "====================================\n",
            "CSE 220 Data Structures\n",
            "CSE 221 Algorithms\n",
            "CCSE 230 Discrete Mathematics\n",
            "====================================\n",
            "====================================\n",
            "Name: Sadia Kazi\n",
            "Department: CSE\n",
            "List of courses\n",
            "====================================\n",
            "CSE 310 Object Oriented Programming\n",
            "CSE 320 Data Communications\n",
            "CSE 340 Computer Architecture\n",
            "====================================\n"
          ],
          "name": "stdout"
        }
      ]
    },
    {
      "cell_type": "code",
      "metadata": {
        "colab": {
          "base_uri": "https://localhost:8080/"
        },
        "id": "NfmBdKSLQNDY",
        "outputId": "4bebba1d-7ca5-449b-ac4a-07d8650ef340"
      },
      "source": [
        "#Task-3\n",
        "class Team:\n",
        "    def __init__(self, name= None):\n",
        "        if name== None:\n",
        "            self.__name = \"Default\"\n",
        "            self.__players_list = []\n",
        "        else:\n",
        "            self.__name = name\n",
        "            self.__players_list = []\n",
        "    def setName(self, name):\n",
        "        self.__name= name\n",
        "    def addPlayer(self, player):\n",
        "        self.__players_list.append(player.player_name)\n",
        "    def printDetail(self):\n",
        "        print(\"=====================\")\n",
        "        print(\"Team:\", self.__name)\n",
        "        print(\"List of Players:\")\n",
        "        print(self.__players_list)\n",
        "        print(\"=====================\")\n",
        "\n",
        "class Player:\n",
        "    def __init__(self, player_name):\n",
        "        self.player_name= player_name\n",
        "\n",
        "b = Team()\n",
        "b.setName('Bangladesh')\n",
        "mashrafi = Player(\"Mashrafi\")\n",
        "b.addPlayer(mashrafi)\n",
        "tamim = Player(\"Tamim\")\n",
        "b.addPlayer(tamim)\n",
        "b.printDetail()\n",
        "a = Team(\"Australia\")\n",
        "ponting = Player(\"Ponting\")\n",
        "a.addPlayer(ponting)\n",
        "lee = Player(\"Lee\")\n",
        "a.addPlayer(lee)\n",
        "a.printDetail()"
      ],
      "execution_count": 6,
      "outputs": [
        {
          "output_type": "stream",
          "text": [
            "=====================\n",
            "Team: Bangladesh\n",
            "List of Players:\n",
            "['Mashrafi', 'Tamim']\n",
            "=====================\n",
            "=====================\n",
            "Team: Australia\n",
            "List of Players:\n",
            "['Ponting', 'Lee']\n",
            "=====================\n"
          ],
          "name": "stdout"
        }
      ]
    },
    {
      "cell_type": "code",
      "metadata": {
        "colab": {
          "base_uri": "https://localhost:8080/"
        },
        "id": "4exHPmYHQNoA",
        "outputId": "3d7125de-e643-4de8-ef99-21ebc69f0e54"
      },
      "source": [
        "#Task-4\n",
        "class Color:\n",
        "    def __init__(self, colour):\n",
        "        self.clr = colour\n",
        "\n",
        "    def __add__(self, other):\n",
        "        new_colour= None\n",
        "        if self.clr== \"red\" and other.clr== \"yellow\":\n",
        "             new_colour= \"Orange\"\n",
        "        elif self.clr== \"yellow\" and other.clr== \"red\":\n",
        "            new_colour=  \"Orange\"\n",
        "        elif self.clr== \"red\" and other.clr== \"blue\":\n",
        "            new_colour= \"Violet\"\n",
        "        elif self.clr == \"blue\" and other.clr == \"red\":\n",
        "            new_colour= \"Violet\"\n",
        "        elif self.clr== \"yellow\" and other.clr == \"blue\":\n",
        "            new_colour= \"Green\"\n",
        "        elif self.clr == \"blue\" and other.clr == \"yellow\":\n",
        "            new_colour= \"Green\"\n",
        "        colour= Color(new_colour)\n",
        "        return colour\n",
        "\n",
        "C1 = Color(input(\"First Color: \").lower())\n",
        "C2 = Color(input(\"Second Color: \").lower())\n",
        "C3 = C1 + C2\n",
        "print(\"Color formed:\", C3.clr)"
      ],
      "execution_count": 5,
      "outputs": [
        {
          "output_type": "stream",
          "text": [
            "First Color: yellow\n",
            "Second Color: BLUE\n",
            "Color formed: Green\n"
          ],
          "name": "stdout"
        }
      ]
    },
    {
      "cell_type": "code",
      "metadata": {
        "colab": {
          "base_uri": "https://localhost:8080/"
        },
        "id": "iBZKpX8qQOOW",
        "outputId": "395bbd79-aedf-4816-af41-de5d2122f0e0"
      },
      "source": [
        "#Task- 5\n",
        "import math\n",
        "class Circle:\n",
        "    def __init__(self, radius, area= None):\n",
        "        self.__radius= radius\n",
        "    def area(self):\n",
        "        self.area = math.pi * (self.__radius ** 2)\n",
        "        return self.area\n",
        "    def getRadius(self):\n",
        "        return self.__radius\n",
        "    def setRadius(self, new_r):\n",
        "        self.__radius= new_r\n",
        "\n",
        "    def __add__(self, other):\n",
        "        new_radius= self.__radius + other.__radius\n",
        "        new_area= math.pi * (new_radius**2)\n",
        "        new_circle= Circle(new_radius,  float(new_area))\n",
        "        return new_circle\n",
        "\n",
        "c1 = Circle(4)\n",
        "print(\"First circle radius:\" , c1.getRadius())\n",
        "print(\"First circle area:\", c1.area())\n",
        "c2 = Circle(5)\n",
        "print(\"Second circle radius:\" ,c2.getRadius())\n",
        "print(\"Second circle area:\" ,c2.area())\n",
        "c3 = c1 + c2\n",
        "print(\"Third circle radius:\" ,c3.getRadius())\n",
        "print(\"Third circle area:\", c3.area())\n"
      ],
      "execution_count": 4,
      "outputs": [
        {
          "output_type": "stream",
          "text": [
            "First circle radius: 4\n",
            "First circle area: 50.26548245743669\n",
            "Second circle radius: 5\n",
            "Second circle area: 78.53981633974483\n",
            "Third circle radius: 9\n",
            "Third circle area: 254.46900494077323\n"
          ],
          "name": "stdout"
        }
      ]
    },
    {
      "cell_type": "code",
      "metadata": {
        "colab": {
          "base_uri": "https://localhost:8080/"
        },
        "id": "wqc8L2WOQOvK",
        "outputId": "4e2dc52b-6e76-422e-c194-9c25525df8d8"
      },
      "source": [
        "#Task-6\n",
        "class Triangle:\n",
        "    def __init__(self, base, height):\n",
        "        self.__base= base\n",
        "        self.__height= height\n",
        "    def getBase(self):\n",
        "        return  self.__base\n",
        "    def getHeight(self):\n",
        "        return self.__height\n",
        "    def setBase(self, new_base):\n",
        "        self.__base= new_base\n",
        "    def setHeight(self, new_height):\n",
        "        self.__height = new_height\n",
        "    def area(self):\n",
        "        self.area= (1/2)* self.__base * self.__height\n",
        "        return self.area\n",
        "    def __sub__(self, other):\n",
        "        self.new_b= self.__base - other.__base\n",
        "        self.new_h= self.__height- other.__height\n",
        "        self.new_area= (1/2) * self.new_b * self.new_h\n",
        "        new_triangle= Triangle(self.new_b, self.new_h)\n",
        "        return new_triangle\n",
        "\n",
        "t1 = Triangle(10, 5)\n",
        "print(\"First Triangle Base:\" , t1.getBase())\n",
        "print(\"First Triangle Height:\" , t1.getHeight())\n",
        "print(\"First Triangle area:\" ,t1.area())\n",
        "t2 = Triangle(5, 3)\n",
        "print(\"Second Triangle Base:\" , t2.getBase())\n",
        "print(\"Second Triangle Height:\" , t2.getHeight())\n",
        "print(\"Second Triangle area:\" ,t2.area())\n",
        "t3 = t1 - t2\n",
        "print(\"Third Triangle Base:\" , t3.getBase())\n",
        "print(\"Third Triangle Height:\" , t3.getHeight())\n",
        "print(\"Third Triangle area:\" ,t3.area())\n"
      ],
      "execution_count": 3,
      "outputs": [
        {
          "output_type": "stream",
          "text": [
            "First Triangle Base: 10\n",
            "First Triangle Height: 5\n",
            "First Triangle area: 25.0\n",
            "Second Triangle Base: 5\n",
            "Second Triangle Height: 3\n",
            "Second Triangle area: 7.5\n",
            "Third Triangle Base: 5\n",
            "Third Triangle Height: 2\n",
            "Third Triangle area: 5.0\n"
          ],
          "name": "stdout"
        }
      ]
    },
    {
      "cell_type": "code",
      "metadata": {
        "colab": {
          "base_uri": "https://localhost:8080/"
        },
        "id": "1pud5H3YQPTN",
        "outputId": "d6127632-166c-4a28-ade6-8a54faea2ccd"
      },
      "source": [
        "#Task- 7\n",
        "class Dolls:\n",
        "    def __init__(self, doll, price):\n",
        "        self.doll_name= doll\n",
        "        self.price= price\n",
        "    def detail(self):\n",
        "        return \"Doll: \"+ self.doll_name+ \"\\nTotal Price: \"+str(self.price)+ \" taka\"\n",
        "\n",
        "    def __add__(self, other):\n",
        "        new_name= self.doll_name+ \" \"+ other.doll_name\n",
        "        new_price= self.price + other.price\n",
        "        new_doll= Dolls(new_name, new_price)\n",
        "        return new_doll \n",
        "    def __gt__(self, other):\n",
        "        if self.price > other.price:\n",
        "            return True\n",
        "        else:\n",
        "            return False\n",
        "\n",
        "obj_1 = Dolls(\"Tweety\", 2500)\n",
        "print(obj_1.detail())\n",
        "if obj_1 > obj_1:\n",
        "    print(\"Congratulations! You get the Tweety as a gift!\")\n",
        "else:\n",
        "    print(\"Thank you!\")\n",
        "print(\"=========================\")\n",
        "obj_2 = Dolls(\"Daffy Duck\", 1800)\n",
        "print(obj_2.detail())\n",
        "if obj_2 > obj_1:\n",
        "    print(\"Congratulations! You get the Tweety as a gift!\")\n",
        "else:\n",
        "    print(\"Thank you!\")\n",
        "print(\"=========================\")\n",
        "obj_3 = Dolls(\"Bugs Bunny\", 3000)\n",
        "print(obj_3.detail())\n",
        "if obj_3 > obj_1:\n",
        "    print(\"Congratulations! You get the Tweety as a gift!\")\n",
        "else:\n",
        "    print(\"Thank you!\")\n",
        "print(\"=========================\")\n",
        "obj_4 = Dolls(\"Porky Pig\", 1500)\n",
        "print(obj_4.detail())\n",
        "if obj_4 > obj_1:\n",
        "    print(\"Congratulations! You get the Tweety as a gift!\")\n",
        "else:\n",
        "    print(\"Thank you!\")\n",
        "print(\"=========================\")\n",
        "obj_5 = obj_2 + obj_3\n",
        "print(obj_5.detail())\n",
        "if obj_5 > obj_1:\n",
        "    print(\"Congratulations! You get the Tweety as a gift!\")\n",
        "else:\n",
        "    print(\"Thank you!\")"
      ],
      "execution_count": 2,
      "outputs": [
        {
          "output_type": "stream",
          "text": [
            "Doll: Tweety\n",
            "Total Price: 2500 taka\n",
            "Thank you!\n",
            "=========================\n",
            "Doll: Daffy Duck\n",
            "Total Price: 1800 taka\n",
            "Thank you!\n",
            "=========================\n",
            "Doll: Bugs Bunny\n",
            "Total Price: 3000 taka\n",
            "Congratulations! You get the Tweety as a gift!\n",
            "=========================\n",
            "Doll: Porky Pig\n",
            "Total Price: 1500 taka\n",
            "Thank you!\n",
            "=========================\n",
            "Doll: Daffy Duck Bugs Bunny\n",
            "Total Price: 4800 taka\n",
            "Congratulations! You get the Tweety as a gift!\n"
          ],
          "name": "stdout"
        }
      ]
    },
    {
      "cell_type": "code",
      "metadata": {
        "colab": {
          "base_uri": "https://localhost:8080/"
        },
        "id": "DdanBk-7QPvU",
        "outputId": "520e4d5d-e988-4418-e9a8-cc8da974ee47"
      },
      "source": [
        "#Task- 8\n",
        "class Coordinates:\n",
        "    def __init__(self, coordinate_1, coordinate_2):\n",
        "        self.coordinate_1= coordinate_1\n",
        "        self.coordinate_2= coordinate_2\n",
        "\n",
        "    def detail(self):\n",
        "        return self.coordinate_1, self.coordinate_2\n",
        "\n",
        "    def __sub__(self, other):\n",
        "        self.new_1= self.coordinate_1- other.coordinate_1\n",
        "        self.new_2= self.coordinate_2- other.coordinate_2\n",
        "        result_coordinate= Coordinates(self.new_1, self.new_2)\n",
        "        return result_coordinate\n",
        "\n",
        "    def __mul__(self, other):\n",
        "        self.new_3= self.coordinate_1 * other.coordinate_1\n",
        "        self.new_4 = self.coordinate_2 * other.coordinate_2\n",
        "        product_coordinates= Coordinates(self.new_3, self.new_4)\n",
        "        return product_coordinates\n",
        "\n",
        "    def __eq__(self, other):\n",
        "        if self.coordinate_1== other.coordinate_1:\n",
        "            if self.coordinate_2== other.coordinate_2:\n",
        "                return \"The calculated coordinates are the same.\"\n",
        "            else:\n",
        "                return \"The calculated coordinates are NOT the same.\"\n",
        "        else:\n",
        "            return \"The calculated coordinates are NOT the same.\"\n",
        "\n",
        "p1 = Coordinates(int(input()),int(input()))\n",
        "p2 = Coordinates(int(input()),int(input()))\n",
        "p4 = p1 - p2\n",
        "print(p4.detail())\n",
        "p5 = p1 * p2\n",
        "print(p5.detail())\n",
        "point_check = (p4 == p5)\n",
        "print(point_check)"
      ],
      "execution_count": 1,
      "outputs": [
        {
          "output_type": "stream",
          "text": [
            "0\n",
            "0\n",
            "0\n",
            "0\n",
            "(0, 0)\n",
            "(0, 0)\n",
            "The calculated coordinates are the same.\n"
          ],
          "name": "stdout"
        }
      ]
    },
    {
      "cell_type": "code",
      "metadata": {
        "id": "ZCPQaSBlQQW0"
      },
      "source": [
        ""
      ],
      "execution_count": null,
      "outputs": []
    },
    {
      "cell_type": "code",
      "metadata": {
        "id": "8yFrEXd8QQ5t"
      },
      "source": [
        ""
      ],
      "execution_count": null,
      "outputs": []
    }
  ]
}