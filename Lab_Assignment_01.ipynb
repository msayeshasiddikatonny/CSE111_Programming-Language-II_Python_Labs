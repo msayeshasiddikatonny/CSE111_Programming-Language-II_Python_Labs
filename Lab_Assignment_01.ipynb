{
  "nbformat": 4,
  "nbformat_minor": 0,
  "metadata": {
    "colab": {
      "name": "Lab_Assignment_01_19101366_Farhan_Mahdi.ipynb",
      "provenance": [],
      "include_colab_link": true
    },
    "kernelspec": {
      "name": "python3",
      "display_name": "Python 3"
    },
    "language_info": {
      "name": "python"
    }
  },
  "cells": [
    {
      "cell_type": "markdown",
      "metadata": {
        "id": "view-in-github",
        "colab_type": "text"
      },
      "source": [
        "<a href=\"https://colab.research.google.com/github/msayeshasiddikatonny/CSE111_Python/blob/main/Lab_Assignment_01_19101366_Farhan_Mahdi.ipynb\" target=\"_parent\"><img src=\"https://colab.research.google.com/assets/colab-badge.svg\" alt=\"Open In Colab\"/></a>"
      ]
    },
    {
      "cell_type": "code",
      "metadata": {
        "colab": {
          "base_uri": "https://localhost:8080/"
        },
        "id": "9nzt3ryOehJn",
        "outputId": "ef01c961-a1e7-4e7a-d03c-aa3ceeac416d"
      },
      "source": [
        "#String\n",
        "#Task1\n",
        "\n",
        "str=input(\"Please, enter a word: \")\n",
        "upper=0\n",
        "lower=0\n",
        "\n",
        "for i in range(len(str)):\n",
        "  if(ord(str[i])>=97 and ord(str[i])<=122):\n",
        "    lower+=1\n",
        "  elif(ord(str[i])>=65 and ord(str[i])<=90):\n",
        "    upper+=1\n",
        "if lower>=upper:\n",
        "  print(str.lower())\n",
        "elif upper>lower:\n",
        "  print(str.upper())"
      ],
      "execution_count": null,
      "outputs": [
        {
          "output_type": "stream",
          "text": [
            "Please, enter a word: HOusE\n",
            "HOUSE\n"
          ],
          "name": "stdout"
        }
      ]
    },
    {
      "cell_type": "code",
      "metadata": {
        "colab": {
          "base_uri": "https://localhost:8080/"
        },
        "id": "QVJUO4OWfjrh",
        "outputId": "ad41eb4a-1dd9-475a-80ba-3c7fc50f4aeb"
      },
      "source": [
        "#String\n",
        "#Task2\n",
        "\n",
        "str=input(\"Please, enter something: \")\n",
        "if str.isalpha():\n",
        "    print(\"WORD\")\n",
        "elif str.isnumeric():\n",
        "    print(\"NUMBER\")\n",
        "elif str.isalnum():\n",
        "    print(\"MIXED\")"
      ],
      "execution_count": null,
      "outputs": [
        {
          "output_type": "stream",
          "text": [
            "Please, enter something: Hello\n",
            "WORD\n"
          ],
          "name": "stdout"
        }
      ]
    },
    {
      "cell_type": "code",
      "metadata": {
        "colab": {
          "base_uri": "https://localhost:8080/"
        },
        "id": "r-yRVXd3gCUh",
        "outputId": "8a12bc17-8bfe-4a1f-c0ff-817b511cadcf"
      },
      "source": [
        "#String\n",
        "#Task3\n",
        "\n",
        "s = input(\"Please, type!\")\n",
        "tmp1 = 0\n",
        "tmp2 = 0\n",
        "for i in range(len(s)):\n",
        "    if s[i] >= \"A\" and s[i] <= \"Z\":\n",
        "        tmp1 = i\n",
        "        break\n",
        "s1 = \"\"\n",
        "for i in range(tmp1, len(s)):\n",
        "    if s[i] >= \"A\" and s[i] <= \"Z\":\n",
        "        tmp2 = i\n",
        "for i in s[tmp1 + 1:tmp2]:\n",
        "    s1 += i\n",
        "\n",
        "if s1 == \"\":\n",
        "    print(\"BLANK\")\n",
        "else:\n",
        "    print(s1)"
      ],
      "execution_count": null,
      "outputs": [
        {
          "output_type": "stream",
          "text": [
            "coDIng\n",
            "BLANK\n"
          ],
          "name": "stdout"
        }
      ]
    },
    {
      "cell_type": "code",
      "metadata": {
        "colab": {
          "base_uri": "https://localhost:8080/"
        },
        "id": "GnGkSSWbgqT5",
        "outputId": "c25be9a0-fbf8-4279-ef62-5bcf6909c396"
      },
      "source": [
        "#String\n",
        "#Task4\n",
        "\n",
        "s1 = input(\"Please, enter a sentence:\")\n",
        "too = s1.find('too')\n",
        "good = s1.find('good')\n",
        "if good > too:\n",
        "    s1 = s1.replace('too good', 'excellent')\n",
        "    print(s1)\n",
        "else:\n",
        "    print(s1)"
      ],
      "execution_count": null,
      "outputs": [
        {
          "output_type": "stream",
          "text": [
            "Please, enter a sentence:This book is good too!\n",
            "This book is good too!\n"
          ],
          "name": "stdout"
        }
      ]
    },
    {
      "cell_type": "code",
      "metadata": {
        "colab": {
          "base_uri": "https://localhost:8080/"
        },
        "id": "gDPY-o2dhO5I",
        "outputId": "168b23fe-a343-4227-b73e-467aeaacad33"
      },
      "source": [
        "#String\n",
        "#Task5\n",
        "\n",
        "s1= input(\"Please, enter a word:\")\n",
        "s2= input(\"Please, enter another word:\")\n",
        "tmp1 = \"\"\n",
        "tmp2 = \"\"\n",
        "for i in s1:\n",
        "    if i in s2:\n",
        "        tmp1 += i\n",
        "for j in s2:\n",
        "    if j in s1:\n",
        "        tmp2 += j\n",
        "x = tmp1+tmp2\n",
        "if x == \"\":\n",
        "    print(\"Nothing in common\")\n",
        "else:\n",
        "    print(x)"
      ],
      "execution_count": null,
      "outputs": [
        {
          "output_type": "stream",
          "text": [
            "Please, enter a word:dean\n",
            "Please, enter another word:tom\n",
            "Nothing in common\n"
          ],
          "name": "stdout"
        }
      ]
    },
    {
      "cell_type": "code",
      "metadata": {
        "colab": {
          "base_uri": "https://localhost:8080/"
        },
        "id": "6AJWmwO_hka4",
        "outputId": "d3e6e02f-14dc-47df-b3b1-f09740539bb6"
      },
      "source": [
        "#String\n",
        "#Task6\n",
        "\n",
        "string = input('Enter your new password:')\n",
        "case1 = 0\n",
        "case2 = 0\n",
        "case3 = 0\n",
        "case4 = 0\n",
        "for i in string:\n",
        "    if ord(i) >= 97 and ord(i) <= 122:\n",
        "        case1 += 1\n",
        "    if ord(i) >= 65 and ord(i) <= 90:\n",
        "        case2 += 1\n",
        "    if ord(i) >= 48 and ord(i)<= 57:\n",
        "        case3 +=1\n",
        "    if i == '_' or i == '$' or i == '#' or i == '@':\n",
        "        case4 += 1\n",
        "if case1 == 0:\n",
        "    print('Lowercase Missing')\n",
        "if case2 == 0:\n",
        "    print('Uppercase Missing')\n",
        "if case3 == 0:\n",
        "    print('Digit Missing')\n",
        "if case4 == 0:\n",
        "    print('Special Missing')\n",
        "if case1 >=1 and case2 >=1 and case3 >=1 and case4 >=1:\n",
        "    print('OK')"
      ],
      "execution_count": null,
      "outputs": [
        {
          "output_type": "stream",
          "text": [
            "Enter your new password:OhMyBR@CU20\n",
            "OK\n"
          ],
          "name": "stdout"
        }
      ]
    },
    {
      "cell_type": "code",
      "metadata": {
        "colab": {
          "base_uri": "https://localhost:8080/"
        },
        "id": "Z6Oxcjpwh4RY",
        "outputId": "774d293a-0721-4912-8480-4aaed0bb9e2e"
      },
      "source": [
        "#List\n",
        "#Task1\n",
        "\n",
        "user_list = []\n",
        "i = input(\"Enter input: \")\n",
        "while i != \"STOP\":\n",
        "    user_list.append(i)\n",
        "    i = input(\"Enter input: \")\n",
        "new_list =[]\n",
        "for j in user_list:\n",
        "    if j not in new_list:\n",
        "        new_list.append(j)\n",
        "s= 0\n",
        "for i in new_list:\n",
        "    s= 0\n",
        "    for k in user_list:\n",
        "        if i == k:\n",
        "            s += 1\n",
        "    print(i,\"-\",s,\"times\")"
      ],
      "execution_count": null,
      "outputs": [
        {
          "output_type": "stream",
          "text": [
            "Enter input: 10\n",
            "Enter input: 20\n",
            "Enter input: 20\n",
            "Enter input: 30\n",
            "Enter input: 10\n",
            "Enter input: 50\n",
            "Enter input: 90\n",
            "Enter input: STOP\n",
            "10 - 2 times\n",
            "20 - 2 times\n",
            "30 - 1 times\n",
            "50 - 1 times\n",
            "90 - 1 times\n"
          ],
          "name": "stdout"
        }
      ]
    },
    {
      "cell_type": "code",
      "metadata": {
        "colab": {
          "base_uri": "https://localhost:8080/"
        },
        "id": "iGOstlSPkjrC",
        "outputId": "5d961806-b7d2-4aa8-d404-21a37c3a739c"
      },
      "source": [
        "#List\n",
        "#Task2\n",
        "\n",
        "nums_list =input()\n",
        "maximum =0\n",
        "max_list =[]\n",
        "while nums_list != \"\":\n",
        "    sum=0\n",
        "    new_list =nums_list.split(\" \")\n",
        "    for i in range(len(new_list)):\n",
        "        new_list[i] =int(new_list[i])\n",
        "    tmp=new_list\n",
        "    for i in tmp:\n",
        "        sum +=int(i)\n",
        "    if sum > maximum:\n",
        "        maximum =sum\n",
        "        max_list=new_list\n",
        "    nums_list = input()\n",
        "print(maximum)\n",
        "print(max_list)"
      ],
      "execution_count": null,
      "outputs": [
        {
          "output_type": "stream",
          "text": [
            "4\n",
            "1 2 3\n",
            "4 5 6\n",
            "10 11 12\n",
            "7 8 9\n",
            "\n",
            "33\n",
            "[10, 11, 12]\n"
          ],
          "name": "stdout"
        }
      ]
    },
    {
      "cell_type": "code",
      "metadata": {
        "colab": {
          "base_uri": "https://localhost:8080/"
        },
        "id": "VTaKi4vDpPBC",
        "outputId": "64ac751e-c33a-43dc-9272-b447fc21b213"
      },
      "source": [
        "#List\n",
        "#Task3\n",
        "\n",
        "list1 =input()\n",
        "list2 =input()\n",
        "list1 = list1.split(\" \")\n",
        "list2 = list2.split(\" \")\n",
        "\n",
        "for i in range(len(list1)):\n",
        "    list1[i] = int(list1[i])\n",
        "\n",
        "for i in range(len(list2)):\n",
        "    list2[i] = int(list2[i])\n",
        "\n",
        "new_list =[]\n",
        "\n",
        "for i in list1:\n",
        "    for j in list2:\n",
        "        new_list.append(i*j)\n",
        "print(new_list)"
      ],
      "execution_count": null,
      "outputs": [
        {
          "output_type": "stream",
          "text": [
            "2 3 6\n",
            "3 4 5\n",
            "[6, 8, 10, 9, 12, 15, 18, 24, 30]\n"
          ],
          "name": "stdout"
        }
      ]
    },
    {
      "cell_type": "code",
      "metadata": {
        "colab": {
          "base_uri": "https://localhost:8080/"
        },
        "id": "wD8MPLv1xrzr",
        "outputId": "ae181e01-f143-48a1-d347-e8b10a27f2c8"
      },
      "source": [
        "#List\n",
        "#Task4\n",
        "\n",
        "list1 = []\n",
        "while True:\n",
        "    num = input()\n",
        "    if num != \"STOP\":\n",
        "        x = num.split()\n",
        "        list1.append(x)\n",
        "    else:\n",
        "        break\n",
        "for i in list1:\n",
        "    s1 =\"\"\n",
        "    for j in range(len(i)-1):\n",
        "        for s in range(j+1,j+2):\n",
        "            n=int(i[j])-int(i[s])\n",
        "            if abs(n)<=len(i):\n",
        "                s1=\"UB JUMPER\"\n",
        "            else:\n",
        "                s1=\"NOT UB JUMPER\"\n",
        "    print(s1)   "
      ],
      "execution_count": null,
      "outputs": [
        {
          "output_type": "stream",
          "text": [
            "1 4 2 3\n",
            "2 1 4 6 10\n",
            "1 4 2 -1 6\n",
            "STOP\n",
            "UB JUMPER\n",
            "UB JUMPER\n",
            "NOT UB JUMPER\n"
          ],
          "name": "stdout"
        }
      ]
    },
    {
      "cell_type": "code",
      "metadata": {
        "colab": {
          "base_uri": "https://localhost:8080/"
        },
        "id": "8vKfQm2rDQFU",
        "outputId": "1c74dd6b-b025-492e-dbfa-3d432f65628f"
      },
      "source": [
        "#List\n",
        "#Task5\n",
        "\n",
        "s =input(\"Please enter something: \")\n",
        "lower =[]\n",
        "upper =[]\n",
        "odd =[]\n",
        "even =[]\n",
        "\n",
        "for x in s:\n",
        "  if x.isalpha():\n",
        "    if x.isupper():\n",
        "      i = upper\n",
        "    else:\n",
        "      i = lower  \n",
        "  else:\n",
        "    if int(x)%2==0:\n",
        "      i = even\n",
        "    else:\n",
        "      i = odd  \n",
        "  i.append(x)\n",
        "\n",
        "lower.sort()\n",
        "upper.sort()\n",
        "odd.sort()\n",
        "even.sort()\n",
        "l=\"\"\n",
        "u=\"\"\n",
        "o=\"\"\n",
        "e=\"\"\n",
        "for x in lower:\n",
        "  l += x\n",
        "for x in upper:\n",
        "  u += x\n",
        "for x in odd:\n",
        "  o += x\n",
        "for x in even:\n",
        "  e += x       \n",
        "s1 = l+u+o+e\n",
        "\n",
        "print(s1)"
      ],
      "execution_count": null,
      "outputs": [
        {
          "output_type": "stream",
          "text": [
            "Please enter something: Bracu1234\n",
            "acruB1324\n"
          ],
          "name": "stdout"
        }
      ]
    },
    {
      "cell_type": "code",
      "metadata": {
        "colab": {
          "base_uri": "https://localhost:8080/"
        },
        "id": "P3f7rwgBcvAM",
        "outputId": "fc194e4c-6334-41f5-816f-7ed6623ccbf1"
      },
      "source": [
        "#list\n",
        "#Task6\n",
        "\n",
        "first_line = input()\n",
        "first_line = first_line.split(\" \")\n",
        "\n",
        "n=int(first_line[0])\n",
        "k=int(first_line[1])\n",
        "\n",
        "second_line =input()\n",
        "second_line =second_line.split(\" \")\n",
        "\n",
        "participants =0\n",
        "\n",
        "for y in second_line:\n",
        "    \n",
        "    if int(y) + k <= 5:\n",
        "        participants+=1\n",
        "\n",
        "max_team = int(participants/3)\n",
        "print(max_team)"
      ],
      "execution_count": null,
      "outputs": [
        {
          "output_type": "stream",
          "text": [
            "6 5\n",
            "0 0 0 0 0 0\n",
            "2\n"
          ],
          "name": "stdout"
        }
      ]
    },
    {
      "cell_type": "code",
      "metadata": {
        "colab": {
          "base_uri": "https://localhost:8080/"
        },
        "id": "am2a5R4X1Wrz",
        "outputId": "46f64b53-5197-43c7-8a12-c662c044156a"
      },
      "source": [
        "#DictTuple\n",
        "#Task1\n",
        "\n",
        "dict1 = {\"a\":100,\"b\":100,\"c\":200,\"d\":300}\n",
        "dict2 = {\"a\":300,\"b\":200,\"d\":400,\"e\":200}\n",
        "dict0 = {}\n",
        "\n",
        "dict0[\"a\"]=dict1[\"a\"]+dict2[\"a\"]\n",
        "dict0[\"b\"]=dict1[\"b\"]+dict2[\"b\"]\n",
        "dict0[\"c\"]=dict1[\"c\"]\n",
        "dict0[\"d\"]=dict1[\"d\"]+dict2[\"d\"]\n",
        "dict0[\"e\"]=dict2[\"e\"]\n",
        "print(dict0)\n",
        "dict0.pop(\"e\")\n",
        "list = []\n",
        "for i in dict0.values():\n",
        "    list.append(i)\n",
        "    list.sort()\n",
        "    value = tuple(list)\n",
        "print(\"Values:\",value)"
      ],
      "execution_count": null,
      "outputs": [
        {
          "output_type": "stream",
          "text": [
            "{'a': 400, 'b': 300, 'c': 200, 'd': 700, 'e': 200}\n",
            "Values: (200, 300, 400, 700)\n"
          ],
          "name": "stdout"
        }
      ]
    },
    {
      "cell_type": "code",
      "metadata": {
        "colab": {
          "base_uri": "https://localhost:8080/"
        },
        "id": "OL6jAG_1Fuzl",
        "outputId": "ebf24b5d-c76b-424a-fb7d-7ea29b4a2e53"
      },
      "source": [
        "#DictTuple\n",
        "#Task2\n",
        "\n",
        "dict1={}\n",
        "while True:\n",
        "    user_input= input()\n",
        "    if user_input == \"STOP\":\n",
        "        break\n",
        "    else:\n",
        "        if int(user_input) in dict1.keys():\n",
        "            dict1[int(user_input)] +=1\n",
        "        else:\n",
        "            dict1[int(user_input)] = 1\n",
        "            \n",
        "for key,val in dict1.items():\n",
        "    print(key, \"-\", val, \"times\")"
      ],
      "execution_count": null,
      "outputs": [
        {
          "output_type": "stream",
          "text": [
            "10\n",
            "20\n",
            "20\n",
            "30\n",
            "10\n",
            "50\n",
            "90\n",
            "STOP\n",
            "10 - 2 times\n",
            "20 - 2 times\n",
            "30 - 1 times\n",
            "50 - 1 times\n",
            "90 - 1 times\n"
          ],
          "name": "stdout"
        }
      ]
    },
    {
      "cell_type": "code",
      "metadata": {
        "colab": {
          "base_uri": "https://localhost:8080/"
        },
        "id": "_aPvbEMjJ3gt",
        "outputId": "e81275c4-ab10-48bd-a28a-d5d7151c4775"
      },
      "source": [
        "#DictTuple\n",
        "#Task3\n",
        "\n",
        "dict1 = {\"key1\":\"value1\",\"key2\":\"value2\",\"key3\":\"value1\"}\n",
        "dict2 = {}\n",
        "for val,key in dict1.items():\n",
        "    if key in dict2:\n",
        "        dict2[key].append(val)\n",
        "    else:\n",
        "        dict2[key] = [val]\n",
        "print(dict2)"
      ],
      "execution_count": null,
      "outputs": [
        {
          "output_type": "stream",
          "text": [
            "{'value1': ['key1', 'key3'], 'value2': ['key2']}\n"
          ],
          "name": "stdout"
        }
      ]
    },
    {
      "cell_type": "code",
      "metadata": {
        "colab": {
          "base_uri": "https://localhost:8080/"
        },
        "id": "Wt8JRuEpMU1t",
        "outputId": "99c237ee-1fdf-4383-86ce-6d912b999d9d"
      },
      "source": [
        "#DictTuple\n",
        "#Task4\n",
        "\n",
        "s1 = input('Enter a word:')\n",
        "s2 = input('Enter another word:')\n",
        "\n",
        "list1 = s1.split()\n",
        "list2 = s2.split()\n",
        "dict1 = {}\n",
        "dict2 = {}\n",
        "val = False\n",
        "for x in list1:\n",
        "    if x in dict1.keys():\n",
        "        dict1[x] = +1\n",
        "    else:\n",
        "        dict1[x] = 1\n",
        "        \n",
        "for x in list1:\n",
        "    if x in dict2.keys():\n",
        "        dict2[x] =+1\n",
        "    else:\n",
        "        dict2[x] = 1\n",
        "        \n",
        "for y in dict1.keys():\n",
        "    if dict1[y] != dict2[y]:\n",
        "        val = True\n",
        "if val == True:\n",
        "    print('Those strings are not anagrams.')\n",
        "    \n",
        "else:\n",
        "    print('Those strings are  anagrams.')"
      ],
      "execution_count": null,
      "outputs": [
        {
          "output_type": "stream",
          "text": [
            "Enter a word:evil\n",
            "Enter another word:live\n",
            "Those strings are  anagrams.\n"
          ],
          "name": "stdout"
        }
      ]
    },
    {
      "cell_type": "code",
      "metadata": {
        "colab": {
          "base_uri": "https://localhost:8080/"
        },
        "id": "XXNmYpnCm7wt",
        "outputId": "8e9cd8e4-ea11-4f0b-c0b5-cac4f045ce13"
      },
      "source": [
        "#DictTuple\n",
        "#Task5\n",
        "\n",
        "dict1={\"1\":[\".\",\",\",\"?\",\"!\",\":\"], \"2\":[\"A\",\"B\",\"C\"], \"3\":[\"D\",\"E\",\"F\"], \"4\":[\"G\",\"H\",\"I\"], \"5\":[\"J\",\"K\",\"L\"], \"6\":[\"M\",\"N\",\"O\"], \"7\":[\"P\",\"Q\",\"R\",\"S\"], \"8\":[\"T\",\"U\",\"V\"], \"9\":[\"W\",\"X\",\"Y\",\"Z\"], \"0\":[\" \"]}\n",
        "user =input().upper()\n",
        "for i in range(len(user)):\n",
        "    \n",
        "    for key, value in dict1.items():\n",
        "        \n",
        "        if user[i] in value:\n",
        "            print(key*(value.index(user[i])+1), end=\"\")"
      ],
      "execution_count": null,
      "outputs": [
        {
          "output_type": "stream",
          "text": [
            "Hello, World!\n",
            "4433555555666110966677755531111"
          ],
          "name": "stdout"
        }
      ]
    }
  ]
}
