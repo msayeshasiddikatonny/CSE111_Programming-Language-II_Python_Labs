{
  "nbformat": 4,
  "nbformat_minor": 0,
  "metadata": {
    "colab": {
      "name": "CSE111_Assignment03_mine.ipynb",
      "provenance": [],
      "collapsed_sections": [],
      "authorship_tag": "ABX9TyPaDqspjqe1kbWLUnvkkHOs",
      "include_colab_link": true
    },
    "kernelspec": {
      "name": "python3",
      "display_name": "Python 3"
    },
    "language_info": {
      "name": "python"
    }
  },
  "cells": [
    {
      "cell_type": "markdown",
      "metadata": {
        "id": "view-in-github",
        "colab_type": "text"
      },
      "source": [
        "<a href=\"https://colab.research.google.com/github/msayeshasiddikatonny/CSE111_Python/blob/main/CSE111_Assignment03_mine.ipynb\" target=\"_parent\"><img src=\"https://colab.research.google.com/assets/colab-badge.svg\" alt=\"Open In Colab\"/></a>"
      ]
    },
    {
      "cell_type": "code",
      "metadata": {
        "id": "MmEZxlB_HgrY",
        "colab": {
          "base_uri": "https://localhost:8080/"
        },
        "outputId": "b19598f4-0d23-4fbb-e5bb-213492b42acc"
      },
      "source": [
        "#task1\n",
        "class DataType:\n",
        "    def __init__(self,name,values):\n",
        "        self.name=name\n",
        "        self.value=values\n",
        "data_type1 = DataType('Integer', 1234)\n",
        "print(data_type1.name)\n",
        "print(data_type1.value)\n",
        "print('=====================')\n",
        "data_type2 = DataType('String', 'Hello')\n",
        "print(data_type2.name)\n",
        "print(data_type2.value)\n",
        "print('=====================')\n",
        "data_type3 = DataType('Float', 4.0)\n",
        "print(data_type3.name)\n",
        "print(data_type3.value)"
      ],
      "execution_count": 13,
      "outputs": [
        {
          "output_type": "stream",
          "name": "stdout",
          "text": [
            "Integer\n",
            "1234\n",
            "=====================\n",
            "String\n",
            "Hello\n",
            "=====================\n",
            "Float\n",
            "4.0\n"
          ]
        }
      ]
    },
    {
      "cell_type": "code",
      "metadata": {
        "id": "b3l62EsZHgm1",
        "colab": {
          "base_uri": "https://localhost:8080/"
        },
        "outputId": "42113d77-a469-442a-bc2c-a3e38108eb49"
      },
      "source": [
        "#task2\n",
        "class Flower:\n",
        "    def __init__(self):\n",
        "        pass\n",
        "        #self.name = name\n",
        "        #self.color = colors\n",
        "        #self.num_of_petal = petal\n",
        "flower1 = Flower()\n",
        "flower1.name=\"Rose\"\n",
        "flower1.color=\"Red\"\n",
        "flower1.num_of_petal=6\n",
        "print(\"Name of this flower:\", flower1.name)\n",
        "print(\"Color of this flower:\",flower1.color)\n",
        "print(\"Number of petal:\",flower1.num_of_petal)\n",
        "print(\"=====================\")\n",
        "flower2 = Flower()\n",
        "flower2.name=\"Orchid\"\n",
        "flower2.color=\"Purple\"\n",
        "flower2.num_of_petal=4\n",
        "print(\"Name of this flower:\",flower2.name)\n",
        "print(\"Color of this flower:\",flower2.color)\n",
        "print (\"Number of petal:\",flower2. num_of_petal)\n",
        "print(flower1)\n",
        "print(flower2)\n",
        "print(\"they are different\")"
      ],
      "execution_count": 12,
      "outputs": [
        {
          "output_type": "stream",
          "name": "stdout",
          "text": [
            "Name of this flower: Rose\n",
            "Color of this flower: Red\n",
            "Number of petal: 6\n",
            "=====================\n",
            "Name of this flower: Orchid\n",
            "Color of this flower: Purple\n",
            "Number of petal: 4\n",
            "<__main__.Flower object at 0x7fa95e194750>\n",
            "<__main__.Flower object at 0x7fa964253ad0>\n",
            "they are different\n"
          ]
        }
      ]
    },
    {
      "cell_type": "code",
      "metadata": {
        "id": "8xhJDYRAHgkI",
        "colab": {
          "base_uri": "https://localhost:8080/"
        },
        "outputId": "a29c696b-fc45-4284-8df0-a30776f10874"
      },
      "source": [
        "#task3\n",
        "class Wadiya():\n",
        "    def __init__(self):\n",
        "        self.name = 'Aladeen'\n",
        "        self.designation = 'President Prime Minister Admiral General'\n",
        "        self.num_of_wife = 100\n",
        "        self.dictator = True\n",
        "wadiya = Wadiya()\n",
        "print('Part 1:')\n",
        "print('Name of President:',wadiya.name)\n",
        "print('Designation:',wadiya.designation)\n",
        "print('Number of wife:',wadiya.num_of_wife)\n",
        "print('Is he/she a dictator:',wadiya.dictator)\n",
        "wadiya.name = 'Donald Trump'\n",
        "wadiya.designation = 'President'\n",
        "wadiya.num_of_wife = '1'\n",
        "wadiya.dictator = False\n",
        "print('Part 2:')\n",
        "print('Name of President:',wadiya.name)\n",
        "print('Designation:',wadiya.designation)\n",
        "print('Number of wife:',wadiya.num_of_wife)\n",
        "print('Is he/she a dictator:',wadiya.dictator)\n",
        "print( 'No, changing had no effect on previous value')"
      ],
      "execution_count": 11,
      "outputs": [
        {
          "output_type": "stream",
          "name": "stdout",
          "text": [
            "Part 1:\n",
            "Name of President: Aladeen\n",
            "Designation: President Prime Minister Admiral General\n",
            "Number of wife: 100\n",
            "Is he/she a dictator: True\n",
            "Part 2:\n",
            "Name of President: Donald Trump\n",
            "Designation: President\n",
            "Number of wife: 1\n",
            "Is he/she a dictator: False\n",
            "No, changing had no effect on previous value\n"
          ]
        }
      ]
    },
    {
      "cell_type": "code",
      "metadata": {
        "id": "BqWFbGUQHghZ",
        "colab": {
          "base_uri": "https://localhost:8080/"
        },
        "outputId": "a12c3bfc-b7fa-46d4-955a-6f57090e625e"
      },
      "source": [
        "#task4\n",
        "class Joker:\n",
        "    def __init__(self,name,power,is_he_psycho):\n",
        "        self.name = name\n",
        "        self.power = power\n",
        "        self.is_he_psycho = is_he_psycho\n",
        "j1 = Joker('Heath Ledger', 'Mind Game', False)\n",
        "print(j1.name)\n",
        "print(j1.power)\n",
        "print(j1.is_he_psycho)\n",
        "print(\"=====================\")\n",
        "j2 = Joker('Joaquin Phoenix', 'Laughing out Loud', True)\n",
        "print(j2.name)\n",
        "print(j2.power)\n",
        "print(j2.is_he_psycho)\n",
        "print(\"=====================\")\n",
        "if j1 == j2:\n",
        "    print('same')\n",
        "else:\n",
        "    print('different')\n",
        "j2.name = 'Heath Ledger'\n",
        "if j1.name == j2.name:\n",
        "    print('same')\n",
        "else:\n",
        "    print('different')\n",
        "print('Subtask2: j1 and j2 are different because they have different memory address.')\n",
        "print('Subtask3: j1.name and j2.name have the same values when name for j2 is changed to Heath Ledger.')"
      ],
      "execution_count": 10,
      "outputs": [
        {
          "output_type": "stream",
          "name": "stdout",
          "text": [
            "Heath Ledger\n",
            "Mind Game\n",
            "False\n",
            "=====================\n",
            "Joaquin Phoenix\n",
            "Laughing out Loud\n",
            "True\n",
            "=====================\n",
            "different\n",
            "same\n",
            "Subtask2: j1 and j2 are different because they have different memory address.\n",
            "Subtask3: j1.name and j2.name have the same values when name for j2 is changed to Heath Ledger.\n"
          ]
        }
      ]
    },
    {
      "cell_type": "code",
      "metadata": {
        "id": "m0hqV615HgeS",
        "colab": {
          "base_uri": "https://localhost:8080/"
        },
        "outputId": "ea5bf362-594c-4bbe-e1f0-d0f0bb0e4ba9"
      },
      "source": [
        "#task5\n",
        "class Pokemon:\n",
        "    def __init__(self,pokemon1_name,pokemon2_name,pokemon1_power,pokemon2_power,damage_rate):\n",
        "        self.pokemon1_name = pokemon1_name\n",
        "        self.pokemon2_name = pokemon2_name\n",
        "        self.pokemon1_power = pokemon1_power\n",
        "        self.pokemon2_power = pokemon2_power\n",
        "        self.damage_rate = damage_rate\n",
        "team_pika = Pokemon('pikachu', 'charmander', 90, 60, 10)\n",
        "print('=======Team 1=======')\n",
        "print('Pokemon 1:',team_pika.pokemon1_name,\n",
        "team_pika.pokemon1_power)\n",
        "print('Pokemon 2:',team_pika.pokemon2_name,\n",
        "team_pika.pokemon2_power)\n",
        "pika_combined_power = (team_pika.pokemon1_power +\n",
        "team_pika.pokemon2_power) * team_pika.damage_rate\n",
        "print('Combined Power:', pika_combined_power)\n",
        "team_bulb = Pokemon('bulbasaur', 'squirtle', 80, 70, 9)\n",
        "print('=======Team 2=======')\n",
        "print('Pokemon 1:',team_bulb.pokemon1_name,\n",
        "team_bulb.pokemon1_power)\n",
        "print('Pokemon 2:',team_bulb.pokemon2_name,\n",
        "team_bulb.pokemon2_power)\n",
        "bulb_combined_power = (team_bulb.pokemon1_power +\n",
        "team_bulb.pokemon2_power) * team_bulb.damage_rate\n",
        "print('Combined Power:', bulb_combined_power)"
      ],
      "execution_count": 9,
      "outputs": [
        {
          "output_type": "stream",
          "name": "stdout",
          "text": [
            "=======Team 1=======\n",
            "Pokemon 1: pikachu 90\n",
            "Pokemon 2: charmander 60\n",
            "Combined Power: 1500\n",
            "=======Team 2=======\n",
            "Pokemon 1: bulbasaur 80\n",
            "Pokemon 2: squirtle 70\n",
            "Combined Power: 1350\n"
          ]
        }
      ]
    },
    {
      "cell_type": "code",
      "metadata": {
        "id": "CCkchEWRHgaJ",
        "colab": {
          "base_uri": "https://localhost:8080/"
        },
        "outputId": "e6bc232c-4a20-4d99-bdfb-cbe62ba54bf0"
      },
      "source": [
        "#task6\n",
        "class Player():\n",
        "    def __init__(self):\n",
        "        self.name = ''\n",
        "        self.jersey_number = 0\n",
        "        self.position = ''\n",
        "player1 = Player()\n",
        "player1.name = \"Ronaldo\"\n",
        "player1.jersy_number = 9\n",
        "player1.position = \"Striker\"\n",
        "print(\"Name of the Player:\", player1.name)\n",
        "print(\"Jersey Number of player:\", player1.jersy_number)\n",
        "print(\"Position of player:\", player1.position)\n",
        "print(\"===========================\")\n",
        "player2 = Player()\n",
        "player2.name = \"Neuer\"\n",
        "player2.jersy_number = 1\n",
        "player2.position = \"Goal Keeper\"\n",
        "print(\"Name of the player:\", player2.name)\n",
        "print(\"Jersey Number of player:\", player2.jersy_number)\n",
        "print(\"Position of player:\", player2.position)"
      ],
      "execution_count": 8,
      "outputs": [
        {
          "output_type": "stream",
          "name": "stdout",
          "text": [
            "Name of the Player: Ronaldo\n",
            "Jersey Number of player: 9\n",
            "Position of player: Striker\n",
            "===========================\n",
            "Name of the player: Neuer\n",
            "Jersey Number of player: 1\n",
            "Position of player: Goal Keeper\n"
          ]
        }
      ]
    },
    {
      "cell_type": "code",
      "metadata": {
        "id": "DdWteqpTHgWy",
        "colab": {
          "base_uri": "https://localhost:8080/"
        },
        "outputId": "7a639843-5aa5-4fb8-e0a2-6fa786833839"
      },
      "source": [
        "#task7\n",
        "class Country:\n",
        "    def __init__(self):\n",
        "        self.name = 'Bangladesh'\n",
        "        self.continent = 'Asia'\n",
        "        self.capital= 'Dhaka'\n",
        "        self.fifa_ranking = 187\n",
        "country = Country()\n",
        "print('Name:',country.name)\n",
        "print('Continent:',country.continent)\n",
        "print('Capital:',country.capital)\n",
        "print('Fifa Ranking:',country.fifa_ranking)\n",
        "print('===================')\n",
        "country.name = \"Belgium\"\n",
        "country.continent = \"Europe\"\n",
        "country.capital = \"Brussels\"\n",
        "country.fifa_ranking = 1\n",
        "print('Name:',country.name)\n",
        "print('Continent:',country.continent)\n",
        "print('Capital:',country.capital)\n",
        "print('Fifa Ranking:',country.fifa_ranking)"
      ],
      "execution_count": 7,
      "outputs": [
        {
          "output_type": "stream",
          "name": "stdout",
          "text": [
            "Name: Bangladesh\n",
            "Continent: Asia\n",
            "Capital: Dhaka\n",
            "Fifa Ranking: 187\n",
            "===================\n",
            "Name: Belgium\n",
            "Continent: Europe\n",
            "Capital: Brussels\n",
            "Fifa Ranking: 1\n"
          ]
        }
      ]
    },
    {
      "cell_type": "code",
      "metadata": {
        "id": "OzKQzLXlHgO8",
        "colab": {
          "base_uri": "https://localhost:8080/"
        },
        "outputId": "fd709c78-571b-4475-b490-de2af35f8d6f"
      },
      "source": [
        "#task8\n",
        "class DemonSlayer:\n",
        "    def __init__(self,name,style,number_of_technique,kill):\n",
        "        self.name = name\n",
        "        self.style = style\n",
        "        self.number_of_technique = number_of_technique\n",
        "        self.kill = kill\n",
        "tanjiro = DemonSlayer(\"Tanjiro\", \"Water Breathing\", 10, 10)\n",
        "print('Name:',tanjiro.name)\n",
        "print('Fighting Style:',tanjiro.style)\n",
        "print(f'Knows {tanjiro.number_of_technique} technique(s) and has killed {tanjiro.kill} demon(s)')\n",
        "print('===================')\n",
        "zenitsu = DemonSlayer(\"Zenitsu\", \"Thunder Breathing\", 1, 4)\n",
        "print('Name:',zenitsu.name)\n",
        "print('Fighting Style:',zenitsu.style)\n",
        "print(f'Knows {zenitsu.number_of_technique} technique(s) and has killed {zenitsu.kill} demon(s)')\n",
        "print('===================')\n",
        "inosuke = DemonSlayer(\"Inosuke\", \"Beast Breathing\", 5, 7)\n",
        "print('Name:',inosuke.name)\n",
        "print('Fighting Style:',inosuke.style)\n",
        "print(f'Knows {inosuke.number_of_technique} technique(s) and has killed {inosuke.kill} demon(s)')\n",
        "print('===================')\n",
        "print(f'{tanjiro.name}, {zenitsu.name}, {inosuke.name} knows total {tanjiro.number_of_technique + zenitsu.number_of_technique + inosuke.number_of_technique} techniques')\n",
        "print(f'They have killed total {tanjiro.kill + zenitsu.kill + inosuke.kill} demons')"
      ],
      "execution_count": 5,
      "outputs": [
        {
          "output_type": "stream",
          "name": "stdout",
          "text": [
            "Name: Tanjiro\n",
            "Fighting Style: Water Breathing\n",
            "Knows 10 technique(s) and has killed 10 demon(s)\n",
            "===================\n",
            "Name: Zenitsu\n",
            "Fighting Style: Thunder Breathing\n",
            "Knows 1 technique(s) and has killed 4 demon(s)\n",
            "===================\n",
            "Name: Inosuke\n",
            "Fighting Style: Beast Breathing\n",
            "Knows 5 technique(s) and has killed 7 demon(s)\n",
            "===================\n",
            "Tanjiro, Zenitsu, Inosuke knows total 16 techniques\n",
            "They have killed total 21 demons\n"
          ]
        }
      ]
    },
    {
      "cell_type": "code",
      "metadata": {
        "id": "ZilHIFfaHgLv",
        "colab": {
          "base_uri": "https://localhost:8080/"
        },
        "outputId": "350b4ec0-6281-4947-c93e-1c8bbb127200"
      },
      "source": [
        "#task9\n",
        "class box:\n",
        "    def __init__(self,var):\n",
        "        self.height = var[0]\n",
        "        self.width = var[1]\n",
        "        self.breadth = var[2]\n",
        "        print(\"Creating a Box!\")\n",
        "        vol=self.height*self.width*self.breadth\n",
        "        print('Volume of the box is', vol,'cubic units.')\n",
        "print(\"Box 1\")\n",
        "b1 = box([10,10,10])\n",
        "print(\"=========================\")\n",
        "print(\"Height:\", b1.height)\n",
        "print(\"Width:\", b1.width)\n",
        "print(\"Breadth:\", b1.breadth)\n",
        "print(\"-------------------------\")\n",
        "print(\"Box 2\")\n",
        "b2 = box((30,10,10))\n",
        "print(\"=========================\")\n",
        "print(\"Height:\", b2.height)\n",
        "print(\"Width:\", b2.width)\n",
        "print(\"Breadth:\", b2.breadth)\n",
        "b2.height = 300\n",
        "print(\"Updating Box 2!\")\n",
        "print(\"Height:\", b2.height)\n",
        "print(\"Width:\", b2.width)\n",
        "print(\"Breadth:\", b2.breadth)\n",
        "print(\"-------------------------\")\n",
        "print(\"Box 3\")\n",
        "b3 = b2\n",
        "print(\"Height:\", b3.height)\n",
        "print(\"Width:\", b3.width)\n",
        "print(\"Breadth:\", b3.breadth)"
      ],
      "execution_count": 4,
      "outputs": [
        {
          "output_type": "stream",
          "name": "stdout",
          "text": [
            "Box 1\n",
            "Creating a Box!\n",
            "Volume of the box is 1000 cubic units.\n",
            "=========================\n",
            "Height: 10\n",
            "Width: 10\n",
            "Breadth: 10\n",
            "-------------------------\n",
            "Box 2\n",
            "Creating a Box!\n",
            "Volume of the box is 3000 cubic units.\n",
            "=========================\n",
            "Height: 30\n",
            "Width: 10\n",
            "Breadth: 10\n",
            "Updating Box 2!\n",
            "Height: 300\n",
            "Width: 10\n",
            "Breadth: 10\n",
            "-------------------------\n",
            "Box 3\n",
            "Height: 300\n",
            "Width: 10\n",
            "Breadth: 10\n"
          ]
        }
      ]
    },
    {
      "cell_type": "code",
      "metadata": {
        "id": "Rd_gIjK6GMtU",
        "colab": {
          "base_uri": "https://localhost:8080/"
        },
        "outputId": "8e4fb4e0-ba07-4b3c-ee53-f4ce1d5769a0"
      },
      "source": [
        "#Task-10:\n",
        "class buttons:\n",
        "    def __init__(self,a,b,c):\n",
        "        self.word = a\n",
        "        self.spaces = b\n",
        "        self.border = c\n",
        "        print(f\"{self.word} Button Specification:\\n\"\n",
        "              f\"Button name: {self.word}\\n\"\n",
        "              f\"Number of the border characters for the top and the bottom: {2+(self.spaces*2)+len(self.word)}\\n\"\n",
        "              f\"Number of spaces between the left side border and the first character of the button \\n\"\n",
        "              f\"name:{self.spaces}\\n\"\n",
        "              f\"Number of spaces between the right side border and the last character of the button\\n\"\n",
        "              f\"name: {self.spaces}\\n\"\n",
        "              f\"{(2+(self.spaces*2)+len(self.word))*self.border}\\n\"\n",
        "              f\"{self.border}{self.spaces*' '}{self.word}{self.spaces*' '}{self.border}\\n\"\n",
        "              f\"{(2+(self.spaces*2)+len(self.word))*self.border}\\n\")\n",
        "\n",
        "\n",
        "\n",
        "\n",
        "word = \"CANCEL\"\n",
        "spaces = 10\n",
        "border = 'x'\n",
        "b1 = buttons(word, spaces, border)\n",
        "print(\"=======================================================\")\n",
        "b2 = buttons(\"Notify\",3, '!')\n",
        "print(\"=======================================================\")\n",
        "b3 = buttons('SAVE PROGRESS', 5, '$')"
      ],
      "execution_count": 3,
      "outputs": [
        {
          "output_type": "stream",
          "name": "stdout",
          "text": [
            "CANCEL Button Specification:\n",
            "Button name: CANCEL\n",
            "Number of the border characters for the top and the bottom: 28\n",
            "Number of spaces between the left side border and the first character of the button \n",
            "name:10\n",
            "Number of spaces between the right side border and the last character of the button\n",
            "name: 10\n",
            "xxxxxxxxxxxxxxxxxxxxxxxxxxxx\n",
            "x          CANCEL          x\n",
            "xxxxxxxxxxxxxxxxxxxxxxxxxxxx\n",
            "\n",
            "=======================================================\n",
            "Notify Button Specification:\n",
            "Button name: Notify\n",
            "Number of the border characters for the top and the bottom: 14\n",
            "Number of spaces between the left side border and the first character of the button \n",
            "name:3\n",
            "Number of spaces between the right side border and the last character of the button\n",
            "name: 3\n",
            "!!!!!!!!!!!!!!\n",
            "!   Notify   !\n",
            "!!!!!!!!!!!!!!\n",
            "\n",
            "=======================================================\n",
            "SAVE PROGRESS Button Specification:\n",
            "Button name: SAVE PROGRESS\n",
            "Number of the border characters for the top and the bottom: 25\n",
            "Number of spaces between the left side border and the first character of the button \n",
            "name:5\n",
            "Number of spaces between the right side border and the last character of the button\n",
            "name: 5\n",
            "$$$$$$$$$$$$$$$$$$$$$$$$$\n",
            "$     SAVE PROGRESS     $\n",
            "$$$$$$$$$$$$$$$$$$$$$$$$$\n",
            "\n"
          ]
        }
      ]
    },
    {
      "cell_type": "code",
      "metadata": {
        "colab": {
          "base_uri": "https://localhost:8080/"
        },
        "id": "GI4p5GvWD6oK",
        "outputId": "504a3db7-0f46-40b2-e65e-f5e9ab4adfaf"
      },
      "source": [
        "class buttons():\n",
        "  def __init__(self,w,s,b):\n",
        "    self.w = w \n",
        "    self.s = s \n",
        "    self.b = b \n",
        "    print(w,'Button Specifications:')\n",
        "    print('Button name:',w)\n",
        "    n =1+s+len(w)+s+1\n",
        "    print('Number of the border characters for the top and the bottom:',n)\n",
        "    print('Number of spaces between the left side border and the first character of the button name:',s)\n",
        "    print('Number of spaces between the right side border and the last character of the button name:',s)\n",
        "    print('Characters representing the borders:',b)\n",
        "\n",
        "    print(b*n)\n",
        "    print(b+' '*s+w+' '*s+b)\n",
        "    print(b*n)\n",
        "\n",
        "\n",
        "\n",
        "#Write your class code here\n",
        "\n",
        "word = \"CANCEL\"\n",
        "\n",
        "spaces = 10\n",
        "\n",
        "border = 'x'\n",
        "\n",
        "b1 = buttons(word, spaces, border)\n",
        "\n",
        "print(\"=======================================================\")\n",
        "\n",
        "b2 = buttons(\"Notify\",3, '!')\n",
        "\n",
        "print(\"=======================================================\")\n",
        "\n",
        "b3 = buttons('SAVE PROGRESS', 5, '$')"
      ],
      "execution_count": 2,
      "outputs": [
        {
          "output_type": "stream",
          "name": "stdout",
          "text": [
            "CANCEL Button Specifications:\n",
            "Button name: CANCEL\n",
            "Number of the border characters for the top and the bottom: 28\n",
            "Number of spaces between the left side border and the first character of the button name: 10\n",
            "Number of spaces between the right side border and the last character of the button name: 10\n",
            "Characters representing the borders: x\n",
            "xxxxxxxxxxxxxxxxxxxxxxxxxxxx\n",
            "x          CANCEL          x\n",
            "xxxxxxxxxxxxxxxxxxxxxxxxxxxx\n",
            "=======================================================\n",
            "Notify Button Specifications:\n",
            "Button name: Notify\n",
            "Number of the border characters for the top and the bottom: 14\n",
            "Number of spaces between the left side border and the first character of the button name: 3\n",
            "Number of spaces between the right side border and the last character of the button name: 3\n",
            "Characters representing the borders: !\n",
            "!!!!!!!!!!!!!!\n",
            "!   Notify   !\n",
            "!!!!!!!!!!!!!!\n",
            "=======================================================\n",
            "SAVE PROGRESS Button Specifications:\n",
            "Button name: SAVE PROGRESS\n",
            "Number of the border characters for the top and the bottom: 25\n",
            "Number of spaces between the left side border and the first character of the button name: 5\n",
            "Number of spaces between the right side border and the last character of the button name: 5\n",
            "Characters representing the borders: $\n",
            "$$$$$$$$$$$$$$$$$$$$$$$$$\n",
            "$     SAVE PROGRESS     $\n",
            "$$$$$$$$$$$$$$$$$$$$$$$$$\n"
          ]
        }
      ]
    },
    {
      "cell_type": "code",
      "metadata": {
        "colab": {
          "base_uri": "https://localhost:8080/"
        },
        "id": "GPcH5udwETNg",
        "outputId": "b095ea2b-98d4-473d-b544-804b3c042452"
      },
      "source": [
        "#question number 10\n",
        "class buttons():\n",
        "    def __init__(self,word,spaces,border):\n",
        "        self.border = border\n",
        "        self.word = word\n",
        "        self.spaces = spaces\n",
        "        print(self.word,'Button Specifications:')\n",
        "\n",
        "        print('Button name:',self.word)\n",
        "        counter = 2+len(self.word)+ self.spaces + self.spaces\n",
        "\n",
        "        print('Number of the border characters for the top and the bottom:',counter)\n",
        "        print('Number of spaces between the left side border and the first character of the button name:',self.spaces)\n",
        "        print('Number of spaces between the right side border and the last character of the button name: ',self.spaces)\n",
        "        print('Characters representing the borders:',self.border)\n",
        "        print(self.border*counter)\n",
        "        print(self.border+' '*self.spaces+self.word+' '*self.spaces+self.border)\n",
        "        print(self.border*counter)\n",
        "        \n",
        "        \n",
        "word = \"CANCEL\"\n",
        "spaces = 10\n",
        "border = 'x'\n",
        "b1 = buttons(word, spaces, border)\n",
        "print(\"=======================================================\")\n",
        "b2 = buttons(\"Notify\",3, '!')\n",
        "print(\"=======================================================\")\n",
        "b3 = buttons('SAVE PROGRESS', 5, '$')"
      ],
      "execution_count": 1,
      "outputs": [
        {
          "output_type": "stream",
          "name": "stdout",
          "text": [
            "CANCEL Button Specifications:\n",
            "Button name: CANCEL\n",
            "Number of the border characters for the top and the bottom: 28\n",
            "Number of spaces between the left side border and the first character of the button name: 10\n",
            "Number of spaces between the right side border and the last character of the button name:  10\n",
            "Characters representing the borders: x\n",
            "xxxxxxxxxxxxxxxxxxxxxxxxxxxx\n",
            "x          CANCEL          x\n",
            "xxxxxxxxxxxxxxxxxxxxxxxxxxxx\n",
            "=======================================================\n",
            "Notify Button Specifications:\n",
            "Button name: Notify\n",
            "Number of the border characters for the top and the bottom: 14\n",
            "Number of spaces between the left side border and the first character of the button name: 3\n",
            "Number of spaces between the right side border and the last character of the button name:  3\n",
            "Characters representing the borders: !\n",
            "!!!!!!!!!!!!!!\n",
            "!   Notify   !\n",
            "!!!!!!!!!!!!!!\n",
            "=======================================================\n",
            "SAVE PROGRESS Button Specifications:\n",
            "Button name: SAVE PROGRESS\n",
            "Number of the border characters for the top and the bottom: 25\n",
            "Number of spaces between the left side border and the first character of the button name: 5\n",
            "Number of spaces between the right side border and the last character of the button name:  5\n",
            "Characters representing the borders: $\n",
            "$$$$$$$$$$$$$$$$$$$$$$$$$\n",
            "$     SAVE PROGRESS     $\n",
            "$$$$$$$$$$$$$$$$$$$$$$$$$\n"
          ]
        }
      ]
    }
  ]
}