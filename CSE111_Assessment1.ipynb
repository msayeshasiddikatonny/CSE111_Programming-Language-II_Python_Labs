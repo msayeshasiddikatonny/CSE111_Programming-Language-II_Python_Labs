{
  "nbformat": 4,
  "nbformat_minor": 0,
  "metadata": {
    "colab": {
      "name": "CSE111_Assessment1.ipynb",
      "provenance": [],
      "collapsed_sections": [],
      "include_colab_link": true
    },
    "kernelspec": {
      "name": "python3",
      "display_name": "Python 3"
    },
    "language_info": {
      "name": "python"
    }
  },
  "cells": [
    {
      "cell_type": "markdown",
      "metadata": {
        "id": "view-in-github",
        "colab_type": "text"
      },
      "source": [
        "<a href=\"https://colab.research.google.com/github/msayeshasiddikatonny/CSE111_Python/blob/main/CSE111_Assessment1.ipynb\" target=\"_parent\"><img src=\"https://colab.research.google.com/assets/colab-badge.svg\" alt=\"Open In Colab\"/></a>"
      ]
    },
    {
      "cell_type": "markdown",
      "metadata": {
        "id": "JTSh8e9mZHjw"
      },
      "source": [
        "\n",
        "\n",
        "\n",
        "\n",
        "\n",
        "\n",
        "\n",
        "Set 4:\n",
        "𝗤𝘂𝗲𝘀𝘁𝗶𝗼𝗻 𝟭: \n",
        "Write a Python program that will take N email IDs from the user. Create a dictionary from the N emails that will hold the user name in separate keys based on the email domain. The inputs will take N at first and then take N emails. Assume that format of the email is username@domain.com\n",
        "\n",
        "𝗦𝗮𝗺𝗽𝗹𝗲 𝗶𝗻𝗽𝘂𝘁:\n",
        "5\n",
        "bob@intel.com\n",
        "carol@amd.com\n",
        "mike@intel.com\n",
        "jon@nvidia.com\n",
        "alice@nvidia.com\n",
        "\n",
        "𝗦𝗮𝗺𝗽𝗹𝗲 𝗼𝘂𝘁𝗽𝘂𝘁:\n",
        "{ \"intel\" : [“bob”, “mike”] , \"amd\" : [“carol”], \"nvidia\" : [“jon”, “alice”] }\n",
        "\n",
        "\n",
        "\n",
        "\n",
        "\n",
        "\n"
      ]
    },
    {
      "cell_type": "code",
      "metadata": {
        "colab": {
          "base_uri": "https://localhost:8080/"
        },
        "id": "OM0OQa_ecMbO",
        "outputId": "2377ed93-5a09-4b4b-9358-94dc30b65926"
      },
      "source": [
        "N=int(input(\"Enter number of emails:\"))\n",
        "dict1={}\n",
        "for x in range(N):\n",
        " email=input(\"Enter emails: \").split(\"@\")\n",
        " Lst1=email[1].split(\".\")\n",
        " if Lst1[0] not in dict1.keys():\n",
        "  dict1[Lst1[0]]=[email[0]]\n",
        " elif Lst1[0] in dict1.keys():\n",
        "  dict1[Lst1[0]]+=[email[0]]\n",
        "print(dict1)"
      ],
      "execution_count": null,
      "outputs": [
        {
          "output_type": "stream",
          "text": [
            "Enter number of emails:5\n",
            "Enter emails: bob@intel.com\n",
            "Enter emails: carol@amd.com\n",
            "Enter emails: mike@intel.com\n",
            "Enter emails: jon@nvidia.com\n",
            "Enter emails:  alice@nvidia.com\n",
            "{'intel': ['bob', 'mike'], 'amd': ['carol'], 'nvidia': ['jon', ' alice']}\n"
          ],
          "name": "stdout"
        }
      ]
    },
    {
      "cell_type": "markdown",
      "metadata": {
        "id": "sa673yogd1Z6"
      },
      "source": [
        "Set 1:\\\n",
        "𝗤𝘂𝗲𝘀𝘁𝗶𝗼𝗻 𝟭: \\\n",
        "Write a python program that will take a number as input. Then it will create a dictionary where the digits will be the key and the value will be the number of occurrences of that digit in the input.\n",
        "\\\n",
        "𝗦𝗮𝗺𝗽𝗹𝗲 𝗶𝗻𝗽𝘂𝘁:\\\n",
        "2334528988125\n",
        "\n",
        "𝗦𝗮𝗺𝗽𝗹𝗲 𝗼𝘂𝘁𝗽𝘂𝘁: \\\n",
        "{ 2: 3, 3 : 2, 4 : 1, 5 : 2, 8 : 3, 9 : 1, 1 : 1 }"
      ]
    },
    {
      "cell_type": "code",
      "metadata": {
        "colab": {
          "base_uri": "https://localhost:8080/"
        },
        "id": "oxCJ6wCteAXB",
        "outputId": "ff4a825a-b032-4405-c695-937dd1ff200f"
      },
      "source": [
        "dic_count={}\n",
        "s=input(\"enter input \")\n",
        "for i in s:\n",
        "  n=int(i)\n",
        "  if n in dic_count:\n",
        "    dic_count[n]+=1\n",
        "  else:\n",
        "    dic_count.update({n:1})\n",
        "print(dic_count)\n",
        "'''\n",
        "number=(input(\"Enter number: \"))\n",
        "Lst=[]\n",
        "dict1={}\n",
        "for x in range(len(number)):\n",
        "   Lst.append(int(number[x]))\n",
        "for counter in Lst:\n",
        "   if counter not in dict1:\n",
        "       dict1[counter]=1\n",
        "elif counter in dict1:\n",
        "       dict1[counter]+=1\n",
        "print(dict1)\n",
        "'''"
      ],
      "execution_count": null,
      "outputs": [
        {
          "output_type": "stream",
          "text": [
            "enter input 2334528988125\n",
            "{2: 3, 3: 2, 4: 1, 5: 2, 8: 3, 9: 1, 1: 1}\n"
          ],
          "name": "stdout"
        }
      ]
    },
    {
      "cell_type": "markdown",
      "metadata": {
        "id": "AlXtlNk0jorZ"
      },
      "source": [
        "Set 2:\\\n",
        "𝗤𝘂𝗲𝘀𝘁𝗶𝗼𝗻 𝟭: \\\n",
        "Write a python program that will take a string as input. Then it will create a dictionary where the key will be only the character of the even index of the string. the value will be the number of occurrences of that character in the string. While taking the key from the string exclude space if it is in even index. The output of your program must match the given output. \\\n",
        "\n",
        "𝗦𝗮𝗺𝗽𝗹𝗲 𝗶𝗻𝗽𝘂𝘁:\\\n",
        "hello world!\n",
        "\n",
        "𝗦𝗮𝗺𝗽𝗹𝗲 𝗼𝘂𝘁𝗽𝘂𝘁:\\\n",
        "{'h': 1, 'l': 3, 'o': 2, 'w': 1, 'r': 1, 'd': 1}"
      ]
    },
    {
      "cell_type": "code",
      "metadata": {
        "colab": {
          "base_uri": "https://localhost:8080/"
        },
        "id": "wyO6x28qykpo",
        "outputId": "3c18a01a-928b-41f2-9df7-0ea06085b8bf"
      },
      "source": [
        "dic_count={}\n",
        "s=input(\"enter input \")\n",
        "for i in range(0,len(s),2):\n",
        "  \n",
        "  if s[i] not in dic_count:\n",
        "    dic_count.update({s[i]:0})\n",
        "    for j in s:\n",
        "      if j==s[i]:\n",
        "        dic_count[s[i]]+=1\n",
        "      else:\n",
        "        pass\n",
        "  else:\n",
        "    pass\n",
        "print(dic_count)"
      ],
      "execution_count": null,
      "outputs": [
        {
          "output_type": "stream",
          "text": [
            "enter input hello world!\n",
            "{'h': 1, 'l': 3, 'o': 2, 'w': 1, 'r': 1, 'd': 1}\n"
          ],
          "name": "stdout"
        }
      ]
    },
    {
      "cell_type": "markdown",
      "metadata": {
        "id": "G7ehBCwHdzgD"
      },
      "source": [
        "Set 3:\\\n",
        "𝗤𝘂𝗲𝘀𝘁𝗶𝗼𝗻 𝟭: \\\n",
        "Write a Python program that will take N names from the user. Create a dictionary from the N names that will hold First_name, Middle_name and Last_name in separate keys. The inputs will take N at first and then take N names. You can assume that the names will contain less than or equal 3 words and there will be a single space between each part of the name.\n",
        "\n",
        "𝗦𝗮𝗺𝗽𝗹𝗲 𝗶𝗻𝗽𝘂𝘁:\\\n",
        "4\\\n",
        "Zubayer Ahmed\\\n",
        "Sadia Nur Amin\\\n",
        "Mehedi Hasan Shawon\\\n",
        "Nafis\n",
        "\n",
        "𝗦𝗮𝗺𝗽𝗹𝗲 𝗼𝘂𝘁𝗽𝘂𝘁:\\\n",
        "{ \"Fname\" : [“Zubayer”, “Sadia”, “Mehedi”, “Nafis”] , \"Mname\" : [“Nur”, “Hasan”], \"Lname\" : [“Ahmed”, “Amin”, “Shawon”] }"
      ]
    },
    {
      "cell_type": "code",
      "metadata": {
        "colab": {
          "base_uri": "https://localhost:8080/"
        },
        "id": "VjNa7Dlgz2X8",
        "outputId": "8d83267d-ad49-4f2a-fa6b-796b03a3a2d7"
      },
      "source": [
        "n=int(input('enter how many names '))\n",
        "dict_name={\"Fname\" :[],\"Mname\" :[],\"Lname\" :[]}\n",
        "for i in range(n):\n",
        "  s=input(\"enter name \").split()\n",
        "  if len(s)==3:\n",
        "     dict_name[\"Fname\"].append(s[0])\n",
        "     dict_name[\"Lname\"].append(s[2])\n",
        "     dict_name[\"Mname\"].append(s[1]) \n",
        "  elif len(s)==3:\n",
        "     dict_name[\"Fname\"].append(s[0])\n",
        "     dict_name[\"Lname\"].append(s[1])\n",
        "  else:\n",
        "     dict_name[\"Fname\"].append(s[0])\n",
        "print(dict_name)"
      ],
      "execution_count": null,
      "outputs": [
        {
          "output_type": "stream",
          "text": [
            "enter how many names 4\n",
            "enter name Zubayer Ahmed\n",
            "enter name Sadia Nur Amin\n",
            "enter name Mehedi Hasan Shawon\n",
            "enter name Nafis\n",
            "{'Fname': ['Zubayer', 'Sadia', 'Mehedi', 'Nafis'], 'Mname': ['Nur', 'Hasan'], 'Lname': ['Amin', 'Shawon']}\n"
          ],
          "name": "stdout"
        }
      ]
    },
    {
      "cell_type": "markdown",
      "metadata": {
        "id": "GoAGds46cJqu"
      },
      "source": [
        "Set 5:\n",
        "𝗤𝘂𝗲𝘀𝘁𝗶𝗼𝗻 𝟭: \n",
        "Valorant is a first-person shooting(FPS) game where there will be several heroes each with some special role(Initiator, Controller, Sentinel, Duelist) to play in the game and you with 4 of your friends have to pick any 5 heroes to play a match as a team.  Now assume you will be playing a match in Valorant but you and your friends need to pick a perfect team of 5 heroes based on their roles.  Perfect team consists of 2 duelists, 1 controller, 1 initiator and 1 sentinel. First, create a dictionary of all heroes with the names of the heroes as the Key and their role as the value of the corresponding key. The code for creating the dictionary is given below. \n",
        "\n",
        "\n",
        "#given dictionary\n",
        "dict= {“Breach” : “Initiator” , “Brim”: “Controller” “Cypher”: “Sentinel”, “Jett”: “Duelist”, “Omen”: “Controller”, “Phoenix”: “Duelist”, “Raze”: “Duelist”, “Reyna”: “Duelist”, “Sage”: “Sentinel”, “Sova”: “Initiator”, “Skye”: “Initiator” , “Killjoy”: “Sentinel” }\n",
        "\n",
        "\n",
        "Now you will be given a list of 7 heroes as input and you have to determine whether you can create a perfect team of 5 heroes from the input hero list. If yes, print \"We have a perfect team. Let’s win this game.\" Otherwise, print “We don’t have a perfect team. It will be hard to win this match.”\n",
        "\n",
        "𝗦𝗮𝗺𝗽𝗹𝗲 𝗶𝗻𝗽𝘂𝘁 𝟭:\\\n",
        "Brim Omen Breach Jett Killjoy Skye Reyna\n",
        "\n",
        "𝗦𝗮𝗺𝗽𝗹𝗲 𝗼𝘂𝘁𝗽𝘂𝘁 𝟭:\\\n",
        "We have a perfect team. Let’s win this game.\n",
        "\n",
        "\n",
        "𝗦𝗮𝗺𝗽𝗹𝗲 𝗶𝗻𝗽𝘂𝘁 𝟮:\\\n",
        "Omen Jett Phoenix Reyna Sage Cypher Brim\n",
        "\n",
        "𝗦𝗮𝗺𝗽𝗹𝗲 𝗼𝘂𝘁𝗽𝘂𝘁 𝟮:\\\n",
        "We don’t have a perfect team. It will be hard to win this match.\n"
      ]
    },
    {
      "cell_type": "code",
      "metadata": {
        "id": "2aIq4VsMdETb",
        "colab": {
          "base_uri": "https://localhost:8080/"
        },
        "outputId": "3eabbece-f609-4cd9-e226-f454ed37d676"
      },
      "source": [
        "dict= {'Breach' : 'Initiator' , 'Brim': 'Controller', 'Cypher': 'Sentinel', 'Jett': 'Duelist', \n",
        "       'Omen': 'Controller', 'Phoenix': 'Duelist', 'Raze': 'Duelist', 'Reyna': 'Duelist', \n",
        "       'Sage': 'Sentinel', 'Sova': 'Initiator', 'Skye': 'Initiator' , 'Killjoy': 'Sentinel'}\n",
        "inp=input().split()\n",
        "a1=0\n",
        "a2=0\n",
        "a3=0\n",
        "a4=0\n",
        "for i in inp:\n",
        "  if dict[i]==\"Duelist\":\n",
        "    a1+=1\n",
        "  elif dict[i]==\"Controller\":\n",
        "    a2+=1\n",
        "  elif dict[i]==\"Initiator\":\n",
        "    a3+=1\n",
        "  elif dict[i]==\"Sentinel\":\n",
        "    a4+=1\n",
        "if a1>=2 and a2>0 and a3>0 and a4>0:\n",
        " print(\"We have a perfect team. Let’s win this game\")\n",
        "else:\n",
        " print(\"not\")"
      ],
      "execution_count": 1,
      "outputs": [
        {
          "output_type": "stream",
          "text": [
            "Brim Omen Breach Jett Killjoy Skye Reyna\n",
            "We have a perfect team. Let’s win this game\n"
          ],
          "name": "stdout"
        }
      ]
    },
    {
      "cell_type": "markdown",
      "metadata": {
        "id": "wGf1R8cbZP0f"
      },
      "source": [
        "Set 6: \\\n",
        "𝗤𝘂𝗲𝘀𝘁𝗶𝗼𝗻 𝟭: \\\n",
        "Write a python program where at first take N as input and then in the next N line take the name of N commodities and their price as input. After that create a dictionary where the 3 keys will be “High”, “Medium”, “Low”. The name of the commodities will be added to these keys as value based on their price according to the following:\\\n",
        "                price < 100 :  Low \\\n",
        "               100<= price <500 : Medium\\\n",
        "               500>= price: High\n",
        "\\\n",
        "\n",
        "\\\n",
        "\n",
        "Note: You must take input from the user according to the given sample input. For simplicity, assume the name of each commodity will be a single word.\n",
        "\n",
        "\n",
        "𝗦𝗮𝗺𝗽𝗹𝗲 𝗶𝗻𝗽𝘂𝘁:\\\n",
        "5\\\n",
        "ItemA 80\\\n",
        "ItemB 120\\\n",
        "ItemC 50\\\n",
        "ItemD  560\\\n",
        "ItemE 450\n",
        "\n",
        "𝗦𝗮𝗺𝗽𝗹𝗲 𝗼𝘂𝘁𝗽𝘂𝘁:\\\n",
        "{'high': ['ItemD'], 'low': ['ItemA', 'ItemC'], 'medium': ['ItemB', 'ItemE']}"
      ]
    },
    {
      "cell_type": "code",
      "metadata": {
        "colab": {
          "base_uri": "https://localhost:8080/",
          "height": 235
        },
        "id": "Wit7LSu0Znii",
        "outputId": "2b0c8b29-396b-44a4-86c8-4f1789ab77bc"
      },
      "source": [
        " \n",
        "dic_price={'high':[],'low':[],'medium':[]}\n",
        "n=int(input(\"enter how many inputs \"))\n",
        "for i in range(n):\n",
        "  x, y = input(\"Enter a two value: \").split()\n",
        "  p=int(y)\n",
        "  if p<100:\n",
        "    dic_price['low'].append(x)\n",
        "  elif p<500:\n",
        "    dic_price['medium'].append(x)\n",
        "  else:\n",
        "    dic_price['high'].append(x)\n",
        "print(dic_price)\n",
        "'''\n",
        "input_1=input('enter some')\n",
        "dict_1=[]\n",
        "for i in range(int(input_1)):\n",
        " s=input(\"Enter items and price\")\n",
        " dict_1.append(s)\n",
        "print(dict_1)\n",
        "dict_2={}\n",
        "for i in dict_1:\n",
        " y=i.split(\" \")\n",
        " dict_2[y[0]]=int(y[1])\n",
        "print(dict_2)\n",
        "dict_3={}\n",
        "for key,value in dict_2.items():\n",
        " print(value)\n",
        " if value<100:\n",
        "  dict_3[value]=\"Low\"\n",
        " elif value>=100 and value<=500:\n",
        "  dict_3[value]=\"Medium\"\n",
        " elif value>=500:\n",
        "  dict_3[value]=\"Hight\"\n",
        "print(dict_3)\n",
        "dict_4={}\n",
        "for i in dict_3:\n",
        " y2=dict_3.split(\":\")\n",
        " dict_4[y2[1]]=y2[0]\n",
        "print(dict_4)\n",
        " \n",
        "5\n",
        "ItemA 80\n",
        "ItemB 120\n",
        "ItemC 50\n",
        "ItemD 560\n",
        "ItemE 450\n",
        "'''"
      ],
      "execution_count": 5,
      "outputs": [
        {
          "output_type": "stream",
          "text": [
            "enter how many inputs 5\n",
            "Enter a two value: ItemA 80\n",
            "Enter a two value: ItemB 120\n",
            "Enter a two value: ItemC 50\n",
            "Enter a two value: ItemD 560\n",
            "Enter a two value: ItemE 450\n",
            "{'high': ['ItemD'], 'low': ['ItemA', 'ItemC'], 'medium': ['ItemB', 'ItemE']}\n"
          ],
          "name": "stdout"
        },
        {
          "output_type": "execute_result",
          "data": {
            "application/vnd.google.colaboratory.intrinsic+json": {
              "type": "string"
            },
            "text/plain": [
              "'\\ninput_1=input(\\'enter some\\')\\ndict_1=[]\\nfor i in range(int(input_1)):\\ns=input(\"Enter items and price\")\\ndict_1.append(s)\\nprint(dict_1)\\ndict_2={}\\nfor i in dict_1:\\ny=i.split(\" \")\\ndict_2[y[0]]=int(y[1])\\nprint(dict_2)\\ndict_3={}\\nfor key,value in dict_2.items():\\nprint(value)\\nif value<100:\\n dict_3[value]=\"Low\"\\nelif value>=100 and value<=500:\\n dict_3[value]=\"Medium\"\\nelif value>=500:\\n dict_3[value]=\"Hight\"\\nprint(dict_3)\\ndict_4={}\\nfor i in dict_3:\\ny2=dict_3.split(\":\")\\ndict_4[y2[1]]=y2[0]\\nprint(dict_4)\\n\\n5\\nItemA 80\\nItemB 120\\nItemC 50\\nItemD 560\\nItemE 450\\n'"
            ]
          },
          "metadata": {
            "tags": []
          },
          "execution_count": 5
        }
      ]
    }
  ]
}