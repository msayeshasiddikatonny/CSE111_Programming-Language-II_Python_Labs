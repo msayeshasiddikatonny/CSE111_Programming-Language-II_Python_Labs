{
  "nbformat": 4,
  "nbformat_minor": 0,
  "metadata": {
    "colab": {
      "name": "CSE111_Assessment1.ipynb",
      "provenance": [],
      "collapsed_sections": [],
      "include_colab_link": true
    },
    "kernelspec": {
      "name": "python3",
      "display_name": "Python 3"
    },
    "language_info": {
      "name": "python"
    }
  },
  "cells": [
    {
      "cell_type": "markdown",
      "metadata": {
        "id": "view-in-github",
        "colab_type": "text"
      },
      "source": [
        "<a href=\"https://colab.research.google.com/github/msayeshasiddikatonny/CSE111_Python/blob/main/CSE111_Assessment1.ipynb\" target=\"_parent\"><img src=\"https://colab.research.google.com/assets/colab-badge.svg\" alt=\"Open In Colab\"/></a>"
      ]
    },
    {
      "cell_type": "markdown",
      "metadata": {
        "id": "sa673yogd1Z6"
      },
      "source": [
        "Set 1\n",
        "\n",
        "---\n",
        "\n",
        "Write a python program that will take a number as input. Then it will create a dictionary where the digits will be the key and the value will be the number of occurrences of that digit in the input.\n",
        "\\\n",
        "𝗦𝗮𝗺𝗽𝗹𝗲 𝗶𝗻𝗽𝘂𝘁:\\\n",
        "2334528988125\n",
        "\n",
        "𝗦𝗮𝗺𝗽𝗹𝗲 𝗼𝘂𝘁𝗽𝘂𝘁: \\\n",
        "{ 2: 3, 3 : 2, 4 : 1, 5 : 2, 8 : 3, 9 : 1, 1 : 1 }"
      ]
    },
    {
      "cell_type": "code",
      "metadata": {
        "colab": {
          "base_uri": "https://localhost:8080/"
        },
        "id": "oxCJ6wCteAXB",
        "outputId": "dcb53992-8d4f-4163-ff81-0e8458e0d552"
      },
      "source": [
        "n = int(input())\n",
        "dic = {}\n",
        "\n",
        "# Handling if the number has trailing zeros\n",
        "if n % 10 == 0:\n",
        "    n_prime = n + 1\n",
        "else:\n",
        "    n_prime = n\n",
        "\n",
        "digits = 0\n",
        "\n",
        "# Counting digits\n",
        "while n_prime > 0:\n",
        "    digits += 1\n",
        "    n_prime //= 10\n",
        "\n",
        "divisor = 10 ** (digits - 1)\n",
        "\n",
        "for i in range(digits):\n",
        "    val = n // divisor\n",
        "    if val in dic:\n",
        "        dic[val] += 1\n",
        "    else:\n",
        "        dic[val] = 1\n",
        "    n %= divisor\n",
        "    divisor //= 10\n",
        "\n",
        "print(dic)"
      ],
      "execution_count": null,
      "outputs": [
        {
          "output_type": "stream",
          "text": [
            "2334528988125\n",
            "{2: 3, 3: 2, 4: 1, 5: 2, 8: 3, 9: 1, 1: 1}\n"
          ],
          "name": "stdout"
        }
      ]
    },
    {
      "cell_type": "markdown",
      "metadata": {
        "id": "AlXtlNk0jorZ"
      },
      "source": [
        "Set 2\n",
        "\n",
        "---\n",
        "\n",
        "Write a python program that will take a string as input. Then it will create a dictionary where the key will be only the character of the even index of the string. the value will be the number of occurrences of that character in the string. While taking the key from the string exclude space if it is in even index. The output of your program must match the given output. \\\n",
        "\n",
        "𝗦𝗮𝗺𝗽𝗹𝗲 𝗶𝗻𝗽𝘂𝘁:\\\n",
        "hello world!\n",
        "\n",
        "𝗦𝗮𝗺𝗽𝗹𝗲 𝗼𝘂𝘁𝗽𝘂𝘁:\\\n",
        "{'h': 1, 'l': 3, 'o': 2, 'w': 1, 'r': 1, 'd': 1}"
      ]
    },
    {
      "cell_type": "code",
      "metadata": {
        "colab": {
          "base_uri": "https://localhost:8080/"
        },
        "id": "wyO6x28qykpo",
        "outputId": "97cc0447-3724-453e-8863-0ec283088be7"
      },
      "source": [
        "string = input()\n",
        "dic = {}\n",
        "\n",
        "# Preparing dictionary\n",
        "for i in range(len(string)):\n",
        "    if i % 2 == 0 and string[i] != ' ':\n",
        "        dic[string[i]] = 0 \n",
        "\n",
        "# Counting occurrences\n",
        "for ch in string:\n",
        "    if ch in dic:\n",
        "        dic[ch] += 1\n",
        "\n",
        "print(dic)"
      ],
      "execution_count": null,
      "outputs": [
        {
          "output_type": "stream",
          "text": [
            "hello world!\n",
            "{'h': 1, 'l': 3, 'o': 2, 'w': 1, 'r': 1, 'd': 1}\n"
          ],
          "name": "stdout"
        }
      ]
    },
    {
      "cell_type": "markdown",
      "metadata": {
        "id": "G7ehBCwHdzgD"
      },
      "source": [
        "\n",
        "---\n",
        "\n",
        "Set 3\n",
        "\n",
        "---\n",
        "\n",
        "Write a Python program that will take N names from the user. Create a dictionary from the N names that will hold First_name, Middle_name and Last_name in separate keys. The inputs will take N at first and then take N names. You can assume that the names will contain less than or equal 3 words and there will be a single space between each part of the name.\n",
        "\n",
        "𝗦𝗮𝗺𝗽𝗹𝗲 𝗶𝗻𝗽𝘂𝘁:\\\n",
        "4\\\n",
        "Zubayer Ahmed\\\n",
        "Sadia Nur Amin\\\n",
        "Mehedi Hasan Shawon\\\n",
        "Nafis\n",
        "\n",
        "𝗦𝗮𝗺𝗽𝗹𝗲 𝗼𝘂𝘁𝗽𝘂𝘁:\\\n",
        "{ \"Fname\" : [“Zubayer”, “Sadia”, “Mehedi”, “Nafis”] , \"Mname\" : [“Nur”, “Hasan”], \"Lname\" : [“Ahmed”, “Amin”, “Shawon”] }"
      ]
    },
    {
      "cell_type": "code",
      "metadata": {
        "colab": {
          "base_uri": "https://localhost:8080/"
        },
        "id": "VjNa7Dlgz2X8",
        "outputId": "574ac1c2-65b9-4a3a-89b7-b88880a2fc6c"
      },
      "source": [
        "n = int(input())\n",
        "dic = {'Fname': [], 'Mname': [], 'Lname': []}\n",
        "\n",
        "for i in range(n):\n",
        "    name = input().split()\n",
        "    if len(name) == 1:\n",
        "        dic['Fname'].append(name[0])\n",
        "    elif len(name) == 2:\n",
        "        dic['Fname'].append(name[0])\n",
        "        dic['Lname'].append(name[1])\n",
        "    elif len(name) == 3:\n",
        "        dic['Fname'].append(name[0])\n",
        "        dic['Mname'].append(name[1])\n",
        "        dic['Lname'].append(name[2])\n",
        "\n",
        "print(dic)"
      ],
      "execution_count": null,
      "outputs": [
        {
          "output_type": "stream",
          "text": [
            "4\n",
            "Zubayer Ahmed\n",
            "Sadia Nur Amin\n",
            "Mehedi Hasan Shawon\n",
            "Nafis\n",
            "{'Fname': ['Zubayer', 'Sadia', 'Mehedi', 'Nafis'], 'Mname': ['Nur', 'Hasan'], 'Lname': ['Ahmed', 'Amin', 'Shawon']}\n"
          ],
          "name": "stdout"
        }
      ]
    },
    {
      "cell_type": "markdown",
      "metadata": {
        "id": "JTSh8e9mZHjw"
      },
      "source": [
        "\n",
        "\n",
        "\n",
        "\n",
        "\n",
        "\n",
        "\n",
        "Set 4:\n",
        "𝗤𝘂𝗲𝘀𝘁𝗶𝗼𝗻 𝟭: \n",
        "Write a Python program that will take N email IDs from the user. Create a dictionary from the N emails that will hold the user name in separate keys based on the email domain. The inputs will take N at first and then take N emails. Assume that format of the email is username@domain.com\n",
        "\n",
        "𝗦𝗮𝗺𝗽𝗹𝗲 𝗶𝗻𝗽𝘂𝘁:\\\n",
        "5\\\n",
        "bob@intel.com\\\n",
        "carol@amd.com\\\n",
        "mike@intel.com\\\n",
        "jon@nvidia.com\\\n",
        "alice@nvidia.com\n",
        "\n",
        "𝗦𝗮𝗺𝗽𝗹𝗲 𝗼𝘂𝘁𝗽𝘂𝘁:\\\n",
        "{ \"intel\" : [“bob”, “mike”] , \"amd\" : [“carol”], \"nvidia\" : [“jon”, “alice”] }\n",
        "\n",
        "\n",
        "\n",
        "\n",
        "\n",
        "\n"
      ]
    },
    {
      "cell_type": "code",
      "metadata": {
        "colab": {
          "base_uri": "https://localhost:8080/"
        },
        "id": "EOBoSPUjhZt_",
        "outputId": "d4250ca4-e58c-4c1e-fd01-4d1766e5d7fb"
      },
      "source": [
        "n = int(input())\n",
        "dic = {}\n",
        "\n",
        "for i in range(n):\n",
        "    email = input().split('@')\n",
        "    name = email[0]\n",
        "    domain = email[1]\n",
        "    domain = domain[:-4]\n",
        "    if domain in dic:\n",
        "        dic[domain].append(name)\n",
        "    else:\n",
        "        dic[domain] = [name]\n",
        "\n",
        "print(dic)"
      ],
      "execution_count": null,
      "outputs": [
        {
          "output_type": "stream",
          "text": [
            "5\n",
            "bob@intel.com\n",
            "carol@amd.com\n",
            "mike@intel.com\n",
            "jon@nvidia.com\n",
            "alice@nvidia.com\n",
            "{'intel': ['bob', 'mike'], 'amd': ['carol'], 'nvidia': ['jon', 'alice']}\n"
          ],
          "name": "stdout"
        }
      ]
    },
    {
      "cell_type": "markdown",
      "metadata": {
        "id": "GoAGds46cJqu"
      },
      "source": [
        "Set 5:\n",
        "\n",
        "\n",
        "---\n",
        "\n",
        "Valorant is a first-person shooting(FPS) game where there will be several heroes each with some special role(Initiator, Controller, Sentinel, Duelist) to play in the game and you with 4 of your friends have to pick any 5 heroes to play a match as a team.  Now assume you will be playing a match in Valorant but you and your friends need to pick a perfect team of 5 heroes based on their roles.  Perfect team consists of 2 duelists, 1 controller, 1 initiator and 1 sentinel. First, create a dictionary of all heroes with the names of the heroes as the Key and their role as the value of the corresponding key. The code for creating the dictionary is given below. \n",
        "\n",
        "```\n",
        "#given dictionary\n",
        "dict= {“Breach” : “Initiator” , “Brim”: “Controller”, \n",
        "       “Cypher”: “Sentinel”, “Jett”: “Duelist”, \n",
        "       “Omen”: “Controller”, “Phoenix”: “Duelist”, \n",
        "       “Raze”: “Duelist”, “Reyna”: “Duelist”, \n",
        "       “Sage”: “Sentinel”, “Sova”: “Initiator”, \n",
        "       “Skye”: “Initiator” , “Killjoy”: “Sentinel” }\n",
        "```\n",
        "\n",
        "Now you will be given a list of 7 heroes as input and you have to determine whether you can create a perfect team of 5 heroes from the input hero list. If yes, print \"We have a perfect team. Let’s win this game.\" Otherwise, print “We don’t have a perfect team. It will be hard to win this match.”\n",
        "\n",
        "𝗦𝗮𝗺𝗽𝗹𝗲 𝗶𝗻𝗽𝘂𝘁 𝟭:\\\n",
        "Brim Omen Breach Jett Killjoy Skye Reyna\n",
        "\n",
        "𝗦𝗮𝗺𝗽𝗹𝗲 𝗼𝘂𝘁𝗽𝘂𝘁 𝟭:\\\n",
        "We have a perfect team. Let’s win this game.\n",
        "\n",
        "\n",
        "𝗦𝗮𝗺𝗽𝗹𝗲 𝗶𝗻𝗽𝘂𝘁 𝟮:\\\n",
        "Omen Jett Phoenix Reyna Sage Cypher Brim\n",
        "\n",
        "𝗦𝗮𝗺𝗽𝗹𝗲 𝗼𝘂𝘁𝗽𝘂𝘁 𝟮:\\\n",
        "We don’t have a perfect team. It will be hard to win this match.\n"
      ]
    },
    {
      "cell_type": "code",
      "metadata": {
        "id": "2aIq4VsMdETb",
        "colab": {
          "base_uri": "https://localhost:8080/"
        },
        "outputId": "e832434d-7571-42f3-a250-ef1f0af1a18b"
      },
      "source": [
        "dict= {'Breach' : 'Initiator' , 'Brim': 'Controller', 'Cypher': 'Sentinel', 'Jett': 'Duelist', \n",
        "       'Omen': 'Controller', 'Phoenix': 'Duelist', 'Raze': 'Duelist', 'Reyna': 'Duelist', \n",
        "       'Sage': 'Sentinel', 'Sova': 'Initiator', 'Skye': 'Initiator' , 'Killjoy': 'Sentinel'}\n",
        "\n",
        "dict_score = {'Duelist': 0, 'Controller': 0, 'Initiator': 0, 'Sentinel': 0}\n",
        "\n",
        "heros = input().split()\n",
        "\n",
        "for hero in heros:\n",
        "    dict_score[dict[hero]] += 1\n",
        "\n",
        "if dict_score['Duelist'] >= 2 and dict_score['Controller'] >= 1 and dict_score['Initiator'] >= 1 and dict_score['Sentinel'] >= 1:\n",
        "    print('We have a perfect team. Let’s win this game.')\n",
        "else:\n",
        "    print('We don’t have a perfect team. It will be hard to win this match.')"
      ],
      "execution_count": null,
      "outputs": [
        {
          "output_type": "stream",
          "text": [
            "Brim Omen Breach Jett Killjoy Skye Reyna\n",
            "We have a perfect team. Let’s win this game.\n"
          ],
          "name": "stdout"
        }
      ]
    },
    {
      "cell_type": "markdown",
      "metadata": {
        "id": "wGf1R8cbZP0f"
      },
      "source": [
        "Set 6: \n",
        "---\n",
        "Write a python program where at first take N as input and then in the next N line take the name of N commodities and their price as input. After that create a dictionary where the 3 keys will be “High”, “Medium”, “Low”. The name of the commodities will be added to these keys as value based on their price according to the following:\\\n",
        "               price < 100 :  Low \\\n",
        "               100<= price <500 : Medium\\\n",
        "               500>= price: High\n",
        "\n",
        "\n",
        "Note: You must take input from the user according to the given sample input. For simplicity, assume the name of each commodity will be a single word.\n",
        "\n",
        "\n",
        "𝗦𝗮𝗺𝗽𝗹𝗲 𝗶𝗻𝗽𝘂𝘁:\\\n",
        "5\\\n",
        "ItemA 80\\\n",
        "ItemB 120\\\n",
        "ItemC 50\\\n",
        "ItemD  560\\\n",
        "ItemE 450\n",
        "\n",
        "𝗦𝗮𝗺𝗽𝗹𝗲 𝗼𝘂𝘁𝗽𝘂𝘁:\\\n",
        "{'high': ['ItemD'], 'low': ['ItemA', 'ItemC'], 'medium': ['ItemB', 'ItemE']}"
      ]
    },
    {
      "cell_type": "code",
      "metadata": {
        "colab": {
          "base_uri": "https://localhost:8080/"
        },
        "id": "Wit7LSu0Znii",
        "outputId": "68633c57-a120-4eab-cb41-460693839530"
      },
      "source": [
        "n = int(input())\n",
        "dic = {'high': [], 'low': [], 'medium': []}\n",
        "\n",
        "for i in range(n):\n",
        "    product = input().split()\n",
        "    item = product[0]\n",
        "    price = int(product[1])\n",
        "\n",
        "    if price < 100:\n",
        "        dic['low'].append(item)\n",
        "    elif price < 500:\n",
        "        dic['medium'].append(item)\n",
        "    else:\n",
        "        dic['high'].append(item)\n",
        "\n",
        "print(dic)"
      ],
      "execution_count": null,
      "outputs": [
        {
          "output_type": "stream",
          "text": [
            "5\n",
            "ItemA 80\n",
            "ItemB 120\n",
            "ItemC 50\n",
            "ItemD 560\n",
            "ItemE 450\n",
            "{'high': ['ItemD'], 'low': ['ItemA', 'ItemC'], 'medium': ['ItemB', 'ItemE']}\n"
          ],
          "name": "stdout"
        }
      ]
    }
  ]
}